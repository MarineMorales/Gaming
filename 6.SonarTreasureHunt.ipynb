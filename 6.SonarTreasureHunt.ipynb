{
 "cells": [
  {
   "cell_type": "markdown",
   "id": "bb9bd774-04e1-4d70-951d-b62dc655c4d0",
   "metadata": {},
   "source": [
    "# Game: Sonar Treasure Hunt"
   ]
  },
  {
   "cell_type": "markdown",
   "id": "3f762a07-5ce2-45c8-878d-48fc5219bf6b",
   "metadata": {
    "tags": []
   },
   "source": [
    "## 1. Rules"
   ]
  },
  {
   "cell_type": "markdown",
   "id": "ca618903-ff42-494d-8c2d-81f6fbb195bd",
   "metadata": {
    "tags": []
   },
   "source": [
    "In this game, the player drops snoar devices at various places in the ocean to locate treasure chests sunken under the sea. The sonar devices will then tell the player how far away the closest treasure chest is, but not in what direction. Hence the player needs to place mutliple sonar devices to be able to figure out the location of the treasure chest. The player has only 20 sonar devices to use to find the 3 treasure chests."
   ]
  },
  {
   "cell_type": "markdown",
   "id": "21aeb0cc-4612-421c-b8fd-722c944e1a6a",
   "metadata": {},
   "source": [
    "## 2. Flowchart"
   ]
  },
  {
   "cell_type": "code",
   "execution_count": 1,
   "id": "7929ca97-900b-4c53-ae6f-0584fd46a464",
   "metadata": {},
   "outputs": [],
   "source": [
    "from graphviz import Digraph"
   ]
  },
  {
   "cell_type": "code",
   "execution_count": 2,
   "id": "cc69a6fd-a032-4082-b97f-dbdcf82f0d5b",
   "metadata": {},
   "outputs": [],
   "source": [
    "dot = Digraph(comment='Sonar Treasure Hunt')\n",
    "\n",
    "dot.node('START', 'START', shape='oval', style='filled', fillcolor='grey')\n",
    "dot.node('Ask Display Instruction', 'Ask Display \\n Instruction')\n",
    "dot.node('Display Instructions', 'Display \\n Instructions')\n",
    "dot.node('Generate Random Chests', 'Generate \\n Random Chests')\n",
    "dot.node('Display Board', 'Display Board')\n",
    "dot.node('Check if run out of Sonar Devices', 'Check if run out \\n of Sonar Devices')\n",
    "\n",
    "player_loses = Digraph('Player loses', node_attr={'shape': 'doublecircle', 'color': 'red', 'style': 'filled', 'fillcolor': 'white'})\n",
    "player_loses.node('Lose','Lose')\n",
    "dot.subgraph(player_loses)\n",
    "\n",
    "dot.node('Ask for Move', 'Ask for Move')\n",
    "dot.node('Check Chest found', 'Check Chest found')\n",
    "dot.node(\"Refresh Sonars's Insights with Next Closest Chest\",\"Refresh Sonars's \\n Insights with Next \\n Closest Chest\")\n",
    "dot.node('All Chests found?', 'All Chests found?')\n",
    "\n",
    "player_wins = Digraph('Player wins', node_attr={'shape': 'doublecircle', 'color': 'green', 'style': 'filled', 'fillcolor': 'white'})\n",
    "player_wins.node('Win','Win')\n",
    "dot.subgraph(player_wins)\n",
    "\n",
    "dot.node('Decrement Sonar Devices Count', 'Decrement Sonar \\n Devices Count')\n",
    "\n",
    "dot.node('Play Again?', 'Play Again?')\n",
    "dot.node('END', 'END', shape='oval', style='filled', fillcolor='grey')"
   ]
  },
  {
   "cell_type": "code",
   "execution_count": 3,
   "id": "eddfbbf0-5ed6-4b3f-93e1-be56a34d6094",
   "metadata": {},
   "outputs": [],
   "source": [
    "dot.edge('START', 'Ask Display Instruction')\n",
    "dot.edge('Ask Display Instruction', 'Display Instructions', label='Yes')\n",
    "dot.edge('Display Instructions', 'Generate Random Chests')\n",
    "dot.edge('Ask Display Instruction', 'Generate Random Chests', label='No')\n",
    "dot.edge('Generate Random Chests', 'Check if run out of Sonar Devices')\n",
    "\n",
    "dot.edge('Check if run out of Sonar Devices', 'Lose', label='SonarDevices == 0')\n",
    "dot.edge(\"Lose\", 'Play Again?')\n",
    "\n",
    "dot.edge('Check if run out of Sonar Devices','Display Board', label='SonarDevices > 0')\n",
    "dot.edge('Display Board','Ask for Move')\n",
    "dot.edge('Ask for Move', 'Check Chest found')\n",
    "\n",
    "dot.edge('Check Chest found', \"Refresh Sonars's Insights with Next Closest Chest\", label='One Chest found: \\n Chests-=1')\n",
    "dot.edge(\"Refresh Sonars's Insights with Next Closest Chest\", 'All Chests found?')\n",
    "dot.edge('All Chests found?', 'Win', label='Chests==0')\n",
    "dot.edge(\"Win\", 'Play Again?')\n",
    "dot.edge('All Chests found?', 'Decrement Sonar Devices Count', label='Chests>0')\n",
    "\n",
    "dot.edge('Check Chest found', 'Decrement Sonar Devices Count', label='No Chest found: \\n Chests-=0')\n",
    "dot.edge('Decrement Sonar Devices Count', 'Check if run out of Sonar Devices')   \n",
    "    \n",
    "dot.edge('Play Again?', \"Generate Random Chests\", label='Yes')\n",
    "dot.edge('Play Again?', 'END', label='No')"
   ]
  },
  {
   "cell_type": "code",
   "execution_count": 4,
   "id": "006bdffc-c75e-4a0b-801e-3c98785bd73c",
   "metadata": {
    "tags": []
   },
   "outputs": [
    {
     "data": {
      "image/svg+xml": [
       "<?xml version=\"1.0\" encoding=\"UTF-8\" standalone=\"no\"?>\n",
       "<!DOCTYPE svg PUBLIC \"-//W3C//DTD SVG 1.1//EN\"\n",
       " \"http://www.w3.org/Graphics/SVG/1.1/DTD/svg11.dtd\">\n",
       "<!-- Generated by graphviz version 7.1.0 (20230121.1956)\n",
       " -->\n",
       "<!-- Pages: 1 -->\n",
       "<svg width=\"437pt\" height=\"1232pt\"\n",
       " viewBox=\"0.00 0.00 436.60 1232.10\" xmlns=\"http://www.w3.org/2000/svg\" xmlns:xlink=\"http://www.w3.org/1999/xlink\">\n",
       "<g id=\"graph0\" class=\"graph\" transform=\"scale(1 1) rotate(0) translate(4 1228.1)\">\n",
       "<polygon fill=\"white\" stroke=\"none\" points=\"-4,4 -4,-1228.1 432.6,-1228.1 432.6,4 -4,4\"/>\n",
       "<!-- START -->\n",
       "<g id=\"node1\" class=\"node\">\n",
       "<title>START</title>\n",
       "<ellipse fill=\"grey\" stroke=\"black\" cx=\"294.6\" cy=\"-1206.1\" rx=\"40.09\" ry=\"18\"/>\n",
       "<text text-anchor=\"middle\" x=\"294.6\" y=\"-1202.4\" font-family=\"Times New Roman,serif\" font-size=\"14.00\">START</text>\n",
       "</g>\n",
       "<!-- Ask Display Instruction -->\n",
       "<g id=\"node2\" class=\"node\">\n",
       "<title>Ask Display Instruction</title>\n",
       "<ellipse fill=\"none\" stroke=\"black\" cx=\"294.6\" cy=\"-1124.23\" rx=\"62.87\" ry=\"26.74\"/>\n",
       "<text text-anchor=\"middle\" x=\"294.6\" y=\"-1128.03\" font-family=\"Times New Roman,serif\" font-size=\"14.00\">Ask Display </text>\n",
       "<text text-anchor=\"middle\" x=\"294.6\" y=\"-1113.03\" font-family=\"Times New Roman,serif\" font-size=\"14.00\"> Instruction</text>\n",
       "</g>\n",
       "<!-- START&#45;&gt;Ask Display Instruction -->\n",
       "<g id=\"edge1\" class=\"edge\">\n",
       "<title>START&#45;&gt;Ask Display Instruction</title>\n",
       "<path fill=\"none\" stroke=\"black\" d=\"M294.6,-1187.77C294.6,-1180.37 294.6,-1171.43 294.6,-1162.65\"/>\n",
       "<polygon fill=\"black\" stroke=\"black\" points=\"298.1,-1162.85 294.6,-1152.85 291.1,-1162.85 298.1,-1162.85\"/>\n",
       "</g>\n",
       "<!-- Display Instructions -->\n",
       "<g id=\"node3\" class=\"node\">\n",
       "<title>Display Instructions</title>\n",
       "<ellipse fill=\"none\" stroke=\"black\" cx=\"246.6\" cy=\"-1019.49\" rx=\"60.62\" ry=\"26.74\"/>\n",
       "<text text-anchor=\"middle\" x=\"246.6\" y=\"-1023.29\" font-family=\"Times New Roman,serif\" font-size=\"14.00\">Display </text>\n",
       "<text text-anchor=\"middle\" x=\"246.6\" y=\"-1008.29\" font-family=\"Times New Roman,serif\" font-size=\"14.00\"> Instructions</text>\n",
       "</g>\n",
       "<!-- Ask Display Instruction&#45;&gt;Display Instructions -->\n",
       "<g id=\"edge2\" class=\"edge\">\n",
       "<title>Ask Display Instruction&#45;&gt;Display Instructions</title>\n",
       "<path fill=\"none\" stroke=\"black\" d=\"M282.61,-1097.57C276.82,-1085.19 269.79,-1070.13 263.47,-1056.61\"/>\n",
       "<polygon fill=\"black\" stroke=\"black\" points=\"266.64,-1055.13 259.24,-1047.55 260.3,-1058.1 266.64,-1055.13\"/>\n",
       "<text text-anchor=\"middle\" x=\"284.6\" y=\"-1068.16\" font-family=\"Times New Roman,serif\" font-size=\"14.00\">Yes</text>\n",
       "</g>\n",
       "<!-- Generate Random Chests -->\n",
       "<g id=\"node4\" class=\"node\">\n",
       "<title>Generate Random Chests</title>\n",
       "<ellipse fill=\"none\" stroke=\"black\" cx=\"294.6\" cy=\"-928.75\" rx=\"77.56\" ry=\"26.74\"/>\n",
       "<text text-anchor=\"middle\" x=\"294.6\" y=\"-932.55\" font-family=\"Times New Roman,serif\" font-size=\"14.00\">Generate </text>\n",
       "<text text-anchor=\"middle\" x=\"294.6\" y=\"-917.55\" font-family=\"Times New Roman,serif\" font-size=\"14.00\"> Random Chests</text>\n",
       "</g>\n",
       "<!-- Ask Display Instruction&#45;&gt;Generate Random Chests -->\n",
       "<g id=\"edge4\" class=\"edge\">\n",
       "<title>Ask Display Instruction&#45;&gt;Generate Random Chests</title>\n",
       "<path fill=\"none\" stroke=\"black\" d=\"M303.98,-1097.3C308.8,-1082.58 314.17,-1063.68 316.6,-1046.36 319.92,-1022.71 320.6,-1016.17 316.6,-992.62 315.12,-983.9 312.56,-974.78 309.69,-966.28\"/>\n",
       "<polygon fill=\"black\" stroke=\"black\" points=\"313.02,-965.18 306.34,-956.96 306.43,-967.56 313.02,-965.18\"/>\n",
       "<text text-anchor=\"middle\" x=\"328.6\" y=\"-1015.79\" font-family=\"Times New Roman,serif\" font-size=\"14.00\">No</text>\n",
       "</g>\n",
       "<!-- Display Instructions&#45;&gt;Generate Random Chests -->\n",
       "<g id=\"edge3\" class=\"edge\">\n",
       "<title>Display Instructions&#45;&gt;Generate Random Chests</title>\n",
       "<path fill=\"none\" stroke=\"black\" d=\"M260.22,-993.3C264.95,-984.57 270.33,-974.61 275.42,-965.21\"/>\n",
       "<polygon fill=\"black\" stroke=\"black\" points=\"278.37,-967.11 280.05,-956.65 272.21,-963.78 278.37,-967.11\"/>\n",
       "</g>\n",
       "<!-- Check if run out of Sonar Devices -->\n",
       "<g id=\"node6\" class=\"node\">\n",
       "<title>Check if run out of Sonar Devices</title>\n",
       "<ellipse fill=\"none\" stroke=\"black\" cx=\"160.6\" cy=\"-838.01\" rx=\"82.96\" ry=\"26.74\"/>\n",
       "<text text-anchor=\"middle\" x=\"160.6\" y=\"-841.81\" font-family=\"Times New Roman,serif\" font-size=\"14.00\">Check if run out </text>\n",
       "<text text-anchor=\"middle\" x=\"160.6\" y=\"-826.81\" font-family=\"Times New Roman,serif\" font-size=\"14.00\"> of Sonar Devices</text>\n",
       "</g>\n",
       "<!-- Generate Random Chests&#45;&gt;Check if run out of Sonar Devices -->\n",
       "<g id=\"edge5\" class=\"edge\">\n",
       "<title>Generate Random Chests&#45;&gt;Check if run out of Sonar Devices</title>\n",
       "<path fill=\"none\" stroke=\"black\" d=\"M259.74,-904.67C243.25,-893.75 223.36,-880.58 205.74,-868.91\"/>\n",
       "<polygon fill=\"black\" stroke=\"black\" points=\"207.74,-866.04 197.47,-863.44 203.88,-871.87 207.74,-866.04\"/>\n",
       "</g>\n",
       "<!-- Display Board -->\n",
       "<g id=\"node5\" class=\"node\">\n",
       "<title>Display Board</title>\n",
       "<ellipse fill=\"none\" stroke=\"black\" cx=\"229.6\" cy=\"-742.14\" rx=\"63.09\" ry=\"18\"/>\n",
       "<text text-anchor=\"middle\" x=\"229.6\" y=\"-738.44\" font-family=\"Times New Roman,serif\" font-size=\"14.00\">Display Board</text>\n",
       "</g>\n",
       "<!-- Ask for Move -->\n",
       "<g id=\"node8\" class=\"node\">\n",
       "<title>Ask for Move</title>\n",
       "<ellipse fill=\"none\" stroke=\"black\" cx=\"234.6\" cy=\"-604.95\" rx=\"61.99\" ry=\"18\"/>\n",
       "<text text-anchor=\"middle\" x=\"234.6\" y=\"-601.25\" font-family=\"Times New Roman,serif\" font-size=\"14.00\">Ask for Move</text>\n",
       "</g>\n",
       "<!-- Display Board&#45;&gt;Ask for Move -->\n",
       "<g id=\"edge9\" class=\"edge\">\n",
       "<title>Display Board&#45;&gt;Ask for Move</title>\n",
       "<path fill=\"none\" stroke=\"black\" d=\"M230.24,-723.75C231.07,-701.23 232.54,-661.71 233.53,-634.7\"/>\n",
       "<polygon fill=\"black\" stroke=\"black\" points=\"237.03,-634.91 233.9,-624.79 230.03,-634.66 237.03,-634.91\"/>\n",
       "</g>\n",
       "<!-- Check if run out of Sonar Devices&#45;&gt;Display Board -->\n",
       "<g id=\"edge8\" class=\"edge\">\n",
       "<title>Check if run out of Sonar Devices&#45;&gt;Display Board</title>\n",
       "<path fill=\"none\" stroke=\"black\" d=\"M179.09,-811.86C188.79,-798.66 200.66,-782.51 210.46,-769.18\"/>\n",
       "<polygon fill=\"black\" stroke=\"black\" points=\"213.16,-771.41 216.26,-761.28 207.52,-767.27 213.16,-771.41\"/>\n",
       "<text text-anchor=\"middle\" x=\"253.6\" y=\"-781.94\" font-family=\"Times New Roman,serif\" font-size=\"14.00\">SonarDevices &gt; 0</text>\n",
       "</g>\n",
       "<!-- Lose -->\n",
       "<g id=\"node7\" class=\"node\">\n",
       "<title>Lose</title>\n",
       "<ellipse fill=\"white\" stroke=\"red\" cx=\"32.6\" cy=\"-673.55\" rx=\"28.68\" ry=\"28.68\"/>\n",
       "<ellipse fill=\"none\" stroke=\"red\" cx=\"32.6\" cy=\"-673.55\" rx=\"32.7\" ry=\"32.7\"/>\n",
       "<text text-anchor=\"middle\" x=\"32.6\" y=\"-669.85\" font-family=\"Times New Roman,serif\" font-size=\"14.00\">Lose</text>\n",
       "</g>\n",
       "<!-- Check if run out of Sonar Devices&#45;&gt;Lose -->\n",
       "<g id=\"edge6\" class=\"edge\">\n",
       "<title>Check if run out of Sonar Devices&#45;&gt;Lose</title>\n",
       "<path fill=\"none\" stroke=\"black\" d=\"M79.94,-831.52C54.65,-825.52 29.27,-814.18 13.6,-793.14 -3.33,-770.42 3.06,-738.4 12.79,-713.36\"/>\n",
       "<polygon fill=\"black\" stroke=\"black\" points=\"16.02,-714.73 16.68,-704.15 9.57,-712.01 16.02,-714.73\"/>\n",
       "<text text-anchor=\"middle\" x=\"68.1\" y=\"-781.94\" font-family=\"Times New Roman,serif\" font-size=\"14.00\">SonarDevices == 0</text>\n",
       "</g>\n",
       "<!-- Play Again? -->\n",
       "<g id=\"node14\" class=\"node\">\n",
       "<title>Play Again?</title>\n",
       "<ellipse fill=\"none\" stroke=\"black\" cx=\"301.6\" cy=\"-105\" rx=\"53.89\" ry=\"18\"/>\n",
       "<text text-anchor=\"middle\" x=\"301.6\" y=\"-101.3\" font-family=\"Times New Roman,serif\" font-size=\"14.00\">Play Again?</text>\n",
       "</g>\n",
       "<!-- Lose&#45;&gt;Play Again? -->\n",
       "<g id=\"edge7\" class=\"edge\">\n",
       "<title>Lose&#45;&gt;Play Again?</title>\n",
       "<path fill=\"none\" stroke=\"black\" d=\"M40.86,-641.51C45.59,-621.05 50.6,-593.59 50.6,-568.95 50.6,-568.95 50.6,-568.95 50.6,-189 50.6,-149.11 166.32,-125.12 240.62,-113.83\"/>\n",
       "<polygon fill=\"black\" stroke=\"black\" points=\"240.83,-117.34 250.21,-112.42 239.81,-110.42 240.83,-117.34\"/>\n",
       "</g>\n",
       "<!-- Check Chest found -->\n",
       "<g id=\"node9\" class=\"node\">\n",
       "<title>Check Chest found</title>\n",
       "<ellipse fill=\"none\" stroke=\"black\" cx=\"245.6\" cy=\"-531.95\" rx=\"81.49\" ry=\"18\"/>\n",
       "<text text-anchor=\"middle\" x=\"245.6\" y=\"-528.25\" font-family=\"Times New Roman,serif\" font-size=\"14.00\">Check Chest found</text>\n",
       "</g>\n",
       "<!-- Ask for Move&#45;&gt;Check Chest found -->\n",
       "<g id=\"edge10\" class=\"edge\">\n",
       "<title>Ask for Move&#45;&gt;Check Chest found</title>\n",
       "<path fill=\"none\" stroke=\"black\" d=\"M237.26,-586.76C238.45,-579.09 239.88,-569.84 241.22,-561.19\"/>\n",
       "<polygon fill=\"black\" stroke=\"black\" points=\"244.66,-561.89 242.73,-551.47 237.74,-560.82 244.66,-561.89\"/>\n",
       "</g>\n",
       "<!-- Refresh Sonars&#39;s Insights with Next Closest Chest -->\n",
       "<g id=\"node10\" class=\"node\">\n",
       "<title>Refresh Sonars&#39;s Insights with Next Closest Chest</title>\n",
       "<ellipse fill=\"none\" stroke=\"black\" cx=\"290.6\" cy=\"-410.47\" rx=\"88.28\" ry=\"37.45\"/>\n",
       "<text text-anchor=\"middle\" x=\"290.6\" y=\"-421.77\" font-family=\"Times New Roman,serif\" font-size=\"14.00\">Refresh Sonars&#39;s </text>\n",
       "<text text-anchor=\"middle\" x=\"290.6\" y=\"-406.77\" font-family=\"Times New Roman,serif\" font-size=\"14.00\"> Insights with Next </text>\n",
       "<text text-anchor=\"middle\" x=\"290.6\" y=\"-391.77\" font-family=\"Times New Roman,serif\" font-size=\"14.00\"> Closest Chest</text>\n",
       "</g>\n",
       "<!-- Check Chest found&#45;&gt;Refresh Sonars&#39;s Insights with Next Closest Chest -->\n",
       "<g id=\"edge11\" class=\"edge\">\n",
       "<title>Check Chest found&#45;&gt;Refresh Sonars&#39;s Insights with Next Closest Chest</title>\n",
       "<path fill=\"none\" stroke=\"black\" d=\"M252.14,-513.58C257.61,-499.05 265.68,-477.64 273.01,-458.17\"/>\n",
       "<polygon fill=\"black\" stroke=\"black\" points=\"276.2,-459.62 276.45,-449.03 269.65,-457.15 276.2,-459.62\"/>\n",
       "<text text-anchor=\"middle\" x=\"321.1\" y=\"-484.75\" font-family=\"Times New Roman,serif\" font-size=\"14.00\">One Chest found: </text>\n",
       "<text text-anchor=\"middle\" x=\"321.1\" y=\"-469.75\" font-family=\"Times New Roman,serif\" font-size=\"14.00\"> Chests&#45;=1</text>\n",
       "</g>\n",
       "<!-- Decrement Sonar Devices Count -->\n",
       "<g id=\"node13\" class=\"node\">\n",
       "<title>Decrement Sonar Devices Count</title>\n",
       "<ellipse fill=\"none\" stroke=\"black\" cx=\"170.6\" cy=\"-190\" rx=\"82.96\" ry=\"26.74\"/>\n",
       "<text text-anchor=\"middle\" x=\"170.6\" y=\"-193.8\" font-family=\"Times New Roman,serif\" font-size=\"14.00\">Decrement Sonar </text>\n",
       "<text text-anchor=\"middle\" x=\"170.6\" y=\"-178.8\" font-family=\"Times New Roman,serif\" font-size=\"14.00\"> Devices Count</text>\n",
       "</g>\n",
       "<!-- Check Chest found&#45;&gt;Decrement Sonar Devices Count -->\n",
       "<g id=\"edge16\" class=\"edge\">\n",
       "<title>Check Chest found&#45;&gt;Decrement Sonar Devices Count</title>\n",
       "<path fill=\"none\" stroke=\"black\" d=\"M231.39,-513.74C219.07,-497.76 201.95,-472.77 193.6,-447.95 168.41,-373.08 167.01,-279.42 168.58,-228.39\"/>\n",
       "<polygon fill=\"black\" stroke=\"black\" points=\"172.07,-228.61 168.95,-218.48 165.08,-228.35 172.07,-228.61\"/>\n",
       "<text text-anchor=\"middle\" x=\"222.1\" y=\"-343.8\" font-family=\"Times New Roman,serif\" font-size=\"14.00\">No Chest found: </text>\n",
       "<text text-anchor=\"middle\" x=\"222.1\" y=\"-328.8\" font-family=\"Times New Roman,serif\" font-size=\"14.00\"> Chests&#45;=0</text>\n",
       "</g>\n",
       "<!-- All Chests found? -->\n",
       "<g id=\"node11\" class=\"node\">\n",
       "<title>All Chests found?</title>\n",
       "<ellipse fill=\"none\" stroke=\"black\" cx=\"290.6\" cy=\"-289\" rx=\"76.09\" ry=\"18\"/>\n",
       "<text text-anchor=\"middle\" x=\"290.6\" y=\"-285.3\" font-family=\"Times New Roman,serif\" font-size=\"14.00\">All Chests found?</text>\n",
       "</g>\n",
       "<!-- Refresh Sonars&#39;s Insights with Next Closest Chest&#45;&gt;All Chests found? -->\n",
       "<g id=\"edge12\" class=\"edge\">\n",
       "<title>Refresh Sonars&#39;s Insights with Next Closest Chest&#45;&gt;All Chests found?</title>\n",
       "<path fill=\"none\" stroke=\"black\" d=\"M290.6,-372.65C290.6,-355.28 290.6,-334.85 290.6,-318.65\"/>\n",
       "<polygon fill=\"black\" stroke=\"black\" points=\"294.1,-318.73 290.6,-308.73 287.1,-318.73 294.1,-318.73\"/>\n",
       "</g>\n",
       "<!-- Win -->\n",
       "<g id=\"node12\" class=\"node\">\n",
       "<title>Win</title>\n",
       "<ellipse fill=\"white\" stroke=\"green\" cx=\"301.6\" cy=\"-190\" rx=\"26\" ry=\"26\"/>\n",
       "<ellipse fill=\"none\" stroke=\"green\" cx=\"301.6\" cy=\"-190\" rx=\"30\" ry=\"30\"/>\n",
       "<text text-anchor=\"middle\" x=\"301.6\" y=\"-186.3\" font-family=\"Times New Roman,serif\" font-size=\"14.00\">Win</text>\n",
       "</g>\n",
       "<!-- All Chests found?&#45;&gt;Win -->\n",
       "<g id=\"edge13\" class=\"edge\">\n",
       "<title>All Chests found?&#45;&gt;Win</title>\n",
       "<path fill=\"none\" stroke=\"black\" d=\"M292.56,-270.65C293.81,-259.67 295.47,-244.99 297.04,-231.22\"/>\n",
       "<polygon fill=\"black\" stroke=\"black\" points=\"300.49,-231.81 298.14,-221.48 293.54,-231.02 300.49,-231.81\"/>\n",
       "<text text-anchor=\"middle\" x=\"327.6\" y=\"-241.8\" font-family=\"Times New Roman,serif\" font-size=\"14.00\">Chests==0</text>\n",
       "</g>\n",
       "<!-- All Chests found?&#45;&gt;Decrement Sonar Devices Count -->\n",
       "<g id=\"edge15\" class=\"edge\">\n",
       "<title>All Chests found?&#45;&gt;Decrement Sonar Devices Count</title>\n",
       "<path fill=\"none\" stroke=\"black\" d=\"M264.13,-271.73C255.46,-266.08 245.93,-259.53 237.6,-253 226.09,-243.97 214.16,-233.39 203.62,-223.55\"/>\n",
       "<polygon fill=\"black\" stroke=\"black\" points=\"206.27,-221.23 196.6,-216.9 201.46,-226.32 206.27,-221.23\"/>\n",
       "<text text-anchor=\"middle\" x=\"264.6\" y=\"-241.8\" font-family=\"Times New Roman,serif\" font-size=\"14.00\">Chests&gt;0</text>\n",
       "</g>\n",
       "<!-- Win&#45;&gt;Play Again? -->\n",
       "<g id=\"edge14\" class=\"edge\">\n",
       "<title>Win&#45;&gt;Play Again?</title>\n",
       "<path fill=\"none\" stroke=\"black\" d=\"M301.6,-159.97C301.6,-151.68 301.6,-142.65 301.6,-134.4\"/>\n",
       "<polygon fill=\"black\" stroke=\"black\" points=\"305.1,-134.55 301.6,-124.55 298.1,-134.55 305.1,-134.55\"/>\n",
       "</g>\n",
       "<!-- Decrement Sonar Devices Count&#45;&gt;Check if run out of Sonar Devices -->\n",
       "<g id=\"edge17\" class=\"edge\">\n",
       "<title>Decrement Sonar Devices Count&#45;&gt;Check if run out of Sonar Devices</title>\n",
       "<path fill=\"none\" stroke=\"black\" d=\"M156.38,-216.5C147.06,-235.58 136.6,-262.66 136.6,-288 136.6,-743.14 136.6,-743.14 136.6,-743.14 136.6,-762.46 141.43,-783.34 146.75,-800.49\"/>\n",
       "<polygon fill=\"black\" stroke=\"black\" points=\"143.35,-801.33 149.81,-809.73 149.99,-799.13 143.35,-801.33\"/>\n",
       "</g>\n",
       "<!-- Play Again?&#45;&gt;Generate Random Chests -->\n",
       "<g id=\"edge18\" class=\"edge\">\n",
       "<title>Play Again?&#45;&gt;Generate Random Chests</title>\n",
       "<path fill=\"none\" stroke=\"black\" d=\"M339.21,-118.35C369.34,-130.89 406.6,-153.56 406.6,-189 406.6,-839.01 406.6,-839.01 406.6,-839.01 406.6,-868.27 382.83,-889.4 357.19,-903.69\"/>\n",
       "<polygon fill=\"black\" stroke=\"black\" points=\"355.91,-900.41 348.66,-908.13 359.15,-906.62 355.91,-900.41\"/>\n",
       "<text text-anchor=\"middle\" x=\"417.6\" y=\"-528.25\" font-family=\"Times New Roman,serif\" font-size=\"14.00\">Yes</text>\n",
       "</g>\n",
       "<!-- END -->\n",
       "<g id=\"node15\" class=\"node\">\n",
       "<title>END</title>\n",
       "<ellipse fill=\"grey\" stroke=\"black\" cx=\"301.6\" cy=\"-18\" rx=\"28.7\" ry=\"18\"/>\n",
       "<text text-anchor=\"middle\" x=\"301.6\" y=\"-14.3\" font-family=\"Times New Roman,serif\" font-size=\"14.00\">END</text>\n",
       "</g>\n",
       "<!-- Play Again?&#45;&gt;END -->\n",
       "<g id=\"edge19\" class=\"edge\">\n",
       "<title>Play Again?&#45;&gt;END</title>\n",
       "<path fill=\"none\" stroke=\"black\" d=\"M301.6,-86.8C301.6,-75.58 301.6,-60.67 301.6,-47.69\"/>\n",
       "<polygon fill=\"black\" stroke=\"black\" points=\"305.1,-47.98 301.6,-37.98 298.1,-47.98 305.1,-47.98\"/>\n",
       "<text text-anchor=\"middle\" x=\"310.6\" y=\"-57.8\" font-family=\"Times New Roman,serif\" font-size=\"14.00\">No</text>\n",
       "</g>\n",
       "</g>\n",
       "</svg>\n"
      ],
      "text/plain": [
       "<graphviz.graphs.Digraph at 0x29c51371bd0>"
      ]
     },
     "execution_count": 4,
     "metadata": {},
     "output_type": "execute_result"
    }
   ],
   "source": [
    "dot"
   ]
  },
  {
   "cell_type": "markdown",
   "id": "7476071f-3276-4ab7-96c9-d603c4ba33a3",
   "metadata": {},
   "source": [
    "## 3. Program"
   ]
  },
  {
   "cell_type": "code",
   "execution_count": 5,
   "id": "39026eeb-ab4c-492d-86e9-48bfde36f4b2",
   "metadata": {
    "tags": []
   },
   "outputs": [],
   "source": [
    "import random\n",
    "import sys\n",
    "# sys containst the sys.exit() function => it terminates the program immediately and none of the lines of code after the sys.exit() call will run.\n",
    "import math\n",
    "# math contains the math.sqrt() function => square root"
   ]
  },
  {
   "cell_type": "code",
   "execution_count": 6,
   "id": "2ebf0825-5ed6-484d-9f76-328f65e5eab7",
   "metadata": {
    "tags": []
   },
   "outputs": [],
   "source": [
    "# Function creates a new 60x15 board data structure.\n",
    "def getNewBoard():\n",
    "    board = []\n",
    "    # The main list is a list of 60 lists.\n",
    "    for x in range(60): \n",
    "        board.append([])\n",
    "        # Each list in the main list has 15 single-character strings.\n",
    "        for y in range(15): \n",
    "            # Use different characters for the ocean to make it more readable.\n",
    "            if random.randint(0, 1) == 0:\n",
    "                board[x].append('~')\n",
    "            else:\n",
    "                board[x].append('-')\n",
    "    return board"
   ]
  },
  {
   "cell_type": "code",
   "execution_count": 7,
   "id": "6fdc53f9-f367-490b-b021-2ef69aa6c9b2",
   "metadata": {
    "tags": []
   },
   "outputs": [],
   "source": [
    "# Function draws the board data structure.\n",
    "def drawBoard(board):\n",
    "    \n",
    "    # Step 1: Create a string variable that marks the coordinates for 10, 20, 30, 40, 50 on the x-axis.\n",
    "    tensDigitsLine = '    ' # Initial space for the numbers down the left side of the board.\n",
    "    for i in range(1, 6):\n",
    "        tensDigitsLine += (' ' * 9) + str(i)\n",
    "\n",
    "    # Step 2: Print the numbers across the top of the board.\n",
    "    print(tensDigitsLine)\n",
    "    print('   ' + ('0123456789' * 6))\n",
    "    print()\n",
    "\n",
    "    # Step 3: Print each of the 15 rows to draw the ocean.\n",
    "    for row in range(15):\n",
    "        # Single-digit numbers need to be padded with an extra space.\n",
    "        if row < 10:\n",
    "            extraSpace = ' '\n",
    "        else:\n",
    "            extraSpace = ''\n",
    "\n",
    "        # Create the string for this row on the board.\n",
    "        boardRow = ''\n",
    "        for column in range(60):\n",
    "            boardRow += board[column][row]\n",
    "\n",
    "        print('%s%s %s %s' % (extraSpace, row, boardRow, row))\n",
    "\n",
    "    # Step 4: Print the numbers across the bottom of the board.\n",
    "    print()\n",
    "    print('   ' + ('0123456789' * 6))\n",
    "    print(tensDigitsLine)"
   ]
  },
  {
   "cell_type": "code",
   "execution_count": 8,
   "id": "8fa27dc4-a016-4c00-94e4-9df1c31fe090",
   "metadata": {},
   "outputs": [],
   "source": [
    "# Function creates a list of chest data structures (two-item lists of x, y int coordinates).\n",
    "def getRandomChests(numChests):\n",
    "    chests = []\n",
    "    while len(chests) < numChests:\n",
    "        newChest = [random.randint(0, 59), random.randint(0, 14)]\n",
    "        # Make sure a chest is not already here.\n",
    "        if newChest not in chests: \n",
    "            chests.append(newChest)\n",
    "    return chests"
   ]
  },
  {
   "cell_type": "code",
   "execution_count": 9,
   "id": "3cdcdc78-ca57-4b93-8885-12bdd03b5708",
   "metadata": {
    "tags": []
   },
   "outputs": [],
   "source": [
    "# Function determines whethe a move is valid by returning True only if the coordinates are on the board.\n",
    "def isOnBoard(x, y):\n",
    "    return x >= 0 and x <= 59 and y >= 0 and y <= 14"
   ]
  },
  {
   "cell_type": "code",
   "execution_count": 10,
   "id": "d29ab6aa-2ab7-43a7-87fb-9a6ed2e1dd3d",
   "metadata": {},
   "outputs": [],
   "source": [
    "# Function lets the player enter its moves. Return a two-item list of int xy coordinates.\n",
    "def enterPlayerMove(previousMoves):\n",
    "    print('Where do you want to drop the next sonar device? (0-59 0-14) (or type quit)')\n",
    "    while True:\n",
    "        move = input()\n",
    "        if move.lower() == 'quit':\n",
    "            print('Thanks for playing!')\n",
    "            sys.exit()\n",
    "\n",
    "        move = move.split()\n",
    "        if len(move) == 2 and move[0].isdigit() and move[1].isdigit() and isOnBoard(int(move[0]), int(move[1])):\n",
    "            if [int(move[0]), int(move[1])] in previousMoves:\n",
    "                print('You already moved there.')\n",
    "                continue\n",
    "            return [int(move[0]), int(move[1])]\n",
    "\n",
    "        print('Enter a number from 0 to 59, a space, then a number from 0 to 14.')"
   ]
  },
  {
   "cell_type": "code",
   "execution_count": 11,
   "id": "4d1add85-1331-4877-a8db-f61dd757ee0b",
   "metadata": {},
   "outputs": [],
   "source": [
    "# Function places a move on the board\n",
    "# Function uses 4 parameters: Board's datastructure, treasure chests' datastructure, x-coordinates and y coordinates.\n",
    "# Return False if this is an invalid move.\n",
    "def makeMove(board, chests, x, y):\n",
    "    \n",
    "    smallestDistance = 100 # Any chest will be closer than 100.\n",
    "    for cx, cy in chests:\n",
    "        distance = math.sqrt((cx - x) * (cx - x) + (cy - y) * (cy - y))\n",
    "        \n",
    "        if distance < smallestDistance: # We want the closest treasure chest.\n",
    "            smallestDistance = distance\n",
    "\n",
    "    smallestDistance = round(smallestDistance)\n",
    "    \n",
    "    # Outcome 1: xy is directly on a treasure chest\n",
    "    if smallestDistance == 0:\n",
    "        # Removes each treasure chest from the chests list as they are found.\n",
    "        chests.remove([x, y])\n",
    "        # Returns the string of the result of this move.\n",
    "        return 'You have found a sunken treasure chest!'\n",
    "    else:\n",
    "        # Outcome 2: xy is within a distance of 9 or less of a chest\n",
    "        if smallestDistance < 10:\\\n",
    "            # Changes the board data structure with the Smallest Distance to a chest as the sonar device character.\n",
    "            board[x][y] = str(smallestDistance)\n",
    "            # Returns the string of the result of this move.\n",
    "            return 'Treasure detected at a distance of %s from the sonar device.' % (smallestDistance)\n",
    "        # Outcome 3: xy is within a distance of more than 9 of a chest\n",
    "        else:\n",
    "            # Changes the board data structure with a null sonar device character.\n",
    "            board[x][y] = 'X'\n",
    "            # Returns the string of the result of this move.\n",
    "            return 'Sonar did not detect anything. All treasure chests out of range.'"
   ]
  },
  {
   "cell_type": "code",
   "execution_count": 12,
   "id": "4b6e65dd-9dd8-47ca-933f-b3761b0c51f9",
   "metadata": {},
   "outputs": [],
   "source": [
    "def showInstructions():\n",
    "    print('''Instructions:\n",
    "You are the captain of the Simon, a treasure-hunting ship. Your current mission\n",
    "is to use sonar devices to find three sunken treasure chests at the bottom of\n",
    "the ocean. But you only have cheap sonar that finds distance, not direction.\n",
    "\n",
    "Enter the coordinates to drop a sonar device. The ocean map will be marked with\n",
    "how far away the nearest chest is, or an X if it is beyond the sonar device's\n",
    "range. For example, the C marks are where chests are. The sonar device shows a\n",
    "3 because the closest chest is 3 spaces away.\n",
    "\n",
    "(In the real game, the chests are not visible in the ocean.)\n",
    "\n",
    "Press enter to continue...''')\n",
    "    input()\n",
    "\n",
    "    print('''When you drop a sonar device directly on a chest, you retrieve it and the other\n",
    "sonar devices update to show how far away the next nearest chest is. The chests\n",
    "are beyond the range of the sonar device on the left, so it shows an X.\n",
    "\n",
    "The treasure chests don't move around. Sonar devices can detect treasure chests\n",
    "up to a distance of 9 spaces. Try to collect all 3 chests before running out of\n",
    "sonar devices. Good luck!\n",
    "\n",
    "Press enter to continue...''')\n",
    "    input()"
   ]
  },
  {
   "cell_type": "code",
   "execution_count": 13,
   "id": "9744f7e4-e7bd-4375-9a19-8b52372d1643",
   "metadata": {
    "tags": []
   },
   "outputs": [
    {
     "name": "stdout",
     "output_type": "stream",
     "text": [
      "S O N A R !\n",
      "\n",
      "Would you like to view the instructions? (yes/no)\n"
     ]
    },
    {
     "name": "stdin",
     "output_type": "stream",
     "text": [
      " yes\n"
     ]
    },
    {
     "name": "stdout",
     "output_type": "stream",
     "text": [
      "Instructions:\n",
      "You are the captain of the Simon, a treasure-hunting ship. Your current mission\n",
      "is to use sonar devices to find three sunken treasure chests at the bottom of\n",
      "the ocean. But you only have cheap sonar that finds distance, not direction.\n",
      "\n",
      "Enter the coordinates to drop a sonar device. The ocean map will be marked with\n",
      "how far away the nearest chest is, or an X if it is beyond the sonar device's\n",
      "range. For example, the C marks are where chests are. The sonar device shows a\n",
      "3 because the closest chest is 3 spaces away.\n",
      "\n",
      "(In the real game, the chests are not visible in the ocean.)\n",
      "\n",
      "Press enter to continue...\n"
     ]
    },
    {
     "name": "stdin",
     "output_type": "stream",
     "text": [
      " \n"
     ]
    },
    {
     "name": "stdout",
     "output_type": "stream",
     "text": [
      "When you drop a sonar device directly on a chest, you retrieve it and the other\n",
      "sonar devices update to show how far away the next nearest chest is. The chests\n",
      "are beyond the range of the sonar device on the left, so it shows an X.\n",
      "\n",
      "The treasure chests don't move around. Sonar devices can detect treasure chests\n",
      "up to a distance of 9 spaces. Try to collect all 3 chests before running out of\n",
      "sonar devices. Good luck!\n",
      "\n",
      "Press enter to continue...\n"
     ]
    },
    {
     "name": "stdin",
     "output_type": "stream",
     "text": [
      " \n"
     ]
    },
    {
     "name": "stdout",
     "output_type": "stream",
     "text": [
      "             1         2         3         4         5\n",
      "   012345678901234567890123456789012345678901234567890123456789\n",
      "\n",
      " 0 ~~-~---~--~~~~~~----~-~~-~-~~~-~~-~--~--~~~~~--~~-----~~-~~~ 0\n",
      " 1 --~--~~~~-~~~~--~~----~~--~-~~~~~~---~-~-~~-~----~~-~~~~~--~ 1\n",
      " 2 ~~-~-~~~--~~--~~~-~~~--~~~-~~~~~-~~---~~~-------~~-~---~-~~- 2\n",
      " 3 ~-~-~~~~-~~~~-----~---~~~~----~-~----~~~--~~--~~~-~~~~~--~-~ 3\n",
      " 4 ---~-~~~-~--~~--~~--~-~-~~-----~-~--~-----~~---~-~----~~-~~~ 4\n",
      " 5 -~~~-~~--~~~--~~~~-~~~-~~~~----~-----~-~-~----~-~----~~~~-~- 5\n",
      " 6 --~~~---~~--~~~~-~~-~--~----~~~-----~----~~-~~--~--~~~-~~-~~ 6\n",
      " 7 ~----~-~~~-~---~-~---~---~~~---~~~--~-~~~-~~-~-~-~~~--~--~-~ 7\n",
      " 8 ~~-~~~-~--~-~-~~~-~-~~-~~--~~-~~-~~-~~---~----~----~----~~~~ 8\n",
      " 9 -~--~-~-~~---~-~-~~~-~-~----~-~---~-~~-~-~~-~-~~~--~--~-~-~~ 9\n",
      "10 ----~-~-~--~~~-~-~~-~~-~~~-~-~-~-~~~~-~---~---~~---~~---~~~~ 10\n",
      "11 --~~~~-~~~--~~~--~---~---~~~-~--~-~~-~~~~-~~-~---~---~~-~~-~ 11\n",
      "12 ~~--~~--~--~~~~~-~-----~~~~-~~-~~~~-~~-----~-~-~-~-~~----~~- 12\n",
      "13 ~~~--~~-~~-~~~-~--~~~~---~-~~~----~-~-~~~~~~---~---~~---~~-- 13\n",
      "14 ---~----~-------~~~~----~----~~--~~-~~----~-~-----~----~~~~- 14\n",
      "\n",
      "   012345678901234567890123456789012345678901234567890123456789\n",
      "             1         2         3         4         5\n",
      "You have 20 sonar device(s) left. 3 treasure chest(s) remaining.\n",
      "Where do you want to drop the next sonar device? (0-59 0-14) (or type quit)\n"
     ]
    },
    {
     "name": "stdin",
     "output_type": "stream",
     "text": [
      " 10 3\n"
     ]
    },
    {
     "name": "stdout",
     "output_type": "stream",
     "text": [
      "             1         2         3         4         5\n",
      "   012345678901234567890123456789012345678901234567890123456789\n",
      "\n",
      " 0 ~~-~---~--~~~~~~----~-~~-~-~~~-~~-~--~--~~~~~--~~-----~~-~~~ 0\n",
      " 1 --~--~~~~-~~~~--~~----~~--~-~~~~~~---~-~-~~-~----~~-~~~~~--~ 1\n",
      " 2 ~~-~-~~~--~~--~~~-~~~--~~~-~~~~~-~~---~~~-------~~-~---~-~~- 2\n",
      " 3 ~-~-~~~~-~X~~-----~---~~~~----~-~----~~~--~~--~~~-~~~~~--~-~ 3\n",
      " 4 ---~-~~~-~--~~--~~--~-~-~~-----~-~--~-----~~---~-~----~~-~~~ 4\n",
      " 5 -~~~-~~--~~~--~~~~-~~~-~~~~----~-----~-~-~----~-~----~~~~-~- 5\n",
      " 6 --~~~---~~--~~~~-~~-~--~----~~~-----~----~~-~~--~--~~~-~~-~~ 6\n",
      " 7 ~----~-~~~-~---~-~---~---~~~---~~~--~-~~~-~~-~-~-~~~--~--~-~ 7\n",
      " 8 ~~-~~~-~--~-~-~~~-~-~~-~~--~~-~~-~~-~~---~----~----~----~~~~ 8\n",
      " 9 -~--~-~-~~---~-~-~~~-~-~----~-~---~-~~-~-~~-~-~~~--~--~-~-~~ 9\n",
      "10 ----~-~-~--~~~-~-~~-~~-~~~-~-~-~-~~~~-~---~---~~---~~---~~~~ 10\n",
      "11 --~~~~-~~~--~~~--~---~---~~~-~--~-~~-~~~~-~~-~---~---~~-~~-~ 11\n",
      "12 ~~--~~--~--~~~~~-~-----~~~~-~~-~~~~-~~-----~-~-~-~-~~----~~- 12\n",
      "13 ~~~--~~-~~-~~~-~--~~~~---~-~~~----~-~-~~~~~~---~---~~---~~-- 13\n",
      "14 ---~----~-------~~~~----~----~~--~~-~~----~-~-----~----~~~~- 14\n",
      "\n",
      "   012345678901234567890123456789012345678901234567890123456789\n",
      "             1         2         3         4         5\n",
      "Sonar did not detect anything. All treasure chests out of range.\n",
      "You have 19 sonar device(s) left. 3 treasure chest(s) remaining.\n",
      "Where do you want to drop the next sonar device? (0-59 0-14) (or type quit)\n"
     ]
    },
    {
     "name": "stdin",
     "output_type": "stream",
     "text": [
      " 10 8\n"
     ]
    },
    {
     "name": "stdout",
     "output_type": "stream",
     "text": [
      "             1         2         3         4         5\n",
      "   012345678901234567890123456789012345678901234567890123456789\n",
      "\n",
      " 0 ~~-~---~--~~~~~~----~-~~-~-~~~-~~-~--~--~~~~~--~~-----~~-~~~ 0\n",
      " 1 --~--~~~~-~~~~--~~----~~--~-~~~~~~---~-~-~~-~----~~-~~~~~--~ 1\n",
      " 2 ~~-~-~~~--~~--~~~-~~~--~~~-~~~~~-~~---~~~-------~~-~---~-~~- 2\n",
      " 3 ~-~-~~~~-~X~~-----~---~~~~----~-~----~~~--~~--~~~-~~~~~--~-~ 3\n",
      " 4 ---~-~~~-~--~~--~~--~-~-~~-----~-~--~-----~~---~-~----~~-~~~ 4\n",
      " 5 -~~~-~~--~~~--~~~~-~~~-~~~~----~-----~-~-~----~-~----~~~~-~- 5\n",
      " 6 --~~~---~~--~~~~-~~-~--~----~~~-----~----~~-~~--~--~~~-~~-~~ 6\n",
      " 7 ~----~-~~~-~---~-~---~---~~~---~~~--~-~~~-~~-~-~-~~~--~--~-~ 7\n",
      " 8 ~~-~~~-~--6-~-~~~-~-~~-~~--~~-~~-~~-~~---~----~----~----~~~~ 8\n",
      " 9 -~--~-~-~~---~-~-~~~-~-~----~-~---~-~~-~-~~-~-~~~--~--~-~-~~ 9\n",
      "10 ----~-~-~--~~~-~-~~-~~-~~~-~-~-~-~~~~-~---~---~~---~~---~~~~ 10\n",
      "11 --~~~~-~~~--~~~--~---~---~~~-~--~-~~-~~~~-~~-~---~---~~-~~-~ 11\n",
      "12 ~~--~~--~--~~~~~-~-----~~~~-~~-~~~~-~~-----~-~-~-~-~~----~~- 12\n",
      "13 ~~~--~~-~~-~~~-~--~~~~---~-~~~----~-~-~~~~~~---~---~~---~~-- 13\n",
      "14 ---~----~-------~~~~----~----~~--~~-~~----~-~-----~----~~~~- 14\n",
      "\n",
      "   012345678901234567890123456789012345678901234567890123456789\n",
      "             1         2         3         4         5\n",
      "Treasure detected at a distance of 6 from the sonar device.\n",
      "You have 18 sonar device(s) left. 3 treasure chest(s) remaining.\n",
      "Where do you want to drop the next sonar device? (0-59 0-14) (or type quit)\n"
     ]
    },
    {
     "name": "stdin",
     "output_type": "stream",
     "text": [
      " 10 12\n"
     ]
    },
    {
     "name": "stdout",
     "output_type": "stream",
     "text": [
      "             1         2         3         4         5\n",
      "   012345678901234567890123456789012345678901234567890123456789\n",
      "\n",
      " 0 ~~-~---~--~~~~~~----~-~~-~-~~~-~~-~--~--~~~~~--~~-----~~-~~~ 0\n",
      " 1 --~--~~~~-~~~~--~~----~~--~-~~~~~~---~-~-~~-~----~~-~~~~~--~ 1\n",
      " 2 ~~-~-~~~--~~--~~~-~~~--~~~-~~~~~-~~---~~~-------~~-~---~-~~- 2\n",
      " 3 ~-~-~~~~-~X~~-----~---~~~~----~-~----~~~--~~--~~~-~~~~~--~-~ 3\n",
      " 4 ---~-~~~-~--~~--~~--~-~-~~-----~-~--~-----~~---~-~----~~-~~~ 4\n",
      " 5 -~~~-~~--~~~--~~~~-~~~-~~~~----~-----~-~-~----~-~----~~~~-~- 5\n",
      " 6 --~~~---~~--~~~~-~~-~--~----~~~-----~----~~-~~--~--~~~-~~-~~ 6\n",
      " 7 ~----~-~~~-~---~-~---~---~~~---~~~--~-~~~-~~-~-~-~~~--~--~-~ 7\n",
      " 8 ~~-~~~-~--6-~-~~~-~-~~-~~--~~-~~-~~-~~---~----~----~----~~~~ 8\n",
      " 9 -~--~-~-~~---~-~-~~~-~-~----~-~---~-~~-~-~~-~-~~~--~--~-~-~~ 9\n",
      "10 ----~-~-~--~~~-~-~~-~~-~~~-~-~-~-~~~~-~---~---~~---~~---~~~~ 10\n",
      "11 --~~~~-~~~--~~~--~---~---~~~-~--~-~~-~~~~-~~-~---~---~~-~~-~ 11\n",
      "12 ~~--~~--~-3~~~~~-~-----~~~~-~~-~~~~-~~-----~-~-~-~-~~----~~- 12\n",
      "13 ~~~--~~-~~-~~~-~--~~~~---~-~~~----~-~-~~~~~~---~---~~---~~-- 13\n",
      "14 ---~----~-------~~~~----~----~~--~~-~~----~-~-----~----~~~~- 14\n",
      "\n",
      "   012345678901234567890123456789012345678901234567890123456789\n",
      "             1         2         3         4         5\n",
      "Treasure detected at a distance of 3 from the sonar device.\n",
      "You have 17 sonar device(s) left. 3 treasure chest(s) remaining.\n",
      "Where do you want to drop the next sonar device? (0-59 0-14) (or type quit)\n"
     ]
    },
    {
     "name": "stdin",
     "output_type": "stream",
     "text": [
      " 20 3\n"
     ]
    },
    {
     "name": "stdout",
     "output_type": "stream",
     "text": [
      "             1         2         3         4         5\n",
      "   012345678901234567890123456789012345678901234567890123456789\n",
      "\n",
      " 0 ~~-~---~--~~~~~~----~-~~-~-~~~-~~-~--~--~~~~~--~~-----~~-~~~ 0\n",
      " 1 --~--~~~~-~~~~--~~----~~--~-~~~~~~---~-~-~~-~----~~-~~~~~--~ 1\n",
      " 2 ~~-~-~~~--~~--~~~-~~~--~~~-~~~~~-~~---~~~-------~~-~---~-~~- 2\n",
      " 3 ~-~-~~~~-~X~~-----~-X-~~~~----~-~----~~~--~~--~~~-~~~~~--~-~ 3\n",
      " 4 ---~-~~~-~--~~--~~--~-~-~~-----~-~--~-----~~---~-~----~~-~~~ 4\n",
      " 5 -~~~-~~--~~~--~~~~-~~~-~~~~----~-----~-~-~----~-~----~~~~-~- 5\n",
      " 6 --~~~---~~--~~~~-~~-~--~----~~~-----~----~~-~~--~--~~~-~~-~~ 6\n",
      " 7 ~----~-~~~-~---~-~---~---~~~---~~~--~-~~~-~~-~-~-~~~--~--~-~ 7\n",
      " 8 ~~-~~~-~--6-~-~~~-~-~~-~~--~~-~~-~~-~~---~----~----~----~~~~ 8\n",
      " 9 -~--~-~-~~---~-~-~~~-~-~----~-~---~-~~-~-~~-~-~~~--~--~-~-~~ 9\n",
      "10 ----~-~-~--~~~-~-~~-~~-~~~-~-~-~-~~~~-~---~---~~---~~---~~~~ 10\n",
      "11 --~~~~-~~~--~~~--~---~---~~~-~--~-~~-~~~~-~~-~---~---~~-~~-~ 11\n",
      "12 ~~--~~--~-3~~~~~-~-----~~~~-~~-~~~~-~~-----~-~-~-~-~~----~~- 12\n",
      "13 ~~~--~~-~~-~~~-~--~~~~---~-~~~----~-~-~~~~~~---~---~~---~~-- 13\n",
      "14 ---~----~-------~~~~----~----~~--~~-~~----~-~-----~----~~~~- 14\n",
      "\n",
      "   012345678901234567890123456789012345678901234567890123456789\n",
      "             1         2         3         4         5\n",
      "Sonar did not detect anything. All treasure chests out of range.\n",
      "You have 16 sonar device(s) left. 3 treasure chest(s) remaining.\n",
      "Where do you want to drop the next sonar device? (0-59 0-14) (or type quit)\n"
     ]
    },
    {
     "name": "stdin",
     "output_type": "stream",
     "text": [
      " 20 8\n"
     ]
    },
    {
     "name": "stdout",
     "output_type": "stream",
     "text": [
      "             1         2         3         4         5\n",
      "   012345678901234567890123456789012345678901234567890123456789\n",
      "\n",
      " 0 ~~-~---~--~~~~~~----~-~~-~-~~~-~~-~--~--~~~~~--~~-----~~-~~~ 0\n",
      " 1 --~--~~~~-~~~~--~~----~~--~-~~~~~~---~-~-~~-~----~~-~~~~~--~ 1\n",
      " 2 ~~-~-~~~--~~--~~~-~~~--~~~-~~~~~-~~---~~~-------~~-~---~-~~- 2\n",
      " 3 ~-~-~~~~-~X~~-----~-X-~~~~----~-~----~~~--~~--~~~-~~~~~--~-~ 3\n",
      " 4 ---~-~~~-~--~~--~~--~-~-~~-----~-~--~-----~~---~-~----~~-~~~ 4\n",
      " 5 -~~~-~~--~~~--~~~~-~~~-~~~~----~-----~-~-~----~-~----~~~~-~- 5\n",
      " 6 --~~~---~~--~~~~-~~-~--~----~~~-----~----~~-~~--~--~~~-~~-~~ 6\n",
      " 7 ~----~-~~~-~---~-~---~---~~~---~~~--~-~~~-~~-~-~-~~~--~--~-~ 7\n",
      " 8 ~~-~~~-~--6-~-~~~-~-5~-~~--~~-~~-~~-~~---~----~----~----~~~~ 8\n",
      " 9 -~--~-~-~~---~-~-~~~-~-~----~-~---~-~~-~-~~-~-~~~--~--~-~-~~ 9\n",
      "10 ----~-~-~--~~~-~-~~-~~-~~~-~-~-~-~~~~-~---~---~~---~~---~~~~ 10\n",
      "11 --~~~~-~~~--~~~--~---~---~~~-~--~-~~-~~~~-~~-~---~---~~-~~-~ 11\n",
      "12 ~~--~~--~-3~~~~~-~-----~~~~-~~-~~~~-~~-----~-~-~-~-~~----~~- 12\n",
      "13 ~~~--~~-~~-~~~-~--~~~~---~-~~~----~-~-~~~~~~---~---~~---~~-- 13\n",
      "14 ---~----~-------~~~~----~----~~--~~-~~----~-~-----~----~~~~- 14\n",
      "\n",
      "   012345678901234567890123456789012345678901234567890123456789\n",
      "             1         2         3         4         5\n",
      "Treasure detected at a distance of 5 from the sonar device.\n",
      "You have 15 sonar device(s) left. 3 treasure chest(s) remaining.\n",
      "Where do you want to drop the next sonar device? (0-59 0-14) (or type quit)\n"
     ]
    },
    {
     "name": "stdin",
     "output_type": "stream",
     "text": [
      " 20 12\n"
     ]
    },
    {
     "name": "stdout",
     "output_type": "stream",
     "text": [
      "             1         2         3         4         5\n",
      "   012345678901234567890123456789012345678901234567890123456789\n",
      "\n",
      " 0 ~~-~---~--~~~~~~----~-~~-~-~~~-~~-~--~--~~~~~--~~-----~~-~~~ 0\n",
      " 1 --~--~~~~-~~~~--~~----~~--~-~~~~~~---~-~-~~-~----~~-~~~~~--~ 1\n",
      " 2 ~~-~-~~~--~~--~~~-~~~--~~~-~~~~~-~~---~~~-------~~-~---~-~~- 2\n",
      " 3 ~-~-~~~~-~X~~-----~-X-~~~~----~-~----~~~--~~--~~~-~~~~~--~-~ 3\n",
      " 4 ---~-~~~-~--~~--~~--~-~-~~-----~-~--~-----~~---~-~----~~-~~~ 4\n",
      " 5 -~~~-~~--~~~--~~~~-~~~-~~~~----~-----~-~-~----~-~----~~~~-~- 5\n",
      " 6 --~~~---~~--~~~~-~~-~--~----~~~-----~----~~-~~--~--~~~-~~-~~ 6\n",
      " 7 ~----~-~~~-~---~-~---~---~~~---~~~--~-~~~-~~-~-~-~~~--~--~-~ 7\n",
      " 8 ~~-~~~-~--6-~-~~~-~-5~-~~--~~-~~-~~-~~---~----~----~----~~~~ 8\n",
      " 9 -~--~-~-~~---~-~-~~~-~-~----~-~---~-~~-~-~~-~-~~~--~--~-~-~~ 9\n",
      "10 ----~-~-~--~~~-~-~~-~~-~~~-~-~-~-~~~~-~---~---~~---~~---~~~~ 10\n",
      "11 --~~~~-~~~--~~~--~---~---~~~-~--~-~~-~~~~-~~-~---~---~~-~~-~ 11\n",
      "12 ~~--~~--~-3~~~~~-~--1--~~~~-~~-~~~~-~~-----~-~-~-~-~~----~~- 12\n",
      "13 ~~~--~~-~~-~~~-~--~~~~---~-~~~----~-~-~~~~~~---~---~~---~~-- 13\n",
      "14 ---~----~-------~~~~----~----~~--~~-~~----~-~-----~----~~~~- 14\n",
      "\n",
      "   012345678901234567890123456789012345678901234567890123456789\n",
      "             1         2         3         4         5\n",
      "Treasure detected at a distance of 1 from the sonar device.\n",
      "You have 14 sonar device(s) left. 3 treasure chest(s) remaining.\n",
      "Where do you want to drop the next sonar device? (0-59 0-14) (or type quit)\n"
     ]
    },
    {
     "name": "stdin",
     "output_type": "stream",
     "text": [
      " 30 12\n"
     ]
    },
    {
     "name": "stdout",
     "output_type": "stream",
     "text": [
      "             1         2         3         4         5\n",
      "   012345678901234567890123456789012345678901234567890123456789\n",
      "\n",
      " 0 ~~-~---~--~~~~~~----~-~~-~-~~~-~~-~--~--~~~~~--~~-----~~-~~~ 0\n",
      " 1 --~--~~~~-~~~~--~~----~~--~-~~~~~~---~-~-~~-~----~~-~~~~~--~ 1\n",
      " 2 ~~-~-~~~--~~--~~~-~~~--~~~-~~~~~-~~---~~~-------~~-~---~-~~- 2\n",
      " 3 ~-~-~~~~-~X~~-----~-X-~~~~----~-~----~~~--~~--~~~-~~~~~--~-~ 3\n",
      " 4 ---~-~~~-~--~~--~~--~-~-~~-----~-~--~-----~~---~-~----~~-~~~ 4\n",
      " 5 -~~~-~~--~~~--~~~~-~~~-~~~~----~-----~-~-~----~-~----~~~~-~- 5\n",
      " 6 --~~~---~~--~~~~-~~-~--~----~~~-----~----~~-~~--~--~~~-~~-~~ 6\n",
      " 7 ~----~-~~~-~---~-~---~---~~~---~~~--~-~~~-~~-~-~-~~~--~--~-~ 7\n",
      " 8 ~~-~~~-~--6-~-~~~-~-5~-~~--~~-~~-~~-~~---~----~----~----~~~~ 8\n",
      " 9 -~--~-~-~~---~-~-~~~-~-~----~-~---~-~~-~-~~-~-~~~--~--~-~-~~ 9\n",
      "10 ----~-~-~--~~~-~-~~-~~-~~~-~-~-~-~~~~-~---~---~~---~~---~~~~ 10\n",
      "11 --~~~~-~~~--~~~--~---~---~~~-~--~-~~-~~~~-~~-~---~---~~-~~-~ 11\n",
      "12 ~~--~~--~-3~~~~~-~--1--~~~~-~~9~~~~-~~-----~-~-~-~-~~----~~- 12\n",
      "13 ~~~--~~-~~-~~~-~--~~~~---~-~~~----~-~-~~~~~~---~---~~---~~-- 13\n",
      "14 ---~----~-------~~~~----~----~~--~~-~~----~-~-----~----~~~~- 14\n",
      "\n",
      "   012345678901234567890123456789012345678901234567890123456789\n",
      "             1         2         3         4         5\n",
      "Treasure detected at a distance of 9 from the sonar device.\n",
      "You have 13 sonar device(s) left. 3 treasure chest(s) remaining.\n",
      "Where do you want to drop the next sonar device? (0-59 0-14) (or type quit)\n"
     ]
    },
    {
     "name": "stdin",
     "output_type": "stream",
     "text": [
      " 21 12\n"
     ]
    },
    {
     "name": "stdout",
     "output_type": "stream",
     "text": [
      "             1         2         3         4         5\n",
      "   012345678901234567890123456789012345678901234567890123456789\n",
      "\n",
      " 0 ~~-~---~--~~~~~~----~-~~-~-~~~-~~-~--~--~~~~~--~~-----~~-~~~ 0\n",
      " 1 --~--~~~~-~~~~--~~----~~--~-~~~~~~---~-~-~~-~----~~-~~~~~--~ 1\n",
      " 2 ~~-~-~~~--~~--~~~-~~~--~~~-~~~~~-~~---~~~-------~~-~---~-~~- 2\n",
      " 3 ~-~-~~~~-~X~~-----~-X-~~~~----~-~----~~~--~~--~~~-~~~~~--~-~ 3\n",
      " 4 ---~-~~~-~--~~--~~--~-~-~~-----~-~--~-----~~---~-~----~~-~~~ 4\n",
      " 5 -~~~-~~--~~~--~~~~-~~~-~~~~----~-----~-~-~----~-~----~~~~-~- 5\n",
      " 6 --~~~---~~--~~~~-~~-~--~----~~~-----~----~~-~~--~--~~~-~~-~~ 6\n",
      " 7 ~----~-~~~-~---~-~---~---~~~---~~~--~-~~~-~~-~-~-~~~--~--~-~ 7\n",
      " 8 ~~-~~~-~--6-~-~~~-~-5~-~~--~~-~~-~~-~~---~----~----~----~~~~ 8\n",
      " 9 -~--~-~-~~---~-~-~~~-~-~----~-~---~-~~-~-~~-~-~~~--~--~-~-~~ 9\n",
      "10 ----~-~-~--~~~-~-~~-~~-~~~-~-~-~-~~~~-~---~---~~---~~---~~~~ 10\n",
      "11 --~~~~-~~~--~~~--~---~---~~~-~--~-~~-~~~~-~~-~---~---~~-~~-~ 11\n",
      "12 ~~--~~--~-3~~~~~-~--11-~~~~-~~9~~~~-~~-----~-~-~-~-~~----~~- 12\n",
      "13 ~~~--~~-~~-~~~-~--~~~~---~-~~~----~-~-~~~~~~---~---~~---~~-- 13\n",
      "14 ---~----~-------~~~~----~----~~--~~-~~----~-~-----~----~~~~- 14\n",
      "\n",
      "   012345678901234567890123456789012345678901234567890123456789\n",
      "             1         2         3         4         5\n",
      "Treasure detected at a distance of 1 from the sonar device.\n",
      "You have 12 sonar device(s) left. 3 treasure chest(s) remaining.\n",
      "Where do you want to drop the next sonar device? (0-59 0-14) (or type quit)\n"
     ]
    },
    {
     "name": "stdin",
     "output_type": "stream",
     "text": [
      " 20 11\n"
     ]
    },
    {
     "name": "stdout",
     "output_type": "stream",
     "text": [
      "             1         2         3         4         5\n",
      "   012345678901234567890123456789012345678901234567890123456789\n",
      "\n",
      " 0 ~~-~---~--~~~~~~----~-~~-~-~~~-~~-~--~--~~~~~--~~-----~~-~~~ 0\n",
      " 1 --~--~~~~-~~~~--~~----~~--~-~~~~~~---~-~-~~-~----~~-~~~~~--~ 1\n",
      " 2 ~~-~-~~~--~~--~~~-~~~--~~~-~~~~~-~~---~~~-------~~-~---~-~~- 2\n",
      " 3 ~-~-~~~~-~X~~-----~-X-~~~~----~-~----~~~--~~--~~~-~~~~~--~-~ 3\n",
      " 4 ---~-~~~-~--~~--~~--~-~-~~-----~-~--~-----~~---~-~----~~-~~~ 4\n",
      " 5 -~~~-~~--~~~--~~~~-~~~-~~~~----~-----~-~-~----~-~----~~~~-~- 5\n",
      " 6 --~~~---~~--~~~~-~~-~--~----~~~-----~----~~-~~--~--~~~-~~-~~ 6\n",
      " 7 ~----~-~~~-~---~-~---~---~~~---~~~--~-~~~-~~-~-~-~~~--~--~-~ 7\n",
      " 8 ~~-~~~-~--6-~-~~~-~-5~-~~--~~-~~-~~-~~---~----~----~----~~~~ 8\n",
      " 9 -~--~-~-~~---~-~-~~~-~-~----~-~---~-~~-~-~~-~-~~~--~--~-~-~~ 9\n",
      "10 ----~-~-~--~~~-~-~~-~~-~~~-~-~-~-~~~~-~---~---~~---~~---~~~~ 10\n",
      "11 --~~~~-~~~--~~~--~--2~---~~~-~--~-~~-~~~~-~~-~---~---~~-~~-~ 11\n",
      "12 ~~--~~--~-3~~~~~-~--11-~~~~-~~9~~~~-~~-----~-~-~-~-~~----~~- 12\n",
      "13 ~~~--~~-~~-~~~-~--~~~~---~-~~~----~-~-~~~~~~---~---~~---~~-- 13\n",
      "14 ---~----~-------~~~~----~----~~--~~-~~----~-~-----~----~~~~- 14\n",
      "\n",
      "   012345678901234567890123456789012345678901234567890123456789\n",
      "             1         2         3         4         5\n",
      "Treasure detected at a distance of 2 from the sonar device.\n",
      "You have 11 sonar device(s) left. 3 treasure chest(s) remaining.\n",
      "Where do you want to drop the next sonar device? (0-59 0-14) (or type quit)\n"
     ]
    },
    {
     "name": "stdin",
     "output_type": "stream",
     "text": [
      " 20 13\n"
     ]
    },
    {
     "name": "stdout",
     "output_type": "stream",
     "text": [
      "             1         2         3         4         5\n",
      "   012345678901234567890123456789012345678901234567890123456789\n",
      "\n",
      " 0 ~~-~---~--~~~~~~----~-~~-~-~~~-~~-~--~--~~~~~--~~-----~~-~~~ 0\n",
      " 1 --~--~~~~-~~~~--~~----~~--~-~~~~~~---~-~-~~-~----~~-~~~~~--~ 1\n",
      " 2 ~~-~-~~~--~~--~~~-~~~--~~~-~~~~~-~~---~~~-------~~-~---~-~~- 2\n",
      " 3 ~-~-~~~~-~X~~-----~-X-~~~~----~-~----~~~--~~--~~~-~~~~~--~-~ 3\n",
      " 4 ---~-~~~-~--~~--~~--~-~-~~-----~-~--~-----~~---~-~----~~-~~~ 4\n",
      " 5 -~~~-~~--~~~--~~~~-~~~-~~~~----~-----~-~-~----~-~----~~~~-~- 5\n",
      " 6 --~~~---~~--~~~~-~~-~--~----~~~-----~----~~-~~--~--~~~-~~-~~ 6\n",
      " 7 ~----~-~~~-~---~-~---~---~~~---~~~--~-~~~-~~-~-~-~~~--~--~-~ 7\n",
      " 8 ~~-~~~-~--6-~-~~~-~-5~-~~--~~-~~-~~-~~---~----~----~----~~~~ 8\n",
      " 9 -~--~-~-~~---~-~-~~~-~-~----~-~---~-~~-~-~~-~-~~~--~--~-~-~~ 9\n",
      "10 ----~-~-~--~~~-~-~~-~~-~~~-~-~-~-~~~~-~---~---~~---~~---~~~~ 10\n",
      "11 --~~~~-~~~--~~~--~--2~---~~~-~--~-~~-~~~~-~~-~---~---~~-~~-~ 11\n",
      "12 ~~--~~--~-3~~~~~-~--11-~~~~-~~9~~~~-~~-----~-~-~-~-~~----~~- 12\n",
      "13 ~~~--~~-~~-~~~-~--~~1~---~-~~~----~-~-~~~~~~---~---~~---~~-- 13\n",
      "14 ---~----~-------~~~~----~----~~--~~-~~----~-~-----~----~~~~- 14\n",
      "\n",
      "   012345678901234567890123456789012345678901234567890123456789\n",
      "             1         2         3         4         5\n",
      "Treasure detected at a distance of 1 from the sonar device.\n",
      "You have 10 sonar device(s) left. 3 treasure chest(s) remaining.\n",
      "Where do you want to drop the next sonar device? (0-59 0-14) (or type quit)\n"
     ]
    },
    {
     "name": "stdin",
     "output_type": "stream",
     "text": [
      " 21 13\n"
     ]
    },
    {
     "name": "stdout",
     "output_type": "stream",
     "text": [
      "             1         2         3         4         5\n",
      "   012345678901234567890123456789012345678901234567890123456789\n",
      "\n",
      " 0 ~~-~---~--~~~~~~----~-~~-~-~~~-~~-~--~--~~~~~--~~-----~~-~~~ 0\n",
      " 1 --~--~~~~-~~~~--~~----~~--~-~~~~~~---~-~-~~-~----~~-~~~~~--~ 1\n",
      " 2 ~~-~-~~~--~~--~~~-~~~--~~~-~~~~~-~~---~~~-------~~-~---~-~~- 2\n",
      " 3 ~-~-~~~~-~X~~-----~-X-~~~~----~-~----~~~--~~--~~~-~~~~~--~-~ 3\n",
      " 4 ---~-~~~-~--~~--~~--~-~-~~-----~-~--~-----~~---~-~----~~-~~~ 4\n",
      " 5 -~~~-~~--~~~--~~~~-~~~-~~~~----~-----~-~-~----~-~----~~~~-~- 5\n",
      " 6 --~~~---~~--~~~~-~~-~--~----~~~-----~----~~-~~--~--~~~-~~-~~ 6\n",
      " 7 ~----~-~~~-~---~-~---~---~~~---~~~--~-~~~-~~-~-~-~~~--~--~-~ 7\n",
      " 8 ~~-~~~-~--6-~-~~~-~-9~-~~--~~-~~-~~-~~---~----~----~----~~~~ 8\n",
      " 9 -~--~-~-~~---~-~-~~~-~-~----~-~---~-~~-~-~~-~-~~~--~--~-~-~~ 9\n",
      "10 ----~-~-~--~~~-~-~~-~~-~~~-~-~-~-~~~~-~---~---~~---~~---~~~~ 10\n",
      "11 --~~~~-~~~--~~~--~--7~---~~~-~--~-~~-~~~~-~~-~---~---~~-~~-~ 11\n",
      "12 ~~--~~--~-3~~~~~-~--78-~~~~-~~X~~~~-~~-----~-~-~-~-~~----~~- 12\n",
      "13 ~~~--~~-~~-~~~-~--~~78---~-~~~----~-~-~~~~~~---~---~~---~~-- 13\n",
      "14 ---~----~-------~~~~----~----~~--~~-~~----~-~-----~----~~~~- 14\n",
      "\n",
      "   012345678901234567890123456789012345678901234567890123456789\n",
      "             1         2         3         4         5\n",
      "You have found a sunken treasure chest!\n",
      "You have 9 sonar device(s) left. 2 treasure chest(s) remaining.\n",
      "Where do you want to drop the next sonar device? (0-59 0-14) (or type quit)\n"
     ]
    },
    {
     "name": "stdin",
     "output_type": "stream",
     "text": [
      " 10 14\n"
     ]
    },
    {
     "name": "stdout",
     "output_type": "stream",
     "text": [
      "             1         2         3         4         5\n",
      "   012345678901234567890123456789012345678901234567890123456789\n",
      "\n",
      " 0 ~~-~---~--~~~~~~----~-~~-~-~~~-~~-~--~--~~~~~--~~-----~~-~~~ 0\n",
      " 1 --~--~~~~-~~~~--~~----~~--~-~~~~~~---~-~-~~-~----~~-~~~~~--~ 1\n",
      " 2 ~~-~-~~~--~~--~~~-~~~--~~~-~~~~~-~~---~~~-------~~-~---~-~~- 2\n",
      " 3 ~-~-~~~~-~X~~-----~-X-~~~~----~-~----~~~--~~--~~~-~~~~~--~-~ 3\n",
      " 4 ---~-~~~-~--~~--~~--~-~-~~-----~-~--~-----~~---~-~----~~-~~~ 4\n",
      " 5 -~~~-~~--~~~--~~~~-~~~-~~~~----~-----~-~-~----~-~----~~~~-~- 5\n",
      " 6 --~~~---~~--~~~~-~~-~--~----~~~-----~----~~-~~--~--~~~-~~-~~ 6\n",
      " 7 ~----~-~~~-~---~-~---~---~~~---~~~--~-~~~-~~-~-~-~~~--~--~-~ 7\n",
      " 8 ~~-~~~-~--6-~-~~~-~-9~-~~--~~-~~-~~-~~---~----~----~----~~~~ 8\n",
      " 9 -~--~-~-~~---~-~-~~~-~-~----~-~---~-~~-~-~~-~-~~~--~--~-~-~~ 9\n",
      "10 ----~-~-~--~~~-~-~~-~~-~~~-~-~-~-~~~~-~---~---~~---~~---~~~~ 10\n",
      "11 --~~~~-~~~--~~~--~--7~---~~~-~--~-~~-~~~~-~~-~---~---~~-~~-~ 11\n",
      "12 ~~--~~--~-3~~~~~-~--78-~~~~-~~X~~~~-~~-----~-~-~-~-~~----~~- 12\n",
      "13 ~~~--~~-~~-~~~-~--~~78---~-~~~----~-~-~~~~~~---~---~~---~~-- 13\n",
      "14 ---~----~-3-----~~~~----~----~~--~~-~~----~-~-----~----~~~~- 14\n",
      "\n",
      "   012345678901234567890123456789012345678901234567890123456789\n",
      "             1         2         3         4         5\n",
      "Treasure detected at a distance of 3 from the sonar device.\n",
      "You have 8 sonar device(s) left. 2 treasure chest(s) remaining.\n",
      "Where do you want to drop the next sonar device? (0-59 0-14) (or type quit)\n"
     ]
    },
    {
     "name": "stdin",
     "output_type": "stream",
     "text": [
      " 15 13\n"
     ]
    },
    {
     "name": "stdout",
     "output_type": "stream",
     "text": [
      "             1         2         3         4         5\n",
      "   012345678901234567890123456789012345678901234567890123456789\n",
      "\n",
      " 0 ~~-~---~--~~~~~~----~-~~-~-~~~-~~-~--~--~~~~~--~~-----~~-~~~ 0\n",
      " 1 --~--~~~~-~~~~--~~----~~--~-~~~~~~---~-~-~~-~----~~-~~~~~--~ 1\n",
      " 2 ~~-~-~~~--~~--~~~-~~~--~~~-~~~~~-~~---~~~-------~~-~---~-~~- 2\n",
      " 3 ~-~-~~~~-~X~~-----~-X-~~~~----~-~----~~~--~~--~~~-~~~~~--~-~ 3\n",
      " 4 ---~-~~~-~--~~--~~--~-~-~~-----~-~--~-----~~---~-~----~~-~~~ 4\n",
      " 5 -~~~-~~--~~~--~~~~-~~~-~~~~----~-----~-~-~----~-~----~~~~-~- 5\n",
      " 6 --~~~---~~--~~~~-~~-~--~----~~~-----~----~~-~~--~--~~~-~~-~~ 6\n",
      " 7 ~----~-~~~-~---~-~---~---~~~---~~~--~-~~~-~~-~-~-~~~--~--~-~ 7\n",
      " 8 ~~-~~~-~--6-~-~~~-~-9~-~~--~~-~~-~~-~~---~----~----~----~~~~ 8\n",
      " 9 -~--~-~-~~---~-~-~~~-~-~----~-~---~-~~-~-~~-~-~~~--~--~-~-~~ 9\n",
      "10 ----~-~-~--~~~-~-~~-~~-~~~-~-~-~-~~~~-~---~---~~---~~---~~~~ 10\n",
      "11 --~~~~-~~~--~~~--~--7~---~~~-~--~-~~-~~~~-~~-~---~---~~-~~-~ 11\n",
      "12 ~~--~~--~-3~~~~~-~--78-~~~~-~~X~~~~-~~-----~-~-~-~-~~----~~- 12\n",
      "13 ~~~--~~-~~-~~~-2--~~78---~-~~~----~-~-~~~~~~---~---~~---~~-- 13\n",
      "14 ---~----~-3-----~~~~----~----~~--~~-~~----~-~-----~----~~~~- 14\n",
      "\n",
      "   012345678901234567890123456789012345678901234567890123456789\n",
      "             1         2         3         4         5\n",
      "Treasure detected at a distance of 2 from the sonar device.\n",
      "You have 7 sonar device(s) left. 2 treasure chest(s) remaining.\n",
      "Where do you want to drop the next sonar device? (0-59 0-14) (or type quit)\n"
     ]
    },
    {
     "name": "stdin",
     "output_type": "stream",
     "text": [
      " 13 13\n"
     ]
    },
    {
     "name": "stdout",
     "output_type": "stream",
     "text": [
      "             1         2         3         4         5\n",
      "   012345678901234567890123456789012345678901234567890123456789\n",
      "\n",
      " 0 ~~-~---~--~~~~~~----~-~~-~-~~~-~~-~--~--~~~~~--~~-----~~-~~~ 0\n",
      " 1 --~--~~~~-~~~~--~~----~~--~-~~~~~~---~-~-~~-~----~~-~~~~~--~ 1\n",
      " 2 ~~-~-~~~--~~--~~~-~~~--~~~-~~~~~-~~---~~~-------~~-~---~-~~- 2\n",
      " 3 ~-~-~~~~-~X~~-----~-X-~~~~----~-~----~~~--~~--~~~-~~~~~--~-~ 3\n",
      " 4 ---~-~~~-~--~~--~~--~-~-~~-----~-~--~-----~~---~-~----~~-~~~ 4\n",
      " 5 -~~~-~~--~~~--~~~~-~~~-~~~~----~-----~-~-~----~-~----~~~~-~- 5\n",
      " 6 --~~~---~~--~~~~-~~-~--~----~~~-----~----~~-~~--~--~~~-~~-~~ 6\n",
      " 7 ~----~-~~~-~---~-~---~---~~~---~~~--~-~~~-~~-~-~-~~~--~--~-~ 7\n",
      " 8 ~~-~~~-~--X-~-~~~-~-X~-~~--~~-~~-~~-~~---~----~----~----~~~~ 8\n",
      " 9 -~--~-~-~~---~-~-~~~-~-~----~-~---~-~~-~-~~-~-~~~--~--~-~-~~ 9\n",
      "10 ----~-~-~--~~~-~-~~-~~-~~~-~-~-~-~~~~-~---~---~~---~~---~~~~ 10\n",
      "11 --~~~~-~~~--~~~--~--X~---~~~-~--~-~~-~~~~-~~-~---~---~~-~~-~ 11\n",
      "12 ~~--~~--~-X~~~~~-~--XX-~~~~-~~X~~~~-~~-----~-~-~-~-~~----~~- 12\n",
      "13 ~~~--~~-~~-~~X-X--~~XX---~-~~~----~-~-~~~~~~---~---~~---~~-- 13\n",
      "14 ---~----~-X-----~~~~----~----~~--~~-~~----~-~-----~----~~~~- 14\n",
      "\n",
      "   012345678901234567890123456789012345678901234567890123456789\n",
      "             1         2         3         4         5\n",
      "You have found a sunken treasure chest!\n",
      "You have 6 sonar device(s) left. 1 treasure chest(s) remaining.\n",
      "Where do you want to drop the next sonar device? (0-59 0-14) (or type quit)\n"
     ]
    },
    {
     "name": "stdin",
     "output_type": "stream",
     "text": [
      " 40 3\n"
     ]
    },
    {
     "name": "stdout",
     "output_type": "stream",
     "text": [
      "             1         2         3         4         5\n",
      "   012345678901234567890123456789012345678901234567890123456789\n",
      "\n",
      " 0 ~~-~---~--~~~~~~----~-~~-~-~~~-~~-~--~--~~~~~--~~-----~~-~~~ 0\n",
      " 1 --~--~~~~-~~~~--~~----~~--~-~~~~~~---~-~-~~-~----~~-~~~~~--~ 1\n",
      " 2 ~~-~-~~~--~~--~~~-~~~--~~~-~~~~~-~~---~~~-------~~-~---~-~~- 2\n",
      " 3 ~-~-~~~~-~X~~-----~-X-~~~~----~-~----~~~X-~~--~~~-~~~~~--~-~ 3\n",
      " 4 ---~-~~~-~--~~--~~--~-~-~~-----~-~--~-----~~---~-~----~~-~~~ 4\n",
      " 5 -~~~-~~--~~~--~~~~-~~~-~~~~----~-----~-~-~----~-~----~~~~-~- 5\n",
      " 6 --~~~---~~--~~~~-~~-~--~----~~~-----~----~~-~~--~--~~~-~~-~~ 6\n",
      " 7 ~----~-~~~-~---~-~---~---~~~---~~~--~-~~~-~~-~-~-~~~--~--~-~ 7\n",
      " 8 ~~-~~~-~--X-~-~~~-~-X~-~~--~~-~~-~~-~~---~----~----~----~~~~ 8\n",
      " 9 -~--~-~-~~---~-~-~~~-~-~----~-~---~-~~-~-~~-~-~~~--~--~-~-~~ 9\n",
      "10 ----~-~-~--~~~-~-~~-~~-~~~-~-~-~-~~~~-~---~---~~---~~---~~~~ 10\n",
      "11 --~~~~-~~~--~~~--~--X~---~~~-~--~-~~-~~~~-~~-~---~---~~-~~-~ 11\n",
      "12 ~~--~~--~-X~~~~~-~--XX-~~~~-~~X~~~~-~~-----~-~-~-~-~~----~~- 12\n",
      "13 ~~~--~~-~~-~~X-X--~~XX---~-~~~----~-~-~~~~~~---~---~~---~~-- 13\n",
      "14 ---~----~-X-----~~~~----~----~~--~~-~~----~-~-----~----~~~~- 14\n",
      "\n",
      "   012345678901234567890123456789012345678901234567890123456789\n",
      "             1         2         3         4         5\n",
      "Sonar did not detect anything. All treasure chests out of range.\n",
      "You have 5 sonar device(s) left. 1 treasure chest(s) remaining.\n",
      "Where do you want to drop the next sonar device? (0-59 0-14) (or type quit)\n"
     ]
    },
    {
     "name": "stdin",
     "output_type": "stream",
     "text": [
      " 40 8\n"
     ]
    },
    {
     "name": "stdout",
     "output_type": "stream",
     "text": [
      "             1         2         3         4         5\n",
      "   012345678901234567890123456789012345678901234567890123456789\n",
      "\n",
      " 0 ~~-~---~--~~~~~~----~-~~-~-~~~-~~-~--~--~~~~~--~~-----~~-~~~ 0\n",
      " 1 --~--~~~~-~~~~--~~----~~--~-~~~~~~---~-~-~~-~----~~-~~~~~--~ 1\n",
      " 2 ~~-~-~~~--~~--~~~-~~~--~~~-~~~~~-~~---~~~-------~~-~---~-~~- 2\n",
      " 3 ~-~-~~~~-~X~~-----~-X-~~~~----~-~----~~~X-~~--~~~-~~~~~--~-~ 3\n",
      " 4 ---~-~~~-~--~~--~~--~-~-~~-----~-~--~-----~~---~-~----~~-~~~ 4\n",
      " 5 -~~~-~~--~~~--~~~~-~~~-~~~~----~-----~-~-~----~-~----~~~~-~- 5\n",
      " 6 --~~~---~~--~~~~-~~-~--~----~~~-----~----~~-~~--~--~~~-~~-~~ 6\n",
      " 7 ~----~-~~~-~---~-~---~---~~~---~~~--~-~~~-~~-~-~-~~~--~--~-~ 7\n",
      " 8 ~~-~~~-~--X-~-~~~-~-X~-~~--~~-~~-~~-~~--X~----~----~----~~~~ 8\n",
      " 9 -~--~-~-~~---~-~-~~~-~-~----~-~---~-~~-~-~~-~-~~~--~--~-~-~~ 9\n",
      "10 ----~-~-~--~~~-~-~~-~~-~~~-~-~-~-~~~~-~---~---~~---~~---~~~~ 10\n",
      "11 --~~~~-~~~--~~~--~--X~---~~~-~--~-~~-~~~~-~~-~---~---~~-~~-~ 11\n",
      "12 ~~--~~--~-X~~~~~-~--XX-~~~~-~~X~~~~-~~-----~-~-~-~-~~----~~- 12\n",
      "13 ~~~--~~-~~-~~X-X--~~XX---~-~~~----~-~-~~~~~~---~---~~---~~-- 13\n",
      "14 ---~----~-X-----~~~~----~----~~--~~-~~----~-~-----~----~~~~- 14\n",
      "\n",
      "   012345678901234567890123456789012345678901234567890123456789\n",
      "             1         2         3         4         5\n",
      "Sonar did not detect anything. All treasure chests out of range.\n",
      "You have 4 sonar device(s) left. 1 treasure chest(s) remaining.\n",
      "Where do you want to drop the next sonar device? (0-59 0-14) (or type quit)\n"
     ]
    },
    {
     "name": "stdin",
     "output_type": "stream",
     "text": [
      " 40 12\n"
     ]
    },
    {
     "name": "stdout",
     "output_type": "stream",
     "text": [
      "             1         2         3         4         5\n",
      "   012345678901234567890123456789012345678901234567890123456789\n",
      "\n",
      " 0 ~~-~---~--~~~~~~----~-~~-~-~~~-~~-~--~--~~~~~--~~-----~~-~~~ 0\n",
      " 1 --~--~~~~-~~~~--~~----~~--~-~~~~~~---~-~-~~-~----~~-~~~~~--~ 1\n",
      " 2 ~~-~-~~~--~~--~~~-~~~--~~~-~~~~~-~~---~~~-------~~-~---~-~~- 2\n",
      " 3 ~-~-~~~~-~X~~-----~-X-~~~~----~-~----~~~X-~~--~~~-~~~~~--~-~ 3\n",
      " 4 ---~-~~~-~--~~--~~--~-~-~~-----~-~--~-----~~---~-~----~~-~~~ 4\n",
      " 5 -~~~-~~--~~~--~~~~-~~~-~~~~----~-----~-~-~----~-~----~~~~-~- 5\n",
      " 6 --~~~---~~--~~~~-~~-~--~----~~~-----~----~~-~~--~--~~~-~~-~~ 6\n",
      " 7 ~----~-~~~-~---~-~---~---~~~---~~~--~-~~~-~~-~-~-~~~--~--~-~ 7\n",
      " 8 ~~-~~~-~--X-~-~~~-~-X~-~~--~~-~~-~~-~~--X~----~----~----~~~~ 8\n",
      " 9 -~--~-~-~~---~-~-~~~-~-~----~-~---~-~~-~-~~-~-~~~--~--~-~-~~ 9\n",
      "10 ----~-~-~--~~~-~-~~-~~-~~~-~-~-~-~~~~-~---~---~~---~~---~~~~ 10\n",
      "11 --~~~~-~~~--~~~--~--X~---~~~-~--~-~~-~~~~-~~-~---~---~~-~~-~ 11\n",
      "12 ~~--~~--~-X~~~~~-~--XX-~~~~-~~X~~~~-~~--X--~-~-~-~-~~----~~- 12\n",
      "13 ~~~--~~-~~-~~X-X--~~XX---~-~~~----~-~-~~~~~~---~---~~---~~-- 13\n",
      "14 ---~----~-X-----~~~~----~----~~--~~-~~----~-~-----~----~~~~- 14\n",
      "\n",
      "   012345678901234567890123456789012345678901234567890123456789\n",
      "             1         2         3         4         5\n",
      "Sonar did not detect anything. All treasure chests out of range.\n",
      "You have 3 sonar device(s) left. 1 treasure chest(s) remaining.\n",
      "Where do you want to drop the next sonar device? (0-59 0-14) (or type quit)\n"
     ]
    },
    {
     "name": "stdin",
     "output_type": "stream",
     "text": [
      " 50 3\n"
     ]
    },
    {
     "name": "stdout",
     "output_type": "stream",
     "text": [
      "             1         2         3         4         5\n",
      "   012345678901234567890123456789012345678901234567890123456789\n",
      "\n",
      " 0 ~~-~---~--~~~~~~----~-~~-~-~~~-~~-~--~--~~~~~--~~-----~~-~~~ 0\n",
      " 1 --~--~~~~-~~~~--~~----~~--~-~~~~~~---~-~-~~-~----~~-~~~~~--~ 1\n",
      " 2 ~~-~-~~~--~~--~~~-~~~--~~~-~~~~~-~~---~~~-------~~-~---~-~~- 2\n",
      " 3 ~-~-~~~~-~X~~-----~-X-~~~~----~-~----~~~X-~~--~~~-5~~~~--~-~ 3\n",
      " 4 ---~-~~~-~--~~--~~--~-~-~~-----~-~--~-----~~---~-~----~~-~~~ 4\n",
      " 5 -~~~-~~--~~~--~~~~-~~~-~~~~----~-----~-~-~----~-~----~~~~-~- 5\n",
      " 6 --~~~---~~--~~~~-~~-~--~----~~~-----~----~~-~~--~--~~~-~~-~~ 6\n",
      " 7 ~----~-~~~-~---~-~---~---~~~---~~~--~-~~~-~~-~-~-~~~--~--~-~ 7\n",
      " 8 ~~-~~~-~--X-~-~~~-~-X~-~~--~~-~~-~~-~~--X~----~----~----~~~~ 8\n",
      " 9 -~--~-~-~~---~-~-~~~-~-~----~-~---~-~~-~-~~-~-~~~--~--~-~-~~ 9\n",
      "10 ----~-~-~--~~~-~-~~-~~-~~~-~-~-~-~~~~-~---~---~~---~~---~~~~ 10\n",
      "11 --~~~~-~~~--~~~--~--X~---~~~-~--~-~~-~~~~-~~-~---~---~~-~~-~ 11\n",
      "12 ~~--~~--~-X~~~~~-~--XX-~~~~-~~X~~~~-~~--X--~-~-~-~-~~----~~- 12\n",
      "13 ~~~--~~-~~-~~X-X--~~XX---~-~~~----~-~-~~~~~~---~---~~---~~-- 13\n",
      "14 ---~----~-X-----~~~~----~----~~--~~-~~----~-~-----~----~~~~- 14\n",
      "\n",
      "   012345678901234567890123456789012345678901234567890123456789\n",
      "             1         2         3         4         5\n",
      "Treasure detected at a distance of 5 from the sonar device.\n",
      "You have 2 sonar device(s) left. 1 treasure chest(s) remaining.\n",
      "Where do you want to drop the next sonar device? (0-59 0-14) (or type quit)\n"
     ]
    },
    {
     "name": "stdin",
     "output_type": "stream",
     "text": [
      " 50 8\n"
     ]
    },
    {
     "name": "stdout",
     "output_type": "stream",
     "text": [
      "             1         2         3         4         5\n",
      "   012345678901234567890123456789012345678901234567890123456789\n",
      "\n",
      " 0 ~~-~---~--~~~~~~----~-~~-~-~~~-~~-~--~--~~~~~--~~-----~~-~~~ 0\n",
      " 1 --~--~~~~-~~~~--~~----~~--~-~~~~~~---~-~-~~-~----~~-~~~~~--~ 1\n",
      " 2 ~~-~-~~~--~~--~~~-~~~--~~~-~~~~~-~~---~~~-------~~-~---~-~~- 2\n",
      " 3 ~-~-~~~~-~X~~-----~-X-~~~~----~-~----~~~X-~~--~~~-5~~~~--~-~ 3\n",
      " 4 ---~-~~~-~--~~--~~--~-~-~~-----~-~--~-----~~---~-~----~~-~~~ 4\n",
      " 5 -~~~-~~--~~~--~~~~-~~~-~~~~----~-----~-~-~----~-~----~~~~-~- 5\n",
      " 6 --~~~---~~--~~~~-~~-~--~----~~~-----~----~~-~~--~--~~~-~~-~~ 6\n",
      " 7 ~----~-~~~-~---~-~---~---~~~---~~~--~-~~~-~~-~-~-~~~--~--~-~ 7\n",
      " 8 ~~-~~~-~--X-~-~~~-~-X~-~~--~~-~~-~~-~~--X~----~---4~----~~~~ 8\n",
      " 9 -~--~-~-~~---~-~-~~~-~-~----~-~---~-~~-~-~~-~-~~~--~--~-~-~~ 9\n",
      "10 ----~-~-~--~~~-~-~~-~~-~~~-~-~-~-~~~~-~---~---~~---~~---~~~~ 10\n",
      "11 --~~~~-~~~--~~~--~--X~---~~~-~--~-~~-~~~~-~~-~---~---~~-~~-~ 11\n",
      "12 ~~--~~--~-X~~~~~-~--XX-~~~~-~~X~~~~-~~--X--~-~-~-~-~~----~~- 12\n",
      "13 ~~~--~~-~~-~~X-X--~~XX---~-~~~----~-~-~~~~~~---~---~~---~~-- 13\n",
      "14 ---~----~-X-----~~~~----~----~~--~~-~~----~-~-----~----~~~~- 14\n",
      "\n",
      "   012345678901234567890123456789012345678901234567890123456789\n",
      "             1         2         3         4         5\n",
      "Treasure detected at a distance of 4 from the sonar device.\n",
      "You have 1 sonar device(s) left. 1 treasure chest(s) remaining.\n",
      "Where do you want to drop the next sonar device? (0-59 0-14) (or type quit)\n"
     ]
    },
    {
     "name": "stdin",
     "output_type": "stream",
     "text": [
      " 50 5\n"
     ]
    },
    {
     "name": "stdout",
     "output_type": "stream",
     "text": [
      "             1         2         3         4         5\n",
      "   012345678901234567890123456789012345678901234567890123456789\n",
      "\n",
      " 0 ~~-~---~--~~~~~~----~-~~-~-~~~-~~-~--~--~~~~~--~~-----~~-~~~ 0\n",
      " 1 --~--~~~~-~~~~--~~----~~--~-~~~~~~---~-~-~~-~----~~-~~~~~--~ 1\n",
      " 2 ~~-~-~~~--~~--~~~-~~~--~~~-~~~~~-~~---~~~-------~~-~---~-~~- 2\n",
      " 3 ~-~-~~~~-~X~~-----~-X-~~~~----~-~----~~~X-~~--~~~-5~~~~--~-~ 3\n",
      " 4 ---~-~~~-~--~~--~~--~-~-~~-----~-~--~-----~~---~-~----~~-~~~ 4\n",
      " 5 -~~~-~~--~~~--~~~~-~~~-~~~~----~-----~-~-~----~-~-4--~~~~-~- 5\n",
      " 6 --~~~---~~--~~~~-~~-~--~----~~~-----~----~~-~~--~--~~~-~~-~~ 6\n",
      " 7 ~----~-~~~-~---~-~---~---~~~---~~~--~-~~~-~~-~-~-~~~--~--~-~ 7\n",
      " 8 ~~-~~~-~--X-~-~~~-~-X~-~~--~~-~~-~~-~~--X~----~---4~----~~~~ 8\n",
      " 9 -~--~-~-~~---~-~-~~~-~-~----~-~---~-~~-~-~~-~-~~~--~--~-~-~~ 9\n",
      "10 ----~-~-~--~~~-~-~~-~~-~~~-~-~-~-~~~~-~---~---~~---~~---~~~~ 10\n",
      "11 --~~~~-~~~--~~~--~--X~---~~~-~--~-~~-~~~~-~~-~---~---~~-~~-~ 11\n",
      "12 ~~--~~--~-X~~~~~-~--XX-~~~~-~~X~~~~-~~--X--~-~-~-~-~~----~~- 12\n",
      "13 ~~~--~~-~~-~~X-X--~~XX---~-~~~----~-~-~~~~~~---~---~~---~~-- 13\n",
      "14 ---~----~-X-----~~~~----~----~~--~~-~~----~-~-----~----~~~~- 14\n",
      "\n",
      "   012345678901234567890123456789012345678901234567890123456789\n",
      "             1         2         3         4         5\n",
      "Treasure detected at a distance of 4 from the sonar device.\n",
      "We've run out of sonar devices! Now we have to turn the ship around and head\n",
      "for home with treasure chests still out there! Game over.\n",
      " The remaining chests were here:\n",
      " 54, 6\n",
      "Do you want to play again? (yes or no)\n"
     ]
    },
    {
     "name": "stdin",
     "output_type": "stream",
     "text": [
      " no\n"
     ]
    },
    {
     "ename": "SystemExit",
     "evalue": "",
     "output_type": "error",
     "traceback": [
      "An exception has occurred, use %tb to see the full traceback.\n",
      "\u001b[1;31mSystemExit\u001b[0m\n"
     ]
    },
    {
     "name": "stderr",
     "output_type": "stream",
     "text": [
      "C:\\Users\\pauly\\AppData\\Local\\Programs\\Python\\Python311\\Lib\\site-packages\\IPython\\core\\interactiveshell.py:3468: UserWarning: To exit: use 'exit', 'quit', or Ctrl-D.\n",
      "  warn(\"To exit: use 'exit', 'quit', or Ctrl-D.\", stacklevel=1)\n"
     ]
    }
   ],
   "source": [
    "print('S O N A R !')\n",
    "print()\n",
    "print('Would you like to view the instructions? (yes/no)')\n",
    "if input().lower().startswith('y'):\n",
    "    showInstructions()\n",
    "\n",
    "while True:\n",
    "    # Game setup\n",
    "    sonarDevices = 20\n",
    "    theBoard = getNewBoard()\n",
    "    theChests = getRandomChests(3)\n",
    "    drawBoard(theBoard)\n",
    "    previousMoves = []\n",
    "\n",
    "    while sonarDevices > 0:\n",
    "        # Show sonar device and chest statuses.\n",
    "        print('You have %s sonar device(s) left. %s treasure chest(s) remaining.' % (sonarDevices, len(theChests)))\n",
    "\n",
    "        x, y = enterPlayerMove(previousMoves)\n",
    "        # We must track all moves so that sonar devices can be updated.\n",
    "        previousMoves.append([x, y]) \n",
    "\n",
    "        moveResult = makeMove(theBoard, theChests, x, y)\n",
    "        if moveResult == False:\n",
    "            continue\n",
    "        else:\n",
    "            if moveResult == 'You have found a sunken treasure chest!':\n",
    "                # Update all the sonar devices currently on the map.\n",
    "                for x, y in previousMoves:\n",
    "                    makeMove(theBoard, theChests, x, y)\n",
    "            drawBoard(theBoard)\n",
    "            print(moveResult)\n",
    "\n",
    "        if len(theChests) == 0:\n",
    "            print('You have found all the sunken treasure chests! Congratulations and good game!')\n",
    "            break\n",
    "\n",
    "        sonarDevices -= 1\n",
    "\n",
    "    if sonarDevices == 0:\n",
    "        print('We\\'ve run out of sonar devices! Now we have to turn the ship around and head')\n",
    "        print('for home with treasure chests still out there! Game over.')\n",
    "        print(' The remaining chests were here:')\n",
    "        for x, y in theChests:\n",
    "            print(' %s, %s' % (x, y))\n",
    "\n",
    "    print('Do you want to play again? (yes or no)')\n",
    "    if not input().lower().startswith('y'):\n",
    "        sys.exit()"
   ]
  }
 ],
 "metadata": {
  "kernelspec": {
   "display_name": "Python 3 (ipykernel)",
   "language": "python",
   "name": "python3"
  },
  "language_info": {
   "codemirror_mode": {
    "name": "ipython",
    "version": 3
   },
   "file_extension": ".py",
   "mimetype": "text/x-python",
   "name": "python",
   "nbconvert_exporter": "python",
   "pygments_lexer": "ipython3",
   "version": "3.11.2"
  }
 },
 "nbformat": 4,
 "nbformat_minor": 5
}
