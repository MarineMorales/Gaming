{
 "cells": [
  {
   "cell_type": "markdown",
   "id": "bb9bd774-04e1-4d70-951d-b62dc655c4d0",
   "metadata": {},
   "source": [
    "# Game: Tic Tac Toe"
   ]
  },
  {
   "cell_type": "markdown",
   "id": "3f762a07-5ce2-45c8-878d-48fc5219bf6b",
   "metadata": {
    "tags": []
   },
   "source": [
    "## 1. Rules"
   ]
  },
  {
   "cell_type": "markdown",
   "id": "ca618903-ff42-494d-8c2d-81f6fbb195bd",
   "metadata": {
    "tags": []
   },
   "source": [
    "Tic-Tac-Toe is normally played with two people. One player is X and the other is O. \n",
    "Players take turns placing their X or O. \n",
    "If a player gets three of their marks on the board in a row, column, or diagonal, they win. \n",
    "When the board fills up with neither player winning, the game ends in a draw."
   ]
  },
  {
   "cell_type": "markdown",
   "id": "21aeb0cc-4612-421c-b8fd-722c944e1a6a",
   "metadata": {},
   "source": [
    "## 2. Flowchart"
   ]
  },
  {
   "cell_type": "code",
   "execution_count": 1,
   "id": "7929ca97-900b-4c53-ae6f-0584fd46a464",
   "metadata": {},
   "outputs": [],
   "source": [
    "from graphviz import Digraph"
   ]
  },
  {
   "cell_type": "code",
   "execution_count": 2,
   "id": "cc69a6fd-a032-4082-b97f-dbdcf82f0d5b",
   "metadata": {},
   "outputs": [],
   "source": [
    "dot = Digraph(comment='TicTacToe Flowchart')\n",
    "\n",
    "dot.node('START', 'START', shape='oval', style='filled', fillcolor='grey')\n",
    "dot.node(\"Ask for Player's letter\", \"Ask for Player's letter\")\n",
    "dot.node('Decide who Goes First', 'Decide who Goes First')\n",
    "\n",
    "dot.node('Display Board', 'Display Board', style='filled', fillcolor='white')\n",
    "dot.node(\"Ask for Player's Move\", \"Ask for Player's Move\", style='filled', fillcolor='white')\n",
    "dot.node(\"Check Player's Winning Condition\", \"Check Player's \\n Winning Condition\", style='filled', fillcolor='white')\n",
    "\n",
    "player_wins = Digraph('Player wins', node_attr={'shape': 'doublecircle', 'color': 'green', 'style': 'filled', 'fillcolor': 'white'})\n",
    "player_wins.node('Win','Win')\n",
    "dot.subgraph(player_wins)\n",
    "\n",
    "dot.node(\"Check Tie Condition after Player's Move\", \"Check Tie Condition \\n after Player's Move\", style='filled', fillcolor='white')\n",
    "nobody_wins_p = Digraph('Nobody wins p', node_attr={'shape': 'doublecircle', 'color': 'blue', 'style': 'filled', 'fillcolor': 'white'})\n",
    "nobody_wins_p.node('Tie p','Tie')\n",
    "dot.subgraph(nobody_wins_p)\n",
    "    \n",
    "dot.node(\"Get Computer's Move\", \"Get Computer's Move\", style='filled', fillcolor='white')\n",
    "dot.node(\"Check Computer's Winning Condition\", \"Check Computer's \\n Winning Condition\", style='filled', fillcolor='white')\n",
    "\n",
    "computer_wins = Digraph('Computer wins', node_attr={'shape': 'doublecircle', 'color': 'red', 'style': 'filled', 'fillcolor': 'white'})\n",
    "computer_wins.node('Lose','Lose')\n",
    "dot.subgraph(computer_wins)\n",
    "\n",
    "dot.node(\"Check Tie Condition after Computer's Move\", \"Check Tie Condition \\n after Computer's Move\", style='filled', fillcolor='white')\n",
    "nobody_wins_c = Digraph('Nobody wins c', node_attr={'shape': 'doublecircle', 'color': 'blue', 'style': 'filled', 'fillcolor': 'white'})\n",
    "nobody_wins_c.node('Tie c','Tie')\n",
    "dot.subgraph(nobody_wins_c)\n",
    "\n",
    "dot.node('Play Again?', 'Play Again?')\n",
    "dot.node('END', 'END', shape='oval', style='filled', fillcolor='grey')"
   ]
  },
  {
   "cell_type": "code",
   "execution_count": 3,
   "id": "eddfbbf0-5ed6-4b3f-93e1-be56a34d6094",
   "metadata": {},
   "outputs": [],
   "source": [
    "dot.edge('START', \"Ask for Player's letter\")\n",
    "dot.edge(\"Ask for Player's letter\", 'Decide who Goes First')\n",
    "\n",
    "dot.edge('Decide who Goes First', 'Display Board', label='Player \\n Goes \\n First')\n",
    "\n",
    "with dot.subgraph(name=\"cluster_player\") as p:\n",
    "    p.attr(style='filled', color='lightgrey')\n",
    "    #p.node_attr.update(style='filled', color='white')\n",
    "    p.edge('Display Board', \"Ask for Player's Move\")\n",
    "    p.edge(\"Ask for Player's Move\", \"Check Player's Winning Condition\")\n",
    "    p.edge(\"Check Player's Winning Condition\", 'Win', label='Player has \\n na complete line')\n",
    "    p.edge(\"Check Player's Winning Condition\", \"Check Tie Condition after Player's Move\", label=\"Player does not have \\n a complete line\")\n",
    "    p.edge(\"Check Tie Condition after Player's Move\", \"Tie p\", label=\"No More \\n Available \\n Moves\")\n",
    "    p.attr(label=\"Player's Turn\")\n",
    "    \n",
    "dot.edge(\"Win\", 'Play Again?')\n",
    "dot.edge(\"Tie p\", 'Play Again?')\n",
    "dot.edge(\"Check Tie Condition after Player's Move\", \"Get Computer's Move\", label='Still \\n Available \\n Moves')    \n",
    "         \n",
    "dot.edge('Decide who Goes First', \"Get Computer's Move\", label='Computer \\n Goes \\n First')\n",
    "\n",
    "with dot.subgraph(name=\"cluster_computer\") as c:\n",
    "    c.attr(style='filled', color='lightgrey')\n",
    "    #c.node_attr.update(style='filled', color='white')\n",
    "    c.edge(\"Get Computer's Move\", \"Check Computer's Winning Condition\")\n",
    "    c.edge(\"Check Computer's Winning Condition\", 'Lose', label='Computer has \\n a complete line')      \n",
    "    c.edge(\"Check Computer's Winning Condition\", \"Check Tie Condition after Computer's Move\", label=\"Computer does not have \\n a complete line\")\n",
    "    c.edge(\"Check Tie Condition after Computer's Move\", \"Tie c\", label=\"No More \\n Available \\n Moves\")\n",
    "    c.attr(label=\"Computer's Turn\")\n",
    "    \n",
    "dot.edge(\"Lose\", 'Play Again?')\n",
    "dot.edge(\"Tie c\", 'Play Again?')\n",
    "dot.edge(\"Check Tie Condition after Computer's Move\", 'Display Board', label='Still \\n Available \\n Moves')\n",
    "\n",
    "dot.edge('Play Again?', \"Ask for Player's letter\", label='Yes')\n",
    "dot.edge('Play Again?', 'END', label='No')"
   ]
  },
  {
   "cell_type": "code",
   "execution_count": 4,
   "id": "006bdffc-c75e-4a0b-801e-3c98785bd73c",
   "metadata": {
    "tags": []
   },
   "outputs": [
    {
     "data": {
      "image/svg+xml": [
       "<?xml version=\"1.0\" encoding=\"UTF-8\" standalone=\"no\"?>\n",
       "<!DOCTYPE svg PUBLIC \"-//W3C//DTD SVG 1.1//EN\"\n",
       " \"http://www.w3.org/Graphics/SVG/1.1/DTD/svg11.dtd\">\n",
       "<!-- Generated by graphviz version 7.1.0 (20230121.1956)\n",
       " -->\n",
       "<!-- Pages: 1 -->\n",
       "<svg width=\"929pt\" height=\"737pt\"\n",
       " viewBox=\"0.00 0.00 929.00 737.43\" xmlns=\"http://www.w3.org/2000/svg\" xmlns:xlink=\"http://www.w3.org/1999/xlink\">\n",
       "<g id=\"graph0\" class=\"graph\" transform=\"scale(1 1) rotate(0) translate(4 733.43)\">\n",
       "<polygon fill=\"white\" stroke=\"none\" points=\"-4,4 -4,-733.43 925,-733.43 925,4 -4,4\"/>\n",
       "<g id=\"clust5\" class=\"cluster\">\n",
       "<title>cluster_player</title>\n",
       "<polygon fill=\"lightgrey\" stroke=\"lightgrey\" points=\"116,-152 116,-721.43 404,-721.43 404,-152 116,-152\"/>\n",
       "<text text-anchor=\"middle\" x=\"260\" y=\"-706.23\" font-family=\"Times New Roman,serif\" font-size=\"14.00\">Player&#39;s Turn</text>\n",
       "</g>\n",
       "<g id=\"clust6\" class=\"cluster\">\n",
       "<title>cluster_computer</title>\n",
       "<polygon fill=\"lightgrey\" stroke=\"lightgrey\" points=\"528,-152 528,-627.43 840,-627.43 840,-152 528,-152\"/>\n",
       "<text text-anchor=\"middle\" x=\"684\" y=\"-612.23\" font-family=\"Times New Roman,serif\" font-size=\"14.00\">Computer&#39;s Turn</text>\n",
       "</g>\n",
       "<!-- START -->\n",
       "<g id=\"node1\" class=\"node\">\n",
       "<title>START</title>\n",
       "<ellipse fill=\"grey\" stroke=\"black\" cx=\"68\" cy=\"-186.75\" rx=\"40.09\" ry=\"18\"/>\n",
       "<text text-anchor=\"middle\" x=\"68\" y=\"-183.05\" font-family=\"Times New Roman,serif\" font-size=\"14.00\">START</text>\n",
       "</g>\n",
       "<!-- Ask for Player&#39;s letter -->\n",
       "<g id=\"node2\" class=\"node\">\n",
       "<title>Ask for Player&#39;s letter</title>\n",
       "<ellipse fill=\"none\" stroke=\"black\" cx=\"223\" cy=\"-91\" rx=\"89.08\" ry=\"18\"/>\n",
       "<text text-anchor=\"middle\" x=\"223\" y=\"-87.3\" font-family=\"Times New Roman,serif\" font-size=\"14.00\">Ask for Player&#39;s letter</text>\n",
       "</g>\n",
       "<!-- START&#45;&gt;Ask for Player&#39;s letter -->\n",
       "<g id=\"edge1\" class=\"edge\">\n",
       "<title>START&#45;&gt;Ask for Player&#39;s letter</title>\n",
       "<path fill=\"none\" stroke=\"black\" d=\"M86.37,-170.62C94.08,-164.54 103.27,-157.65 112,-152 133.7,-137.94 159,-124.09 179.95,-113.24\"/>\n",
       "<polygon fill=\"black\" stroke=\"black\" points=\"181.51,-116.38 188.81,-108.7 178.32,-110.14 181.51,-116.38\"/>\n",
       "</g>\n",
       "<!-- Decide who Goes First -->\n",
       "<g id=\"node3\" class=\"node\">\n",
       "<title>Decide who Goes First</title>\n",
       "<ellipse fill=\"none\" stroke=\"black\" cx=\"223\" cy=\"-18\" rx=\"94.78\" ry=\"18\"/>\n",
       "<text text-anchor=\"middle\" x=\"223\" y=\"-14.3\" font-family=\"Times New Roman,serif\" font-size=\"14.00\">Decide who Goes First</text>\n",
       "</g>\n",
       "<!-- Ask for Player&#39;s letter&#45;&gt;Decide who Goes First -->\n",
       "<g id=\"edge2\" class=\"edge\">\n",
       "<title>Ask for Player&#39;s letter&#45;&gt;Decide who Goes First</title>\n",
       "<path fill=\"none\" stroke=\"black\" d=\"M223,-72.81C223,-65.23 223,-56.1 223,-47.54\"/>\n",
       "<polygon fill=\"black\" stroke=\"black\" points=\"226.5,-47.54 223,-37.54 219.5,-47.54 226.5,-47.54\"/>\n",
       "</g>\n",
       "<!-- Display Board -->\n",
       "<g id=\"node4\" class=\"node\">\n",
       "<title>Display Board</title>\n",
       "<ellipse fill=\"white\" stroke=\"black\" cx=\"253\" cy=\"-672.43\" rx=\"63.09\" ry=\"18\"/>\n",
       "<text text-anchor=\"middle\" x=\"253\" y=\"-668.73\" font-family=\"Times New Roman,serif\" font-size=\"14.00\">Display Board</text>\n",
       "</g>\n",
       "<!-- Decide who Goes First&#45;&gt;Display Board -->\n",
       "<g id=\"edge3\" class=\"edge\">\n",
       "<title>Decide who Goes First&#45;&gt;Display Board</title>\n",
       "<path fill=\"none\" stroke=\"black\" d=\"M145.94,-28.78C81.49,-39.19 0,-58.56 0,-90 0,-579.43 0,-579.43 0,-579.43 0,-619.33 112.53,-646.93 187.5,-660.89\"/>\n",
       "<polygon fill=\"black\" stroke=\"black\" points=\"186.77,-664.32 197.24,-662.66 188.02,-657.43 186.77,-664.32\"/>\n",
       "<text text-anchor=\"middle\" x=\"19.5\" y=\"-338.39\" font-family=\"Times New Roman,serif\" font-size=\"14.00\">Player </text>\n",
       "<text text-anchor=\"middle\" x=\"19.5\" y=\"-323.39\" font-family=\"Times New Roman,serif\" font-size=\"14.00\"> Goes </text>\n",
       "<text text-anchor=\"middle\" x=\"19.5\" y=\"-308.39\" font-family=\"Times New Roman,serif\" font-size=\"14.00\"> First</text>\n",
       "</g>\n",
       "<!-- Get Computer&#39;s Move -->\n",
       "<g id=\"node10\" class=\"node\">\n",
       "<title>Get Computer&#39;s Move</title>\n",
       "<ellipse fill=\"white\" stroke=\"black\" cx=\"669\" cy=\"-578.43\" rx=\"92.08\" ry=\"18\"/>\n",
       "<text text-anchor=\"middle\" x=\"669\" y=\"-574.73\" font-family=\"Times New Roman,serif\" font-size=\"14.00\">Get Computer&#39;s Move</text>\n",
       "</g>\n",
       "<!-- Decide who Goes First&#45;&gt;Get Computer&#39;s Move -->\n",
       "<g id=\"edge12\" class=\"edge\">\n",
       "<title>Decide who Goes First&#45;&gt;Get Computer&#39;s Move</title>\n",
       "<path fill=\"none\" stroke=\"black\" d=\"M317.68,-19.99C495.13,-23.12 860,-36.1 860,-90 860,-453.56 860,-453.56 860,-453.56 860,-512.35 795.51,-544.64 741.48,-561.38\"/>\n",
       "<polygon fill=\"black\" stroke=\"black\" points=\"740.54,-558.01 731.94,-564.19 742.52,-564.72 740.54,-558.01\"/>\n",
       "<text text-anchor=\"middle\" x=\"890.5\" y=\"-265.3\" font-family=\"Times New Roman,serif\" font-size=\"14.00\">Computer </text>\n",
       "<text text-anchor=\"middle\" x=\"890.5\" y=\"-250.3\" font-family=\"Times New Roman,serif\" font-size=\"14.00\"> Goes </text>\n",
       "<text text-anchor=\"middle\" x=\"890.5\" y=\"-235.3\" font-family=\"Times New Roman,serif\" font-size=\"14.00\"> First</text>\n",
       "</g>\n",
       "<!-- Ask for Player&#39;s Move -->\n",
       "<g id=\"node5\" class=\"node\">\n",
       "<title>Ask for Player&#39;s Move</title>\n",
       "<ellipse fill=\"white\" stroke=\"black\" cx=\"253\" cy=\"-578.43\" rx=\"92.88\" ry=\"18\"/>\n",
       "<text text-anchor=\"middle\" x=\"253\" y=\"-574.73\" font-family=\"Times New Roman,serif\" font-size=\"14.00\">Ask for Player&#39;s Move</text>\n",
       "</g>\n",
       "<!-- Display Board&#45;&gt;Ask for Player&#39;s Move -->\n",
       "<g id=\"edge4\" class=\"edge\">\n",
       "<title>Display Board&#45;&gt;Ask for Player&#39;s Move</title>\n",
       "<path fill=\"none\" stroke=\"black\" d=\"M253,-654.13C253,-641.15 253,-623.1 253,-607.99\"/>\n",
       "<polygon fill=\"black\" stroke=\"black\" points=\"256.5,-608.17 253,-598.17 249.5,-608.17 256.5,-608.17\"/>\n",
       "</g>\n",
       "<!-- Check Player&#39;s Winning Condition -->\n",
       "<g id=\"node6\" class=\"node\">\n",
       "<title>Check Player&#39;s Winning Condition</title>\n",
       "<ellipse fill=\"white\" stroke=\"black\" cx=\"253\" cy=\"-452.56\" rx=\"89.19\" ry=\"26.74\"/>\n",
       "<text text-anchor=\"middle\" x=\"253\" y=\"-456.36\" font-family=\"Times New Roman,serif\" font-size=\"14.00\">Check Player&#39;s </text>\n",
       "<text text-anchor=\"middle\" x=\"253\" y=\"-441.36\" font-family=\"Times New Roman,serif\" font-size=\"14.00\"> Winning Condition</text>\n",
       "</g>\n",
       "<!-- Ask for Player&#39;s Move&#45;&gt;Check Player&#39;s Winning Condition -->\n",
       "<g id=\"edge5\" class=\"edge\">\n",
       "<title>Ask for Player&#39;s Move&#45;&gt;Check Player&#39;s Winning Condition</title>\n",
       "<path fill=\"none\" stroke=\"black\" d=\"M253,-559.95C253,-542.11 253,-513.89 253,-491\"/>\n",
       "<polygon fill=\"black\" stroke=\"black\" points=\"256.5,-491.1 253,-481.1 249.5,-491.1 256.5,-491.1\"/>\n",
       "</g>\n",
       "<!-- Win -->\n",
       "<g id=\"node7\" class=\"node\">\n",
       "<title>Win</title>\n",
       "<ellipse fill=\"white\" stroke=\"green\" cx=\"366\" cy=\"-327.09\" rx=\"26\" ry=\"26\"/>\n",
       "<ellipse fill=\"none\" stroke=\"green\" cx=\"366\" cy=\"-327.09\" rx=\"30\" ry=\"30\"/>\n",
       "<text text-anchor=\"middle\" x=\"366\" y=\"-323.39\" font-family=\"Times New Roman,serif\" font-size=\"14.00\">Win</text>\n",
       "</g>\n",
       "<!-- Check Player&#39;s Winning Condition&#45;&gt;Win -->\n",
       "<g id=\"edge6\" class=\"edge\">\n",
       "<title>Check Player&#39;s Winning Condition&#45;&gt;Win</title>\n",
       "<path fill=\"none\" stroke=\"black\" d=\"M270.02,-425.84C280.27,-411.11 294.02,-392.64 308,-377.69 312.78,-372.57 323.51,-363.22 334.45,-354.01\"/>\n",
       "<polygon fill=\"black\" stroke=\"black\" points=\"336.57,-356.8 342.01,-347.7 332.09,-351.42 336.57,-356.8\"/>\n",
       "<text text-anchor=\"middle\" x=\"355\" y=\"-396.49\" font-family=\"Times New Roman,serif\" font-size=\"14.00\">Player has </text>\n",
       "<text text-anchor=\"middle\" x=\"355\" y=\"-381.49\" font-family=\"Times New Roman,serif\" font-size=\"14.00\"> na complete line</text>\n",
       "</g>\n",
       "<!-- Check Tie Condition after Player&#39;s Move -->\n",
       "<g id=\"node8\" class=\"node\">\n",
       "<title>Check Tie Condition after Player&#39;s Move</title>\n",
       "<ellipse fill=\"white\" stroke=\"black\" cx=\"221\" cy=\"-327.09\" rx=\"96.75\" ry=\"26.74\"/>\n",
       "<text text-anchor=\"middle\" x=\"221\" y=\"-330.89\" font-family=\"Times New Roman,serif\" font-size=\"14.00\">Check Tie Condition </text>\n",
       "<text text-anchor=\"middle\" x=\"221\" y=\"-315.89\" font-family=\"Times New Roman,serif\" font-size=\"14.00\"> after Player&#39;s Move</text>\n",
       "</g>\n",
       "<!-- Check Player&#39;s Winning Condition&#45;&gt;Check Tie Condition after Player&#39;s Move -->\n",
       "<g id=\"edge7\" class=\"edge\">\n",
       "<title>Check Player&#39;s Winning Condition&#45;&gt;Check Tie Condition after Player&#39;s Move</title>\n",
       "<path fill=\"none\" stroke=\"black\" d=\"M188.88,-433.61C177.03,-427.34 166.16,-418.93 159,-407.69 151.84,-396.44 153.22,-389.71 159,-377.69 162.25,-370.93 166.92,-364.8 172.26,-359.34\"/>\n",
       "<polygon fill=\"black\" stroke=\"black\" points=\"174.34,-362.18 179.36,-352.85 169.62,-357.02 174.34,-362.18\"/>\n",
       "<text text-anchor=\"middle\" x=\"219.5\" y=\"-396.49\" font-family=\"Times New Roman,serif\" font-size=\"14.00\">Player does not have </text>\n",
       "<text text-anchor=\"middle\" x=\"219.5\" y=\"-381.49\" font-family=\"Times New Roman,serif\" font-size=\"14.00\"> a complete line</text>\n",
       "</g>\n",
       "<!-- Play Again? -->\n",
       "<g id=\"node15\" class=\"node\">\n",
       "<title>Play Again?</title>\n",
       "<ellipse fill=\"none\" stroke=\"black\" cx=\"466\" cy=\"-186.75\" rx=\"53.89\" ry=\"18\"/>\n",
       "<text text-anchor=\"middle\" x=\"466\" y=\"-183.05\" font-family=\"Times New Roman,serif\" font-size=\"14.00\">Play Again?</text>\n",
       "</g>\n",
       "<!-- Win&#45;&gt;Play Again? -->\n",
       "<g id=\"edge9\" class=\"edge\">\n",
       "<title>Win&#45;&gt;Play Again?</title>\n",
       "<path fill=\"none\" stroke=\"black\" d=\"M383.19,-302.31C401.02,-277.65 428.8,-239.21 447.2,-213.75\"/>\n",
       "<polygon fill=\"black\" stroke=\"black\" points=\"449.85,-216.07 452.87,-205.92 444.17,-211.97 449.85,-216.07\"/>\n",
       "</g>\n",
       "<!-- Tie p -->\n",
       "<g id=\"node9\" class=\"node\">\n",
       "<title>Tie p</title>\n",
       "<ellipse fill=\"white\" stroke=\"blue\" cx=\"317\" cy=\"-186.75\" rx=\"22.96\" ry=\"22.96\"/>\n",
       "<ellipse fill=\"none\" stroke=\"blue\" cx=\"317\" cy=\"-186.75\" rx=\"27\" ry=\"27\"/>\n",
       "<text text-anchor=\"middle\" x=\"317\" y=\"-183.05\" font-family=\"Times New Roman,serif\" font-size=\"14.00\">Tie</text>\n",
       "</g>\n",
       "<!-- Check Tie Condition after Player&#39;s Move&#45;&gt;Tie p -->\n",
       "<g id=\"edge8\" class=\"edge\">\n",
       "<title>Check Tie Condition after Player&#39;s Move&#45;&gt;Tie p</title>\n",
       "<path fill=\"none\" stroke=\"black\" d=\"M238.83,-300.4C254.82,-277.36 278.32,-243.49 295.37,-218.91\"/>\n",
       "<polygon fill=\"black\" stroke=\"black\" points=\"298.1,-221.12 300.93,-210.91 292.35,-217.13 298.1,-221.12\"/>\n",
       "<text text-anchor=\"middle\" x=\"314.5\" y=\"-265.3\" font-family=\"Times New Roman,serif\" font-size=\"14.00\">No More </text>\n",
       "<text text-anchor=\"middle\" x=\"314.5\" y=\"-250.3\" font-family=\"Times New Roman,serif\" font-size=\"14.00\"> Available </text>\n",
       "<text text-anchor=\"middle\" x=\"314.5\" y=\"-235.3\" font-family=\"Times New Roman,serif\" font-size=\"14.00\"> Moves</text>\n",
       "</g>\n",
       "<!-- Check Tie Condition after Player&#39;s Move&#45;&gt;Get Computer&#39;s Move -->\n",
       "<g id=\"edge11\" class=\"edge\">\n",
       "<title>Check Tie Condition after Player&#39;s Move&#45;&gt;Get Computer&#39;s Move</title>\n",
       "<path fill=\"none\" stroke=\"black\" d=\"M284.43,-347.74C298.4,-351.86 313.16,-356.06 327,-359.69 361.83,-368.84 374.3,-360.6 406,-377.69 463.48,-408.68 460.47,-439.32 512,-479.43 549.68,-508.77 596.53,-537.07 629.2,-555.65\"/>\n",
       "<polygon fill=\"black\" stroke=\"black\" points=\"627.11,-558.49 637.54,-560.36 630.54,-552.4 627.11,-558.49\"/>\n",
       "<text text-anchor=\"middle\" x=\"541.5\" y=\"-463.86\" font-family=\"Times New Roman,serif\" font-size=\"14.00\">Still </text>\n",
       "<text text-anchor=\"middle\" x=\"541.5\" y=\"-448.86\" font-family=\"Times New Roman,serif\" font-size=\"14.00\"> Available </text>\n",
       "<text text-anchor=\"middle\" x=\"541.5\" y=\"-433.86\" font-family=\"Times New Roman,serif\" font-size=\"14.00\"> Moves</text>\n",
       "</g>\n",
       "<!-- Tie p&#45;&gt;Play Again? -->\n",
       "<g id=\"edge10\" class=\"edge\">\n",
       "<title>Tie p&#45;&gt;Play Again?</title>\n",
       "<path fill=\"none\" stroke=\"black\" d=\"M344.36,-186.75C363.07,-186.75 381.78,-186.75 400.5,-186.75\"/>\n",
       "<polygon fill=\"black\" stroke=\"black\" points=\"400.32,-190.25 410.32,-186.75 400.32,-183.25 400.32,-190.25\"/>\n",
       "</g>\n",
       "<!-- Check Computer&#39;s Winning Condition -->\n",
       "<g id=\"node11\" class=\"node\">\n",
       "<title>Check Computer&#39;s Winning Condition</title>\n",
       "<ellipse fill=\"white\" stroke=\"black\" cx=\"669\" cy=\"-452.56\" rx=\"89.19\" ry=\"26.74\"/>\n",
       "<text text-anchor=\"middle\" x=\"669\" y=\"-456.36\" font-family=\"Times New Roman,serif\" font-size=\"14.00\">Check Computer&#39;s </text>\n",
       "<text text-anchor=\"middle\" x=\"669\" y=\"-441.36\" font-family=\"Times New Roman,serif\" font-size=\"14.00\"> Winning Condition</text>\n",
       "</g>\n",
       "<!-- Get Computer&#39;s Move&#45;&gt;Check Computer&#39;s Winning Condition -->\n",
       "<g id=\"edge13\" class=\"edge\">\n",
       "<title>Get Computer&#39;s Move&#45;&gt;Check Computer&#39;s Winning Condition</title>\n",
       "<path fill=\"none\" stroke=\"black\" d=\"M669,-559.95C669,-542.11 669,-513.89 669,-491\"/>\n",
       "<polygon fill=\"black\" stroke=\"black\" points=\"672.5,-491.1 669,-481.1 665.5,-491.1 672.5,-491.1\"/>\n",
       "</g>\n",
       "<!-- Lose -->\n",
       "<g id=\"node12\" class=\"node\">\n",
       "<title>Lose</title>\n",
       "<ellipse fill=\"white\" stroke=\"red\" cx=\"569\" cy=\"-327.09\" rx=\"28.68\" ry=\"28.68\"/>\n",
       "<ellipse fill=\"none\" stroke=\"red\" cx=\"569\" cy=\"-327.09\" rx=\"32.7\" ry=\"32.7\"/>\n",
       "<text text-anchor=\"middle\" x=\"569\" y=\"-323.39\" font-family=\"Times New Roman,serif\" font-size=\"14.00\">Lose</text>\n",
       "</g>\n",
       "<!-- Check Computer&#39;s Winning Condition&#45;&gt;Lose -->\n",
       "<g id=\"edge14\" class=\"edge\">\n",
       "<title>Check Computer&#39;s Winning Condition&#45;&gt;Lose</title>\n",
       "<path fill=\"none\" stroke=\"black\" d=\"M623,-429.42C613.8,-423.37 604.86,-416.12 598,-407.69 589.22,-396.91 582.97,-383.24 578.58,-370.28\"/>\n",
       "<polygon fill=\"black\" stroke=\"black\" points=\"582.04,-369.62 575.76,-361.09 575.35,-371.67 582.04,-369.62\"/>\n",
       "<text text-anchor=\"middle\" x=\"642\" y=\"-396.49\" font-family=\"Times New Roman,serif\" font-size=\"14.00\">Computer has </text>\n",
       "<text text-anchor=\"middle\" x=\"642\" y=\"-381.49\" font-family=\"Times New Roman,serif\" font-size=\"14.00\"> a complete line</text>\n",
       "</g>\n",
       "<!-- Check Tie Condition after Computer&#39;s Move -->\n",
       "<g id=\"node13\" class=\"node\">\n",
       "<title>Check Tie Condition after Computer&#39;s Move</title>\n",
       "<ellipse fill=\"white\" stroke=\"black\" cx=\"726\" cy=\"-327.09\" rx=\"106.13\" ry=\"26.74\"/>\n",
       "<text text-anchor=\"middle\" x=\"726\" y=\"-330.89\" font-family=\"Times New Roman,serif\" font-size=\"14.00\">Check Tie Condition </text>\n",
       "<text text-anchor=\"middle\" x=\"726\" y=\"-315.89\" font-family=\"Times New Roman,serif\" font-size=\"14.00\"> after Computer&#39;s Move</text>\n",
       "</g>\n",
       "<!-- Check Computer&#39;s Winning Condition&#45;&gt;Check Tie Condition after Computer&#39;s Move -->\n",
       "<g id=\"edge15\" class=\"edge\">\n",
       "<title>Check Computer&#39;s Winning Condition&#45;&gt;Check Tie Condition after Computer&#39;s Move</title>\n",
       "<path fill=\"none\" stroke=\"black\" d=\"M680.95,-425.68C689.16,-407.9 700.17,-384.05 709.25,-364.38\"/>\n",
       "<polygon fill=\"black\" stroke=\"black\" points=\"712.42,-365.86 713.43,-355.32 706.06,-362.93 712.42,-365.86\"/>\n",
       "<text text-anchor=\"middle\" x=\"773\" y=\"-396.49\" font-family=\"Times New Roman,serif\" font-size=\"14.00\">Computer does not have </text>\n",
       "<text text-anchor=\"middle\" x=\"773\" y=\"-381.49\" font-family=\"Times New Roman,serif\" font-size=\"14.00\"> a complete line</text>\n",
       "</g>\n",
       "<!-- Lose&#45;&gt;Play Again? -->\n",
       "<g id=\"edge17\" class=\"edge\">\n",
       "<title>Lose&#45;&gt;Play Again?</title>\n",
       "<path fill=\"none\" stroke=\"black\" d=\"M549.87,-300.4C531.48,-275.7 503.84,-238.57 485.37,-213.77\"/>\n",
       "<polygon fill=\"black\" stroke=\"black\" points=\"488.23,-211.74 479.45,-205.81 482.61,-215.92 488.23,-211.74\"/>\n",
       "</g>\n",
       "<!-- Check Tie Condition after Computer&#39;s Move&#45;&gt;Display Board -->\n",
       "<g id=\"edge19\" class=\"edge\">\n",
       "<title>Check Tie Condition after Computer&#39;s Move&#45;&gt;Display Board</title>\n",
       "<path fill=\"none\" stroke=\"black\" d=\"M654.84,-347.34C585.85,-367.15 487.45,-398.82 458,-425.69 383.63,-493.54 428.45,-558.59 355,-627.43 341.96,-639.66 324.99,-648.8 308.64,-655.48\"/>\n",
       "<polygon fill=\"black\" stroke=\"black\" points=\"307.55,-652.15 299.45,-658.99 310.04,-658.69 307.55,-652.15\"/>\n",
       "<text text-anchor=\"middle\" x=\"441.5\" y=\"-531.23\" font-family=\"Times New Roman,serif\" font-size=\"14.00\">Still </text>\n",
       "<text text-anchor=\"middle\" x=\"441.5\" y=\"-516.23\" font-family=\"Times New Roman,serif\" font-size=\"14.00\"> Available </text>\n",
       "<text text-anchor=\"middle\" x=\"441.5\" y=\"-501.23\" font-family=\"Times New Roman,serif\" font-size=\"14.00\"> Moves</text>\n",
       "</g>\n",
       "<!-- Tie c -->\n",
       "<g id=\"node14\" class=\"node\">\n",
       "<title>Tie c</title>\n",
       "<ellipse fill=\"white\" stroke=\"blue\" cx=\"618\" cy=\"-186.75\" rx=\"22.96\" ry=\"22.96\"/>\n",
       "<ellipse fill=\"none\" stroke=\"blue\" cx=\"618\" cy=\"-186.75\" rx=\"27\" ry=\"27\"/>\n",
       "<text text-anchor=\"middle\" x=\"618\" y=\"-183.05\" font-family=\"Times New Roman,serif\" font-size=\"14.00\">Tie</text>\n",
       "</g>\n",
       "<!-- Check Tie Condition after Computer&#39;s Move&#45;&gt;Tie c -->\n",
       "<g id=\"edge16\" class=\"edge\">\n",
       "<title>Check Tie Condition after Computer&#39;s Move&#45;&gt;Tie c</title>\n",
       "<path fill=\"none\" stroke=\"black\" d=\"M705.94,-300.4C687.66,-276.98 660.64,-242.37 641.39,-217.71\"/>\n",
       "<polygon fill=\"black\" stroke=\"black\" points=\"644.27,-215.71 635.35,-209.98 638.75,-220.01 644.27,-215.71\"/>\n",
       "<text text-anchor=\"middle\" x=\"713.5\" y=\"-265.3\" font-family=\"Times New Roman,serif\" font-size=\"14.00\">No More </text>\n",
       "<text text-anchor=\"middle\" x=\"713.5\" y=\"-250.3\" font-family=\"Times New Roman,serif\" font-size=\"14.00\"> Available </text>\n",
       "<text text-anchor=\"middle\" x=\"713.5\" y=\"-235.3\" font-family=\"Times New Roman,serif\" font-size=\"14.00\"> Moves</text>\n",
       "</g>\n",
       "<!-- Tie c&#45;&gt;Play Again? -->\n",
       "<g id=\"edge18\" class=\"edge\">\n",
       "<title>Tie c&#45;&gt;Play Again?</title>\n",
       "<path fill=\"none\" stroke=\"black\" d=\"M590.53,-186.75C570.88,-186.75 551.22,-186.75 531.57,-186.75\"/>\n",
       "<polygon fill=\"black\" stroke=\"black\" points=\"531.84,-183.25 521.84,-186.75 531.84,-190.25 531.84,-183.25\"/>\n",
       "</g>\n",
       "<!-- Play Again?&#45;&gt;Ask for Player&#39;s letter -->\n",
       "<g id=\"edge20\" class=\"edge\">\n",
       "<title>Play Again?&#45;&gt;Ask for Player&#39;s letter</title>\n",
       "<path fill=\"none\" stroke=\"black\" d=\"M442.06,-170.27C431.83,-164.07 419.59,-157.18 408,-152 368.89,-134.52 323.1,-119.63 286.87,-109.05\"/>\n",
       "<polygon fill=\"black\" stroke=\"black\" points=\"287.98,-105.73 277.4,-106.33 286.04,-112.46 287.98,-105.73\"/>\n",
       "<text text-anchor=\"middle\" x=\"394\" y=\"-130.8\" font-family=\"Times New Roman,serif\" font-size=\"14.00\">Yes</text>\n",
       "</g>\n",
       "<!-- END -->\n",
       "<g id=\"node16\" class=\"node\">\n",
       "<title>END</title>\n",
       "<ellipse fill=\"grey\" stroke=\"black\" cx=\"466\" cy=\"-91\" rx=\"28.7\" ry=\"18\"/>\n",
       "<text text-anchor=\"middle\" x=\"466\" y=\"-87.3\" font-family=\"Times New Roman,serif\" font-size=\"14.00\">END</text>\n",
       "</g>\n",
       "<!-- Play Again?&#45;&gt;END -->\n",
       "<g id=\"edge21\" class=\"edge\">\n",
       "<title>Play Again?&#45;&gt;END</title>\n",
       "<path fill=\"none\" stroke=\"black\" d=\"M466,-168.55C466,-155.16 466,-136.27 466,-120.61\"/>\n",
       "<polygon fill=\"black\" stroke=\"black\" points=\"469.5,-120.92 466,-110.92 462.5,-120.92 469.5,-120.92\"/>\n",
       "<text text-anchor=\"middle\" x=\"475\" y=\"-130.8\" font-family=\"Times New Roman,serif\" font-size=\"14.00\">No</text>\n",
       "</g>\n",
       "</g>\n",
       "</svg>\n"
      ],
      "text/plain": [
       "<graphviz.graphs.Digraph at 0x219ed143250>"
      ]
     },
     "execution_count": 4,
     "metadata": {},
     "output_type": "execute_result"
    }
   ],
   "source": [
    "dot"
   ]
  },
  {
   "cell_type": "markdown",
   "id": "7476071f-3276-4ab7-96c9-d603c4ba33a3",
   "metadata": {},
   "source": [
    "## 3. Program"
   ]
  },
  {
   "cell_type": "code",
   "execution_count": 5,
   "id": "39026eeb-ab4c-492d-86e9-48bfde36f4b2",
   "metadata": {
    "tags": []
   },
   "outputs": [],
   "source": [
    "import random"
   ]
  },
  {
   "cell_type": "code",
   "execution_count": 6,
   "id": "2ebf0825-5ed6-484d-9f76-328f65e5eab7",
   "metadata": {
    "tags": []
   },
   "outputs": [],
   "source": [
    "# Function prints out the board that it was passed.\n",
    "def drawBoard(board):\n",
    "    # \"board\" is a list of 10 strings representing the board (ignore index 0)\n",
    "    print(board[7] + '|' + board[8] + '|' + board[9])\n",
    "    print('-+-+-')\n",
    "    print(board[4] + '|' + board[5] + '|' + board[6])\n",
    "    print('-+-+-')\n",
    "    print(board[1] + '|' + board[2] + '|' + board[3])"
   ]
  },
  {
   "cell_type": "code",
   "execution_count": 7,
   "id": "6fdc53f9-f367-490b-b021-2ef69aa6c9b2",
   "metadata": {
    "tags": []
   },
   "outputs": [],
   "source": [
    "# Function lets the player type which letter they want to be.\n",
    "def inputPlayerLetter():\n",
    "    letter = ''\n",
    "    while not (letter == 'X' or letter == 'O'):\n",
    "        print('Do you want to be X or O?')\n",
    "        letter = input().upper()\n",
    "    # the first element in the list is the player's letter, the second is the computer's letter.\n",
    "    if letter == 'X':\n",
    "        return ['X', 'O']\n",
    "    else:\n",
    "        return ['O', 'X']"
   ]
  },
  {
   "cell_type": "code",
   "execution_count": 8,
   "id": "8fa27dc4-a016-4c00-94e4-9df1c31fe090",
   "metadata": {},
   "outputs": [],
   "source": [
    "# Function randomly chooses the player who goes first.\n",
    "def whoGoesFirst():\n",
    "    if random.randint(0, 1) == 0:\n",
    "        return 'computer'\n",
    "    else:\n",
    "        return 'player'"
   ]
  },
  {
   "cell_type": "code",
   "execution_count": 9,
   "id": "8f59da72-5179-40ab-8ae0-8f7f3a3c9cc0",
   "metadata": {},
   "outputs": [],
   "source": [
    "# Function placing a mark on the board\n",
    "def makeMove(board, letter, move):\n",
    "    board[move] = letter"
   ]
  },
  {
   "cell_type": "code",
   "execution_count": 10,
   "id": "df67c3b5-f194-43f0-a78a-44f61fb38092",
   "metadata": {},
   "outputs": [],
   "source": [
    "# Function returns True if that player has won, given a board and a player's letter.\n",
    "def isWinner(bo, le):\n",
    "    # bo = board ; le = letter.\n",
    "    return ((bo[7] == le and bo[8] == le and bo[9] == le) or # across the top\n",
    "    (bo[4] == le and bo[5] == le and bo[6] == le) or # across the middle\n",
    "    (bo[1] == le and bo[2] == le and bo[3] == le) or # across the bottom\n",
    "    (bo[7] == le and bo[4] == le and bo[1] == le) or # down the left side\n",
    "    (bo[8] == le and bo[5] == le and bo[2] == le) or # down the middle\n",
    "    (bo[9] == le and bo[6] == le and bo[3] == le) or # down the right side\n",
    "    (bo[7] == le and bo[5] == le and bo[3] == le) or # diagonal\n",
    "    (bo[9] == le and bo[5] == le and bo[1] == le)) # diagonal"
   ]
  },
  {
   "cell_type": "code",
   "execution_count": 11,
   "id": "5c302613-eb04-4428-9937-7361db9f0bdd",
   "metadata": {},
   "outputs": [],
   "source": [
    "# Function makes a copy of the board list and returns it.\n",
    "def getBoardCopy(board):\n",
    "    boardCopy = []\n",
    "    for i in board:\n",
    "        boardCopy.append(i)\n",
    "    return boardCopy"
   ]
  },
  {
   "cell_type": "code",
   "execution_count": 12,
   "id": "b8e61ae4-8d5d-4f90-b9db-4c3785780656",
   "metadata": {
    "tags": []
   },
   "outputs": [],
   "source": [
    "# Function returns True if the passed move is free on the passed board.\n",
    "def isSpaceFree(board, move):\n",
    "    return board[move] == ' '"
   ]
  },
  {
   "cell_type": "code",
   "execution_count": 13,
   "id": "113a3cfc-b4e3-47c5-8f3c-fabf791d5161",
   "metadata": {
    "tags": []
   },
   "outputs": [],
   "source": [
    "# Function lets the player type in its move.\n",
    "def getPlayerMove(board):\n",
    "    move = ' '\n",
    "    while move not in '1 2 3 4 5 6 7 8 9'.split() or not isSpaceFree(board, int(move)):\n",
    "        print('What is your next move? (1-9)')\n",
    "        move = input()\n",
    "    return int(move)"
   ]
  },
  {
   "cell_type": "code",
   "execution_count": 14,
   "id": "be8e6c9a-5ee4-4613-bb45-3c85bc14bdef",
   "metadata": {
    "tags": []
   },
   "outputs": [],
   "source": [
    "# Function that either 1.returns a valid move from the passed list on the passed board or 2.returns None if there is no valid move.\n",
    "def chooseRandomMoveFromList(board, movesList):\n",
    "    possibleMoves = []\n",
    "    for i in movesList:\n",
    "        if isSpaceFree(board, i):\n",
    "            possibleMoves.append(i)\n",
    "    if len(possibleMoves) != 0:\n",
    "        return random.choice(possibleMoves)\n",
    "    else:\n",
    "        return None"
   ]
  },
  {
   "cell_type": "code",
   "execution_count": 15,
   "id": "842cb038-f3b4-444e-88e7-d2a1a41259c9",
   "metadata": {
    "tags": []
   },
   "outputs": [],
   "source": [
    "# Tic Tac Toe AI algorithm: Function determines where to move and return that move, given a board and the computer's letter.\n",
    "def getComputerMove(board, computerLetter):\n",
    "    if computerLetter == 'X':\n",
    "        playerLetter = 'O'\n",
    "    else:\n",
    "        playerLetter = 'X'\n",
    "    \n",
    "    # 1.Check if the computer can win in the next move\n",
    "    for i in range(1, 10):\n",
    "        boardCopy = getBoardCopy(board)\n",
    "        if isSpaceFree(boardCopy, i):\n",
    "            makeMove(boardCopy, computerLetter, i)\n",
    "            if isWinner(boardCopy, computerLetter):\n",
    "                return i\n",
    "\n",
    "    # 2.Check if the player could win on his next move, and block them.\n",
    "    for i in range(1, 10):\n",
    "        boardCopy = getBoardCopy(board)\n",
    "        if isSpaceFree(boardCopy, i):\n",
    "            makeMove(boardCopy, playerLetter, i)\n",
    "            if isWinner(boardCopy, playerLetter):\n",
    "                return i\n",
    "\n",
    "    # 3.Try to take one of the corners, if they are free.\n",
    "    move = chooseRandomMoveFromList(board, [1, 3, 7, 9])\n",
    "    if move != None:\n",
    "        return move\n",
    "\n",
    "    # 4.Try to take the center, if it is free.\n",
    "    if isSpaceFree(board, 5):\n",
    "        return 5\n",
    "\n",
    "    # 5.Move on one of the sides.\n",
    "    return chooseRandomMoveFromList(board, [2, 4, 6, 8])"
   ]
  },
  {
   "cell_type": "code",
   "execution_count": 16,
   "id": "10d1516e-83df-41c6-bec1-120ff5a5d35e",
   "metadata": {
    "tags": []
   },
   "outputs": [],
   "source": [
    "# Function returns True if every space on the board has been taken. Otherwise return False.\n",
    "def isBoardFull(board):\n",
    "    for i in range(1, 10):\n",
    "        if isSpaceFree(board, i):\n",
    "            return False\n",
    "    return True"
   ]
  },
  {
   "cell_type": "code",
   "execution_count": 17,
   "id": "9744f7e4-e7bd-4375-9a19-8b52372d1643",
   "metadata": {
    "tags": []
   },
   "outputs": [
    {
     "name": "stdout",
     "output_type": "stream",
     "text": [
      "Welcome to Tic Tac Toe!\n",
      "\n",
      "The moves are from 1 to 9 according to the calculator pad order from image below\n",
      "7|8|9\n",
      "4|5|6\n",
      "1|2|3\n",
      "\n",
      "Do you want to be X or O?\n"
     ]
    },
    {
     "name": "stdin",
     "output_type": "stream",
     "text": [
      " O\n"
     ]
    },
    {
     "name": "stdout",
     "output_type": "stream",
     "text": [
      "The computer will go first.\n",
      "X| | \n",
      "-+-+-\n",
      " | | \n",
      "-+-+-\n",
      " | | \n",
      "What is your next move? (1-9)\n"
     ]
    },
    {
     "name": "stdin",
     "output_type": "stream",
     "text": [
      " 5\n"
     ]
    },
    {
     "name": "stdout",
     "output_type": "stream",
     "text": [
      "X| | \n",
      "-+-+-\n",
      " |O| \n",
      "-+-+-\n",
      " | |X\n",
      "What is your next move? (1-9)\n"
     ]
    },
    {
     "name": "stdin",
     "output_type": "stream",
     "text": [
      " 9\n"
     ]
    },
    {
     "name": "stdout",
     "output_type": "stream",
     "text": [
      "X| |O\n",
      "-+-+-\n",
      " |O| \n",
      "-+-+-\n",
      "X| |X\n",
      "What is your next move? (1-9)\n"
     ]
    },
    {
     "name": "stdin",
     "output_type": "stream",
     "text": [
      " 4\n"
     ]
    },
    {
     "name": "stdout",
     "output_type": "stream",
     "text": [
      "X| |O\n",
      "-+-+-\n",
      "O|O| \n",
      "-+-+-\n",
      "X|X|X\n",
      "The computer has beaten you! You lose.\n",
      "Do you want to play again? (yes or no)\n"
     ]
    },
    {
     "name": "stdin",
     "output_type": "stream",
     "text": [
      " no\n"
     ]
    }
   ],
   "source": [
    "print('Welcome to Tic Tac Toe!')\n",
    "\n",
    "while True:\n",
    "    # Reset the board\n",
    "    theBoard = [' '] * 10\n",
    "    \n",
    "    print('\\nThe moves are from 1 to 9 according to the calculator pad order from image below')\n",
    "    print('7|8|9\\n4|5|6\\n1|2|3\\n')\n",
    "\n",
    "    playerLetter, computerLetter = inputPlayerLetter()\n",
    "    turn = whoGoesFirst()\n",
    "    print('The ' + turn + ' will go first.')\n",
    "    \n",
    "    gameIsPlaying = True\n",
    "    \n",
    "    while gameIsPlaying:\n",
    "        if turn == 'player':\n",
    "            # Player's turn.\n",
    "            drawBoard(theBoard)\n",
    "            move = getPlayerMove(theBoard)\n",
    "            makeMove(theBoard, playerLetter, move)\n",
    "\n",
    "            if isWinner(theBoard, playerLetter):\n",
    "                drawBoard(theBoard)\n",
    "                print('Hooray! You have won the game!')\n",
    "                gameIsPlaying = False\n",
    "            else:\n",
    "                if isBoardFull(theBoard):\n",
    "                    drawBoard(theBoard)\n",
    "                    print('The game is a tie!')\n",
    "                    break\n",
    "                else:\n",
    "                    turn = 'computer'\n",
    "\n",
    "        else:\n",
    "            # Computer's turn.\n",
    "            move = getComputerMove(theBoard, computerLetter)\n",
    "            makeMove(theBoard, computerLetter, move)\n",
    "\n",
    "            if isWinner(theBoard, computerLetter):\n",
    "                drawBoard(theBoard)\n",
    "                print('The computer has beaten you! You lose.')\n",
    "                gameIsPlaying = False\n",
    "            else:\n",
    "                if isBoardFull(theBoard):\n",
    "                    drawBoard(theBoard)\n",
    "                    print('The game is a tie!')\n",
    "                    break\n",
    "                else:\n",
    "                    turn = 'player'\n",
    "\n",
    "    print('Do you want to play again? (yes or no)')\n",
    "    if not input().lower().startswith('y'):\n",
    "        break"
   ]
  },
  {
   "cell_type": "markdown",
   "id": "74aea113-099f-4ba5-9806-4992ebff22b6",
   "metadata": {},
   "source": [
    "## 4. Notes"
   ]
  },
  {
   "cell_type": "markdown",
   "id": "ffabbca1-a2a5-46b1-984e-fde03bf68ca9",
   "metadata": {},
   "source": [
    "### 4.1 Artificial Intelligence"
   ]
  },
  {
   "cell_type": "markdown",
   "id": "98f988a4-1fda-464c-8b93-35384afab40f",
   "metadata": {},
   "source": [
    "The user plays against a simple artificial intelligence wihch is a computer program taht can intelligently respond to the player's moves."
   ]
  },
  {
   "cell_type": "markdown",
   "id": "3bc32df6-2ba4-4e7e-a57b-ddd29eca196e",
   "metadata": {},
   "source": [
    "### 4.2 Import a picture from computer"
   ]
  },
  {
   "cell_type": "code",
   "execution_count": 18,
   "id": "a1133e1c-17da-43c7-86b3-b806b58b3b1e",
   "metadata": {
    "tags": []
   },
   "outputs": [
    {
     "data": {
      "image/png": "[encoded data removed]",
      "text/plain": [
       "<IPython.core.display.Image object>"
      ]
     },
     "execution_count": 18,
     "metadata": {},
     "output_type": "execute_result"
    }
   ],
   "source": [
    "#Pad logic\n",
    "from IPython.display import Image\n",
    "Image(filename=\"C:/Users/pauly/OneDrive/Documents/PythonGameFolder/pad.png\")"
   ]
  },
  {
   "cell_type": "markdown",
   "id": "db146328-f967-4cd1-9007-9cc8267cc56f",
   "metadata": {},
   "source": [
    "### 4.3 List references"
   ]
  },
  {
   "cell_type": "markdown",
   "id": "3c076e5a-5116-4b00-a67d-b2db6c7302aa",
   "metadata": {},
   "source": [
    "Case 1: Assigning a value to variables"
   ]
  },
  {
   "cell_type": "code",
   "execution_count": 19,
   "id": "0249cde0-4243-4a67-aa17-fb2d49c04d7e",
   "metadata": {
    "tags": []
   },
   "outputs": [
    {
     "name": "stdout",
     "output_type": "stream",
     "text": [
      "spam: 100 cheese: 42\n"
     ]
    }
   ],
   "source": [
    "spam = 42\n",
    "cheese = spam\n",
    "spam = 100\n",
    "print('spam:',spam,'cheese:',cheese)"
   ]
  },
  {
   "cell_type": "markdown",
   "id": "eb040f5d-9b7d-44ca-aac3-0db706391c64",
   "metadata": {},
   "source": [
    "Spam and cheese are difference variables that store different values."
   ]
  },
  {
   "cell_type": "markdown",
   "id": "c3a6d737-aa0d-40a5-a6aa-b127060b52c3",
   "metadata": {
    "tags": []
   },
   "source": [
    "Case 2: Assigning a list reference to variables"
   ]
  },
  {
   "cell_type": "code",
   "execution_count": 20,
   "id": "478b22c5-e5a7-45dc-b4c9-2f2553e97f29",
   "metadata": {
    "tags": []
   },
   "outputs": [
    {
     "name": "stdout",
     "output_type": "stream",
     "text": [
      "spam: [0, 'Hello', 2, 3, 4, 5] cheese: [0, 'Hello', 2, 3, 4, 5]\n"
     ]
    }
   ],
   "source": [
    "spam=[0,1,2,3,4,5]\n",
    "cheese=spam\n",
    "cheese[1]='Hello'\n",
    "print('spam:',spam,'cheese:',cheese)"
   ]
  },
  {
   "cell_type": "code",
   "execution_count": 21,
   "id": "3cecec1c-2182-48d5-bad7-2179a46b2c83",
   "metadata": {
    "tags": []
   },
   "outputs": [
    {
     "name": "stdout",
     "output_type": "stream",
     "text": [
      "spam: {0: 'a', 1: 'Hello', 2: 'c', 3: 'd', 4: 'e', 5: 'f'} cheese: {0: 'a', 1: 'Hello', 2: 'c', 3: 'd', 4: 'e', 5: 'f'}\n"
     ]
    }
   ],
   "source": [
    "spam={0:'a',1:'b',2:'c',3:'d',4:'e',5:'f'}\n",
    "cheese=spam\n",
    "cheese[1]='Hello'\n",
    "print('spam:',spam,'cheese:',cheese)"
   ]
  },
  {
   "cell_type": "markdown",
   "id": "a41bb9c9-1657-4ad3-ae71-6f1d5648ae77",
   "metadata": {},
   "source": [
    "When you assign a list to a variable, you actually assign to the variable a reference to a list. A reference is a value that points to the location where some bit of data is stored. In othre words, the variable will not contain the list itself and the list exists outside of the variable. \n",
    "\n",
    "\"chesse = spam\" copies the list reference in spam to cheese, instead of copying the list value itself. \n",
    "Now both spam and cheese store a reference that refers to the same list value.\n",
    "Consequently, even if the code only changed the cheese list, both the cheese and spam lists have changed."
   ]
  },
  {
   "cell_type": "markdown",
   "id": "cd82e376-0bd8-4314-b2d1-6fd20ed7bb70",
   "metadata": {
    "tags": []
   },
   "source": [
    "Case 3: Creating two lits instead of copying references"
   ]
  },
  {
   "cell_type": "code",
   "execution_count": 22,
   "id": "2060809b-f10f-4084-b2b5-17a65dde9772",
   "metadata": {
    "tags": []
   },
   "outputs": [
    {
     "name": "stdout",
     "output_type": "stream",
     "text": [
      "spam: [0, 1, 2, 3, 4, 5] cheese: [0, 'Hello', 2, 3, 4, 5]\n"
     ]
    }
   ],
   "source": [
    "spam=[0,1,2,3,4,5]\n",
    "cheese=[0,1,2,3,4,5]\n",
    "cheese[1]='Hello'\n",
    "print('spam:',spam,'cheese:',cheese)"
   ]
  },
  {
   "cell_type": "code",
   "execution_count": 23,
   "id": "06ead85d-bcdf-4935-9b73-03364498e560",
   "metadata": {
    "tags": []
   },
   "outputs": [
    {
     "name": "stdout",
     "output_type": "stream",
     "text": [
      "spam: {0: 'a', 1: 'b', 2: 'c', 3: 'd', 4: 'e', 5: 'f'} cheese: {0: 'a', 1: 'Hello', 2: 'c', 3: 'd', 4: 'e', 5: 'f'}\n"
     ]
    }
   ],
   "source": [
    "spam={0:'a',1:'b',2:'c',3:'d',4:'e',5:'f'}\n",
    "cheese={0:'a',1:'b',2:'c',3:'d',4:'e',5:'f'}\n",
    "cheese[1]='Hello'\n",
    "print('spam:',spam,'cheese:',cheese)"
   ]
  }
 ],
 "metadata": {
  "kernelspec": {
   "display_name": "Python 3 (ipykernel)",
   "language": "python",
   "name": "python3"
  },
  "language_info": {
   "codemirror_mode": {
    "name": "ipython",
    "version": 3
   },
   "file_extension": ".py",
   "mimetype": "text/x-python",
   "name": "python",
   "nbconvert_exporter": "python",
   "pygments_lexer": "ipython3",
   "version": "3.11.2"
  }
 },
 "nbformat": 4,
 "nbformat_minor": 5
}
