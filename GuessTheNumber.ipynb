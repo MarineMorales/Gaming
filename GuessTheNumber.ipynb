{
 "cells": [
  {
   "cell_type": "code",
   "execution_count": 2,
   "id": "aa99867f-b341-401e-9e5c-fa2cf9c788e8",
   "metadata": {
    "tags": []
   },
   "outputs": [
    {
     "name": "stdout",
     "output_type": "stream",
     "text": [
      "Hello! What is your name?\n"
     ]
    },
    {
     "name": "stdin",
     "output_type": "stream",
     "text": [
      " Marine\n"
     ]
    },
    {
     "name": "stdout",
     "output_type": "stream",
     "text": [
      "Well, Marine, I am thinking of a number between 1 and 20.\n",
      "Take a guess.\n"
     ]
    },
    {
     "name": "stdin",
     "output_type": "stream",
     "text": [
      " 16\n"
     ]
    },
    {
     "name": "stdout",
     "output_type": "stream",
     "text": [
      "Your guess is too high.\n",
      "Take a guess.\n"
     ]
    },
    {
     "name": "stdin",
     "output_type": "stream",
     "text": [
      " 9\n"
     ]
    },
    {
     "name": "stdout",
     "output_type": "stream",
     "text": [
      "Your guess is too low.\n",
      "Take a guess.\n"
     ]
    },
    {
     "name": "stdin",
     "output_type": "stream",
     "text": [
      " 10\n"
     ]
    },
    {
     "name": "stdout",
     "output_type": "stream",
     "text": [
      "Your guess is too low.\n",
      "Take a guess.\n"
     ]
    },
    {
     "name": "stdin",
     "output_type": "stream",
     "text": [
      " 15\n"
     ]
    },
    {
     "name": "stdout",
     "output_type": "stream",
     "text": [
      "Your guess is too high.\n",
      "Take a guess.\n"
     ]
    },
    {
     "name": "stdin",
     "output_type": "stream",
     "text": [
      " 14\n"
     ]
    },
    {
     "name": "stdout",
     "output_type": "stream",
     "text": [
      "Good job, Marine! You guessed my number in 5 guesses!\n"
     ]
    }
   ],
   "source": [
    "#Guess the Number game\n",
    "import random # import module \"random\"\n",
    "\n",
    "guessesTaken = 0\n",
    "print('Hello! What is your name?')\n",
    "myName = input()\n",
    "\n",
    "number = random.randint(1,20) # Call the function \"randit\"\n",
    "print('Well, '+ myName +', I am thinking of a number between 1 and 20.')\n",
    "\n",
    "for guessesTaken in range(6):\n",
    "\tprint('Take a guess.')\n",
    "\tguess = input()\n",
    "\tguess = int(guess)\n",
    "\n",
    "\tif guess < number:\n",
    "\t\tprint('Your guess is too low.')\n",
    "\n",
    "\tif guess > number:\n",
    "\t\tprint('Your guess is too high.')\n",
    "\n",
    "\tif guess == number:\n",
    "\t\tbreak\n",
    "\n",
    "if guess == number:\n",
    "\tguessesTaken = str(guessesTaken + 1)\n",
    "\tprint('Good job, '+ myName +'! You guessed my number in '+ guessesTaken +' guesses!')\n",
    "\n",
    "if guess != number:\n",
    "\tnumber = str(number)\n",
    "\tprint('Nope. The number I was thinking of was '+ number +'.')"
   ]
  },
  {
   "cell_type": "code",
   "execution_count": null,
   "id": "841a474c-3873-4b8a-b3c0-49ed65c8b0c5",
   "metadata": {},
   "outputs": [],
   "source": []
  }
 ],
 "metadata": {
  "kernelspec": {
   "display_name": "Python 3 (ipykernel)",
   "language": "python",
   "name": "python3"
  },
  "language_info": {
   "codemirror_mode": {
    "name": "ipython",
    "version": 3
   },
   "file_extension": ".py",
   "mimetype": "text/x-python",
   "name": "python",
   "nbconvert_exporter": "python",
   "pygments_lexer": "ipython3",
   "version": "3.11.2"
  }
 },
 "nbformat": 4,
 "nbformat_minor": 5
}
