{
 "cells": [
  {
   "cell_type": "markdown",
   "id": "c0897c53-8d69-4f5c-9e2a-63516469cc01",
   "metadata": {},
   "source": [
    "# Game: Hungry Kitty"
   ]
  },
  {
   "cell_type": "markdown",
   "id": "2b19693c-12b6-47bb-9329-255532ae66b1",
   "metadata": {},
   "source": [
    "## 1. Rules"
   ]
  },
  {
   "cell_type": "markdown",
   "id": "3f99bac8-3fad-4924-8656-5983880499da",
   "metadata": {},
   "source": [
    "Your feline friend is on a mission to catch five juicy birds before settling down for a well-deserved nap.\n",
    "\n",
    "As your Hungry Kitty roams around the house patio in pursuit of its prey, it will come across various types of food to keep its energy up. Scrumptious delights such as chicken, tuna, and shrimp will help your kitty grow larger, while toxic treats like broccoli, chocolate, and onions will make it sick and shrink in size.\n",
    "\n",
    "Watch out! As your kitty grows, so does its hitbox, increasing the chances of accidentally consuming toxic food.\n",
    "\n",
    "Feeling stuck? Click anywhere on the screen to make new items appear - but beware! Both delicious and toxic foods may materialize with each click.\n",
    "\n",
    "Control your Hungry Kitty using either the WASD keys or arrow keys on your keyboard, and press ESC to exit the game. Have fun and enjoy this delightful adventure!"
   ]
  },
  {
   "cell_type": "markdown",
   "id": "6313e0c0-359b-4e60-b78b-f6d8496cc744",
   "metadata": {},
   "source": [
    "## 2. Flowchart"
   ]
  },
  {
   "cell_type": "code",
   "execution_count": 59,
   "id": "40283d61-545e-4a66-9c7f-9ae0fcd35058",
   "metadata": {},
   "outputs": [],
   "source": [
    "from graphviz import Digraph"
   ]
  },
  {
   "cell_type": "code",
   "execution_count": 60,
   "id": "1d3deaa5-ff48-49bb-bf22-cf1186f72a2d",
   "metadata": {
    "tags": []
   },
   "outputs": [],
   "source": [
    "dot = Digraph(comment='Hungry Kitten')\n",
    "\n",
    "dot.node('START', 'START', shape='oval', style='filled', fillcolor='grey')\n",
    "dot.node('Display Start Screen', 'Display Start Screen')\n",
    "dot.node('Check for launching Event', 'Check for \\n launching Event')\n",
    "dot.node('Initialise Game variables', 'Initialise \\n Game variables')\n",
    "\n",
    "dot.node('Enter Game Loop', 'Enter Game Loop')\n",
    "dot.node('Check for Game Event', 'Check for \\n Game Event')\n",
    "dot.node('Save Player Move Request', 'Save Player \\n Move Request')\n",
    "dot.node('Manually Add Random Food on the Board', 'Manually \\n Add Random Food \\n on the Board')\n",
    "dot.node('Automatically Add Each Food type on the Board', 'Automatically \\n Add Each Food type \\n on the Board')\n",
    "dot.node('Draw Board & Menu', 'Draw Board & Menu')\n",
    "dot.node('Compute New Player Location', 'Compute New \\n Player Location')\n",
    "dot.node('Draw Player', 'Draw Player')\n",
    "\n",
    "dot.node('Check if Player intersected an item', 'Check if Player intersected an item')\n",
    "dot.node('Draw Score', 'Draw Score')\n",
    "dot.node('Check Losing Condition', 'Check Losing Condition')\n",
    "dot.node('Check Winning Condition', 'Check Winning Condition')\n",
    "\n",
    "dot.node('Check Game Loop Breaking Status', 'Check Game Loop \\n Breaking Status')\n",
    "dot.node('Draw all the game items', 'Draw all the game items')\n",
    "dot.edge('Display on Screen Every Drawn Object', 'Display on Screen \\n Every Drawn Object')\n",
    "\n",
    "dot.node('Exit Game Loop', 'Exit Game Loop')\n",
    "dot.node('Draw Respective End Game Cinematic', 'Draw Respective \\n End Game Cinematic')\n",
    "dot.node('Display on Screen Every Drawn Object2', 'Display on Screen \\n Every Drawn Object')\n",
    "\n",
    "birds_catched = Digraph('Birds Catched', node_attr={'shape': 'doublecircle', 'color': 'green'})\n",
    "birds_catched.node('Win','Win')\n",
    "dot.subgraph(birds_catched)\n",
    "\n",
    "cat_disappeared = Digraph('Cat Disappeared', node_attr={'shape': 'doublecircle', 'color': 'red'})\n",
    "cat_disappeared.node('Lose','Lose')\n",
    "dot.subgraph(cat_disappeared)\n",
    "\n",
    "dot.node('Play Again?', 'Play Again?')\n",
    "dot.node('END', 'END', shape='oval', style='filled', fillcolor='grey')"
   ]
  },
  {
   "cell_type": "code",
   "execution_count": 61,
   "id": "d96df434-b695-48eb-877a-26359c5024e7",
   "metadata": {
    "tags": []
   },
   "outputs": [],
   "source": [
    "dot.edge('START', 'Display Start Screen')\n",
    "dot.edge('Display Start Screen', 'Check for launching Event')\n",
    "dot.edge('Check for launching Event', 'END', label='Event == QUIT')\n",
    "dot.edge('Check for launching Event', 'Initialise Game variables', label='Event not QUIT')\n",
    "dot.edge('Initialise Game variables', 'Enter Game Loop')\n",
    "dot.edge('Enter Game Loop', 'Check for Game Event')\n",
    "dot.edge('Check for Game Event', 'END', label='Event == QUIT')\n",
    "dot.edge('Check for Game Event', 'Save Player Move Request', label='Event == KEYUP \\n Event == KEYDOWN \\n')\n",
    "dot.edge('Check for Game Event', 'Manually Add Random Food on the Board', label='Event == MOUSEBUTTONUP')\n",
    "dot.edge('Save Player Move Request', 'Automatically Add Each Food type on the Board')\n",
    "dot.edge('Manually Add Random Food on the Board', 'Automatically Add Each Food type on the Board')\n",
    "\n",
    "dot.edge('Automatically Add Each Food type on the Board', 'Draw Board & Menu')\n",
    "dot.edge('Draw Board & Menu', 'Compute New Player Location')\n",
    "dot.edge('Compute New Player Location', 'Draw Player')\n",
    "dot.edge('Draw Player', 'Check if Player intersected an item')\n",
    "\n",
    "dot.edge('Check if Player intersected an item', 'Draw Score', label='Intersected \\n Good Food Item \\n = Increase Player Size')\n",
    "\n",
    "dot.edge('Check if Player intersected an item', 'Check Losing Condition', label='Intersected \\n Toxic Food \\n = Decrease Player Size')\n",
    "dot.edge('Check Losing Condition', 'Lose', label='Player Size =< 0')\n",
    "dot.edge('Lose', 'Draw Score')\n",
    "dot.edge('Check Losing Condition', 'Draw Score', label='Player Size > 0')\n",
    "\n",
    "dot.edge('Check if Player intersected an item', 'Check Winning Condition', label='Intersected \\n Bird \\n = Increase Score Counter by 1')\n",
    "dot.edge('Check Winning Condition', 'Win', label='Bird Counter >= 5')\n",
    "dot.edge('Win', 'Draw Score', label='Bird Counter >= 5')\n",
    "dot.edge('Check Winning Condition', 'Draw Score', label='Bird Counter < 5')\n",
    "\n",
    "dot.edge('Draw Score', 'Check Game Loop Breaking Status')\n",
    "dot.edge('Check Game Loop Breaking Status', 'Draw all the game items', label='No')\n",
    "dot.edge('Draw all the game items', 'Display on Screen Every Drawn Object')\n",
    "dot.edge('Display on Screen Every Drawn Object', 'Check for Game Event')\n",
    "\n",
    "dot.edge('Check Game Loop Breaking Status', 'Exit Game Loop', label='Yes: Player Won or Lost')\n",
    "dot.edge('Exit Game Loop', 'Draw Respective End Game Cinematic', label='Winning vs Losing')\n",
    "dot.edge('Draw Respective End Game Cinematic', 'Display on Screen Every Drawn Object2')\n",
    "dot.edge('Display on Screen Every Drawn Object2', 'Play Again?')\n",
    "dot.edge('Play Again?', 'Check for launching Event', label='Yes')\n",
    "dot.edge('Play Again?', 'END', label='No')        "
   ]
  },
  {
   "cell_type": "code",
   "execution_count": 62,
   "id": "2851febe-91c9-4ed8-aa7b-fdab6798a98b",
   "metadata": {
    "tags": []
   },
   "outputs": [
    {
     "data": {
      "image/svg+xml": [
       "<?xml version=\"1.0\" encoding=\"UTF-8\" standalone=\"no\"?>\n",
       "<!DOCTYPE svg PUBLIC \"-//W3C//DTD SVG 1.1//EN\"\n",
       " \"http://www.w3.org/Graphics/SVG/1.1/DTD/svg11.dtd\">\n",
       "<!-- Generated by graphviz version 7.1.0 (20230121.1956)\n",
       " -->\n",
       "<!-- Pages: 1 -->\n",
       "<svg width=\"809pt\" height=\"1936pt\"\n",
       " viewBox=\"0.00 0.00 809.00 1936.28\" xmlns=\"http://www.w3.org/2000/svg\" xmlns:xlink=\"http://www.w3.org/1999/xlink\">\n",
       "<g id=\"graph0\" class=\"graph\" transform=\"scale(1 1) rotate(0) translate(4 1932.28)\">\n",
       "<polygon fill=\"white\" stroke=\"none\" points=\"-4,4 -4,-1932.28 805,-1932.28 805,4 -4,4\"/>\n",
       "<!-- START -->\n",
       "<g id=\"node1\" class=\"node\">\n",
       "<title>START</title>\n",
       "<ellipse fill=\"grey\" stroke=\"black\" cx=\"256\" cy=\"-1910.28\" rx=\"40.09\" ry=\"18\"/>\n",
       "<text text-anchor=\"middle\" x=\"256\" y=\"-1906.58\" font-family=\"Times New Roman,serif\" font-size=\"14.00\">START</text>\n",
       "</g>\n",
       "<!-- Display Start Screen -->\n",
       "<g id=\"node2\" class=\"node\">\n",
       "<title>Display Start Screen</title>\n",
       "<ellipse fill=\"none\" stroke=\"black\" cx=\"256\" cy=\"-1837.28\" rx=\"85.29\" ry=\"18\"/>\n",
       "<text text-anchor=\"middle\" x=\"256\" y=\"-1833.58\" font-family=\"Times New Roman,serif\" font-size=\"14.00\">Display Start Screen</text>\n",
       "</g>\n",
       "<!-- START&#45;&gt;Display Start Screen -->\n",
       "<g id=\"edge2\" class=\"edge\">\n",
       "<title>START&#45;&gt;Display Start Screen</title>\n",
       "<path fill=\"none\" stroke=\"black\" d=\"M256,-1892.1C256,-1884.51 256,-1875.38 256,-1866.82\"/>\n",
       "<polygon fill=\"black\" stroke=\"black\" points=\"259.5,-1866.82 256,-1856.82 252.5,-1866.82 259.5,-1866.82\"/>\n",
       "</g>\n",
       "<!-- Check for launching Event -->\n",
       "<g id=\"node3\" class=\"node\">\n",
       "<title>Check for launching Event</title>\n",
       "<ellipse fill=\"none\" stroke=\"black\" cx=\"256\" cy=\"-1755.41\" rx=\"76.24\" ry=\"26.74\"/>\n",
       "<text text-anchor=\"middle\" x=\"256\" y=\"-1759.21\" font-family=\"Times New Roman,serif\" font-size=\"14.00\">Check for </text>\n",
       "<text text-anchor=\"middle\" x=\"256\" y=\"-1744.21\" font-family=\"Times New Roman,serif\" font-size=\"14.00\"> launching Event</text>\n",
       "</g>\n",
       "<!-- Display Start Screen&#45;&gt;Check for launching Event -->\n",
       "<g id=\"edge3\" class=\"edge\">\n",
       "<title>Display Start Screen&#45;&gt;Check for launching Event</title>\n",
       "<path fill=\"none\" stroke=\"black\" d=\"M256,-1818.95C256,-1811.55 256,-1802.61 256,-1793.82\"/>\n",
       "<polygon fill=\"black\" stroke=\"black\" points=\"259.5,-1794.03 256,-1784.03 252.5,-1794.03 259.5,-1794.03\"/>\n",
       "</g>\n",
       "<!-- Initialise Game variables -->\n",
       "<g id=\"node4\" class=\"node\">\n",
       "<title>Initialise Game variables</title>\n",
       "<ellipse fill=\"none\" stroke=\"black\" cx=\"256\" cy=\"-1650.67\" rx=\"74.91\" ry=\"26.74\"/>\n",
       "<text text-anchor=\"middle\" x=\"256\" y=\"-1654.47\" font-family=\"Times New Roman,serif\" font-size=\"14.00\">Initialise </text>\n",
       "<text text-anchor=\"middle\" x=\"256\" y=\"-1639.47\" font-family=\"Times New Roman,serif\" font-size=\"14.00\"> Game variables</text>\n",
       "</g>\n",
       "<!-- Check for launching Event&#45;&gt;Initialise Game variables -->\n",
       "<g id=\"edge5\" class=\"edge\">\n",
       "<title>Check for launching Event&#45;&gt;Initialise Game variables</title>\n",
       "<path fill=\"none\" stroke=\"black\" d=\"M256,-1728.22C256,-1716.39 256,-1702.18 256,-1689.24\"/>\n",
       "<polygon fill=\"black\" stroke=\"black\" points=\"259.5,-1689.33 256,-1679.33 252.5,-1689.33 259.5,-1689.33\"/>\n",
       "<text text-anchor=\"middle\" x=\"301.5\" y=\"-1699.34\" font-family=\"Times New Roman,serif\" font-size=\"14.00\">Event not QUIT</text>\n",
       "</g>\n",
       "<!-- END -->\n",
       "<g id=\"node27\" class=\"node\">\n",
       "<title>END</title>\n",
       "<ellipse fill=\"grey\" stroke=\"black\" cx=\"118\" cy=\"-18\" rx=\"28.7\" ry=\"18\"/>\n",
       "<text text-anchor=\"middle\" x=\"118\" y=\"-14.3\" font-family=\"Times New Roman,serif\" font-size=\"14.00\">END</text>\n",
       "</g>\n",
       "<!-- Check for launching Event&#45;&gt;END -->\n",
       "<g id=\"edge4\" class=\"edge\">\n",
       "<title>Check for launching Event&#45;&gt;END</title>\n",
       "<path fill=\"none\" stroke=\"black\" d=\"M190.07,-1741.5C114.22,-1724.7 0,-1692.62 0,-1651.67 0,-1651.67 0,-1651.67 0,-104 0,-63.56 46.19,-40.45 80.77,-28.82\"/>\n",
       "<polygon fill=\"black\" stroke=\"black\" points=\"81.59,-32.23 90.07,-25.89 79.49,-25.55 81.59,-32.23\"/>\n",
       "<text text-anchor=\"middle\" x=\"45\" y=\"-897.72\" font-family=\"Times New Roman,serif\" font-size=\"14.00\">Event == QUIT</text>\n",
       "</g>\n",
       "<!-- Enter Game Loop -->\n",
       "<g id=\"node5\" class=\"node\">\n",
       "<title>Enter Game Loop</title>\n",
       "<ellipse fill=\"none\" stroke=\"black\" cx=\"256\" cy=\"-1568.8\" rx=\"76.09\" ry=\"18\"/>\n",
       "<text text-anchor=\"middle\" x=\"256\" y=\"-1565.1\" font-family=\"Times New Roman,serif\" font-size=\"14.00\">Enter Game Loop</text>\n",
       "</g>\n",
       "<!-- Initialise Game variables&#45;&gt;Enter Game Loop -->\n",
       "<g id=\"edge6\" class=\"edge\">\n",
       "<title>Initialise Game variables&#45;&gt;Enter Game Loop</title>\n",
       "<path fill=\"none\" stroke=\"black\" d=\"M256,-1623.52C256,-1615.45 256,-1606.52 256,-1598.3\"/>\n",
       "<polygon fill=\"black\" stroke=\"black\" points=\"259.5,-1598.46 256,-1588.46 252.5,-1598.46 259.5,-1598.46\"/>\n",
       "</g>\n",
       "<!-- Check for Game Event -->\n",
       "<g id=\"node6\" class=\"node\">\n",
       "<title>Check for Game Event</title>\n",
       "<ellipse fill=\"none\" stroke=\"black\" cx=\"256\" cy=\"-1486.93\" rx=\"62.87\" ry=\"26.74\"/>\n",
       "<text text-anchor=\"middle\" x=\"256\" y=\"-1490.73\" font-family=\"Times New Roman,serif\" font-size=\"14.00\">Check for </text>\n",
       "<text text-anchor=\"middle\" x=\"256\" y=\"-1475.73\" font-family=\"Times New Roman,serif\" font-size=\"14.00\"> Game Event</text>\n",
       "</g>\n",
       "<!-- Enter Game Loop&#45;&gt;Check for Game Event -->\n",
       "<g id=\"edge7\" class=\"edge\">\n",
       "<title>Enter Game Loop&#45;&gt;Check for Game Event</title>\n",
       "<path fill=\"none\" stroke=\"black\" d=\"M256,-1550.47C256,-1543.07 256,-1534.13 256,-1525.34\"/>\n",
       "<polygon fill=\"black\" stroke=\"black\" points=\"259.5,-1525.55 256,-1515.55 252.5,-1525.55 259.5,-1525.55\"/>\n",
       "</g>\n",
       "<!-- Save Player Move Request -->\n",
       "<g id=\"node7\" class=\"node\">\n",
       "<title>Save Player Move Request</title>\n",
       "<ellipse fill=\"none\" stroke=\"black\" cx=\"323\" cy=\"-1356.59\" rx=\"72.25\" ry=\"26.74\"/>\n",
       "<text text-anchor=\"middle\" x=\"323\" y=\"-1360.39\" font-family=\"Times New Roman,serif\" font-size=\"14.00\">Save Player </text>\n",
       "<text text-anchor=\"middle\" x=\"323\" y=\"-1345.39\" font-family=\"Times New Roman,serif\" font-size=\"14.00\"> Move Request</text>\n",
       "</g>\n",
       "<!-- Check for Game Event&#45;&gt;Save Player Move Request -->\n",
       "<g id=\"edge9\" class=\"edge\">\n",
       "<title>Check for Game Event&#45;&gt;Save Player Move Request</title>\n",
       "<path fill=\"none\" stroke=\"black\" d=\"M269.24,-1460.57C279.27,-1441.36 293.18,-1414.72 304.33,-1393.34\"/>\n",
       "<polygon fill=\"black\" stroke=\"black\" points=\"307.34,-1395.16 308.86,-1384.67 301.13,-1391.92 307.34,-1395.16\"/>\n",
       "<text text-anchor=\"middle\" x=\"361.5\" y=\"-1430.86\" font-family=\"Times New Roman,serif\" font-size=\"14.00\">Event == KEYUP </text>\n",
       "<text text-anchor=\"middle\" x=\"361.5\" y=\"-1415.86\" font-family=\"Times New Roman,serif\" font-size=\"14.00\"> Event == KEYDOWN </text>\n",
       "</g>\n",
       "<!-- Manually Add Random Food on the Board -->\n",
       "<g id=\"node8\" class=\"node\">\n",
       "<title>Manually Add Random Food on the Board</title>\n",
       "<ellipse fill=\"none\" stroke=\"black\" cx=\"509\" cy=\"-1356.59\" rx=\"95.42\" ry=\"37.45\"/>\n",
       "<text text-anchor=\"middle\" x=\"509\" y=\"-1367.89\" font-family=\"Times New Roman,serif\" font-size=\"14.00\">Manually </text>\n",
       "<text text-anchor=\"middle\" x=\"509\" y=\"-1352.89\" font-family=\"Times New Roman,serif\" font-size=\"14.00\"> Add Random Food </text>\n",
       "<text text-anchor=\"middle\" x=\"509\" y=\"-1337.89\" font-family=\"Times New Roman,serif\" font-size=\"14.00\"> on the Board</text>\n",
       "</g>\n",
       "<!-- Check for Game Event&#45;&gt;Manually Add Random Food on the Board -->\n",
       "<g id=\"edge10\" class=\"edge\">\n",
       "<title>Check for Game Event&#45;&gt;Manually Add Random Food on the Board</title>\n",
       "<path fill=\"none\" stroke=\"black\" d=\"M316.78,-1479.9C352.62,-1474.22 397.71,-1463.24 433,-1442.06 450.11,-1431.79 465.56,-1416.45 478,-1401.65\"/>\n",
       "<polygon fill=\"black\" stroke=\"black\" points=\"480.44,-1404.19 484.01,-1394.21 475,-1399.79 480.44,-1404.19\"/>\n",
       "<text text-anchor=\"middle\" x=\"558\" y=\"-1423.36\" font-family=\"Times New Roman,serif\" font-size=\"14.00\">Event == MOUSEBUTTONUP</text>\n",
       "</g>\n",
       "<!-- Check for Game Event&#45;&gt;END -->\n",
       "<g id=\"edge8\" class=\"edge\">\n",
       "<title>Check for Game Event&#45;&gt;END</title>\n",
       "<path fill=\"none\" stroke=\"black\" d=\"M212.34,-1467.41C171.91,-1446.98 118,-1409.94 118,-1357.59 118,-1357.59 118,-1357.59 118,-104 118,-85.12 118,-63.88 118,-47.35\"/>\n",
       "<polygon fill=\"black\" stroke=\"black\" points=\"121.5,-47.77 118,-37.77 114.5,-47.77 121.5,-47.77\"/>\n",
       "<text text-anchor=\"middle\" x=\"163\" y=\"-722.22\" font-family=\"Times New Roman,serif\" font-size=\"14.00\">Event == QUIT</text>\n",
       "</g>\n",
       "<!-- Automatically Add Each Food type on the Board -->\n",
       "<g id=\"node9\" class=\"node\">\n",
       "<title>Automatically Add Each Food type on the Board</title>\n",
       "<ellipse fill=\"none\" stroke=\"black\" cx=\"404\" cy=\"-1244.63\" rx=\"101.23\" ry=\"37.45\"/>\n",
       "<text text-anchor=\"middle\" x=\"404\" y=\"-1255.93\" font-family=\"Times New Roman,serif\" font-size=\"14.00\">Automatically </text>\n",
       "<text text-anchor=\"middle\" x=\"404\" y=\"-1240.93\" font-family=\"Times New Roman,serif\" font-size=\"14.00\"> Add Each Food type </text>\n",
       "<text text-anchor=\"middle\" x=\"404\" y=\"-1225.93\" font-family=\"Times New Roman,serif\" font-size=\"14.00\"> on the Board</text>\n",
       "</g>\n",
       "<!-- Save Player Move Request&#45;&gt;Automatically Add Each Food type on the Board -->\n",
       "<g id=\"edge11\" class=\"edge\">\n",
       "<title>Save Player Move Request&#45;&gt;Automatically Add Each Food type on the Board</title>\n",
       "<path fill=\"none\" stroke=\"black\" d=\"M341.58,-1330.36C350.31,-1318.51 360.98,-1304.03 371.02,-1290.4\"/>\n",
       "<polygon fill=\"black\" stroke=\"black\" points=\"373.82,-1292.5 376.93,-1282.37 368.18,-1288.35 373.82,-1292.5\"/>\n",
       "</g>\n",
       "<!-- Manually Add Random Food on the Board&#45;&gt;Automatically Add Each Food type on the Board -->\n",
       "<g id=\"edge12\" class=\"edge\">\n",
       "<title>Manually Add Random Food on the Board&#45;&gt;Automatically Add Each Food type on the Board</title>\n",
       "<path fill=\"none\" stroke=\"black\" d=\"M476.07,-1321.1C466.19,-1310.76 455.24,-1299.29 444.92,-1288.48\"/>\n",
       "<polygon fill=\"black\" stroke=\"black\" points=\"447.66,-1286.29 438.22,-1281.47 442.6,-1291.12 447.66,-1286.29\"/>\n",
       "</g>\n",
       "<!-- Draw Board &amp; Menu -->\n",
       "<g id=\"node10\" class=\"node\">\n",
       "<title>Draw Board &amp; Menu</title>\n",
       "<ellipse fill=\"none\" stroke=\"black\" cx=\"404\" cy=\"-1152.16\" rx=\"87.99\" ry=\"18\"/>\n",
       "<text text-anchor=\"middle\" x=\"404\" y=\"-1148.46\" font-family=\"Times New Roman,serif\" font-size=\"14.00\">Draw Board &amp; Menu</text>\n",
       "</g>\n",
       "<!-- Automatically Add Each Food type on the Board&#45;&gt;Draw Board &amp; Menu -->\n",
       "<g id=\"edge13\" class=\"edge\">\n",
       "<title>Automatically Add Each Food type on the Board&#45;&gt;Draw Board &amp; Menu</title>\n",
       "<path fill=\"none\" stroke=\"black\" d=\"M404,-1206.83C404,-1198.51 404,-1189.8 404,-1181.88\"/>\n",
       "<polygon fill=\"black\" stroke=\"black\" points=\"407.5,-1182.11 404,-1172.11 400.5,-1182.11 407.5,-1182.11\"/>\n",
       "</g>\n",
       "<!-- Compute New Player Location -->\n",
       "<g id=\"node11\" class=\"node\">\n",
       "<title>Compute New Player Location</title>\n",
       "<ellipse fill=\"none\" stroke=\"black\" cx=\"404\" cy=\"-1070.29\" rx=\"76.24\" ry=\"26.74\"/>\n",
       "<text text-anchor=\"middle\" x=\"404\" y=\"-1074.09\" font-family=\"Times New Roman,serif\" font-size=\"14.00\">Compute New </text>\n",
       "<text text-anchor=\"middle\" x=\"404\" y=\"-1059.09\" font-family=\"Times New Roman,serif\" font-size=\"14.00\"> Player Location</text>\n",
       "</g>\n",
       "<!-- Draw Board &amp; Menu&#45;&gt;Compute New Player Location -->\n",
       "<g id=\"edge14\" class=\"edge\">\n",
       "<title>Draw Board &amp; Menu&#45;&gt;Compute New Player Location</title>\n",
       "<path fill=\"none\" stroke=\"black\" d=\"M404,-1133.82C404,-1126.42 404,-1117.48 404,-1108.7\"/>\n",
       "<polygon fill=\"black\" stroke=\"black\" points=\"407.5,-1108.9 404,-1098.9 400.5,-1108.9 407.5,-1108.9\"/>\n",
       "</g>\n",
       "<!-- Draw Player -->\n",
       "<g id=\"node12\" class=\"node\">\n",
       "<title>Draw Player</title>\n",
       "<ellipse fill=\"none\" stroke=\"black\" cx=\"404\" cy=\"-988.42\" rx=\"55.49\" ry=\"18\"/>\n",
       "<text text-anchor=\"middle\" x=\"404\" y=\"-984.72\" font-family=\"Times New Roman,serif\" font-size=\"14.00\">Draw Player</text>\n",
       "</g>\n",
       "<!-- Compute New Player Location&#45;&gt;Draw Player -->\n",
       "<g id=\"edge15\" class=\"edge\">\n",
       "<title>Compute New Player Location&#45;&gt;Draw Player</title>\n",
       "<path fill=\"none\" stroke=\"black\" d=\"M404,-1043.13C404,-1035.06 404,-1026.14 404,-1017.92\"/>\n",
       "<polygon fill=\"black\" stroke=\"black\" points=\"407.5,-1018.08 404,-1008.08 400.5,-1018.08 407.5,-1018.08\"/>\n",
       "</g>\n",
       "<!-- Check if Player intersected an item -->\n",
       "<g id=\"node13\" class=\"node\">\n",
       "<title>Check if Player intersected an item</title>\n",
       "<ellipse fill=\"none\" stroke=\"black\" cx=\"404\" cy=\"-901.42\" rx=\"135.68\" ry=\"18\"/>\n",
       "<text text-anchor=\"middle\" x=\"404\" y=\"-897.72\" font-family=\"Times New Roman,serif\" font-size=\"14.00\">Check if Player intersected an item</text>\n",
       "</g>\n",
       "<!-- Draw Player&#45;&gt;Check if Player intersected an item -->\n",
       "<g id=\"edge16\" class=\"edge\">\n",
       "<title>Draw Player&#45;&gt;Check if Player intersected an item</title>\n",
       "<path fill=\"none\" stroke=\"black\" d=\"M404,-970.21C404,-959 404,-944.08 404,-931.1\"/>\n",
       "<polygon fill=\"black\" stroke=\"black\" points=\"407.5,-931.4 404,-921.4 400.5,-931.4 407.5,-931.4\"/>\n",
       "</g>\n",
       "<!-- Draw Score -->\n",
       "<g id=\"node14\" class=\"node\">\n",
       "<title>Draw Score</title>\n",
       "<ellipse fill=\"none\" stroke=\"black\" cx=\"508\" cy=\"-551.22\" rx=\"53.89\" ry=\"18\"/>\n",
       "<text text-anchor=\"middle\" x=\"508\" y=\"-547.52\" font-family=\"Times New Roman,serif\" font-size=\"14.00\">Draw Score</text>\n",
       "</g>\n",
       "<!-- Check if Player intersected an item&#45;&gt;Draw Score -->\n",
       "<g id=\"edge17\" class=\"edge\">\n",
       "<title>Check if Player intersected an item&#45;&gt;Draw Score</title>\n",
       "<path fill=\"none\" stroke=\"black\" d=\"M374.85,-883.59C323.22,-851.44 224.2,-777.83 258,-703.42 290.46,-631.95 322.28,-625.15 391,-587.22 409.55,-576.98 431.45,-569.4 451.25,-563.97\"/>\n",
       "<polygon fill=\"black\" stroke=\"black\" points=\"452.06,-567.37 460.85,-561.47 450.29,-560.6 452.06,-567.37\"/>\n",
       "<text text-anchor=\"middle\" x=\"322\" y=\"-737.22\" font-family=\"Times New Roman,serif\" font-size=\"14.00\">Intersected </text>\n",
       "<text text-anchor=\"middle\" x=\"322\" y=\"-722.22\" font-family=\"Times New Roman,serif\" font-size=\"14.00\"> Good Food Item </text>\n",
       "<text text-anchor=\"middle\" x=\"322\" y=\"-707.22\" font-family=\"Times New Roman,serif\" font-size=\"14.00\"> = Increase Player Size</text>\n",
       "</g>\n",
       "<!-- Check Losing Condition -->\n",
       "<g id=\"node15\" class=\"node\">\n",
       "<title>Check Losing Condition</title>\n",
       "<ellipse fill=\"none\" stroke=\"black\" cx=\"404\" cy=\"-784.42\" rx=\"100.18\" ry=\"18\"/>\n",
       "<text text-anchor=\"middle\" x=\"404\" y=\"-780.72\" font-family=\"Times New Roman,serif\" font-size=\"14.00\">Check Losing Condition</text>\n",
       "</g>\n",
       "<!-- Check if Player intersected an item&#45;&gt;Check Losing Condition -->\n",
       "<g id=\"edge18\" class=\"edge\">\n",
       "<title>Check if Player intersected an item&#45;&gt;Check Losing Condition</title>\n",
       "<path fill=\"none\" stroke=\"black\" d=\"M404,-882.95C404,-864.69 404,-835.74 404,-814.12\"/>\n",
       "<polygon fill=\"black\" stroke=\"black\" points=\"407.5,-814.18 404,-804.18 400.5,-814.18 407.5,-814.18\"/>\n",
       "<text text-anchor=\"middle\" x=\"470.5\" y=\"-854.22\" font-family=\"Times New Roman,serif\" font-size=\"14.00\">Intersected </text>\n",
       "<text text-anchor=\"middle\" x=\"470.5\" y=\"-839.22\" font-family=\"Times New Roman,serif\" font-size=\"14.00\"> Toxic Food </text>\n",
       "<text text-anchor=\"middle\" x=\"470.5\" y=\"-824.22\" font-family=\"Times New Roman,serif\" font-size=\"14.00\"> = Decrease Player Size</text>\n",
       "</g>\n",
       "<!-- Check Winning Condition -->\n",
       "<g id=\"node16\" class=\"node\">\n",
       "<title>Check Winning Condition</title>\n",
       "<ellipse fill=\"none\" stroke=\"black\" cx=\"627\" cy=\"-784.42\" rx=\"105.08\" ry=\"18\"/>\n",
       "<text text-anchor=\"middle\" x=\"627\" y=\"-780.72\" font-family=\"Times New Roman,serif\" font-size=\"14.00\">Check Winning Condition</text>\n",
       "</g>\n",
       "<!-- Check if Player intersected an item&#45;&gt;Check Winning Condition -->\n",
       "<g id=\"edge22\" class=\"edge\">\n",
       "<title>Check if Player intersected an item&#45;&gt;Check Winning Condition</title>\n",
       "<path fill=\"none\" stroke=\"black\" d=\"M485.96,-886.76C504.76,-881.68 524.15,-874.77 541,-865.42 566.28,-851.38 566.79,-840.08 588,-820.42 591.7,-816.98 595.63,-813.39 599.52,-809.88\"/>\n",
       "<polygon fill=\"black\" stroke=\"black\" points=\"601.63,-812.69 606.72,-803.4 596.95,-807.48 601.63,-812.69\"/>\n",
       "<text text-anchor=\"middle\" x=\"676.5\" y=\"-854.22\" font-family=\"Times New Roman,serif\" font-size=\"14.00\">Intersected </text>\n",
       "<text text-anchor=\"middle\" x=\"676.5\" y=\"-839.22\" font-family=\"Times New Roman,serif\" font-size=\"14.00\"> Bird </text>\n",
       "<text text-anchor=\"middle\" x=\"676.5\" y=\"-824.22\" font-family=\"Times New Roman,serif\" font-size=\"14.00\"> = Increase Score Counter by 1</text>\n",
       "</g>\n",
       "<!-- Check Game Loop Breaking Status -->\n",
       "<g id=\"node17\" class=\"node\">\n",
       "<title>Check Game Loop Breaking Status</title>\n",
       "<ellipse fill=\"none\" stroke=\"black\" cx=\"508\" cy=\"-469.35\" rx=\"90.52\" ry=\"26.74\"/>\n",
       "<text text-anchor=\"middle\" x=\"508\" y=\"-473.15\" font-family=\"Times New Roman,serif\" font-size=\"14.00\">Check Game Loop </text>\n",
       "<text text-anchor=\"middle\" x=\"508\" y=\"-458.15\" font-family=\"Times New Roman,serif\" font-size=\"14.00\"> Breaking Status</text>\n",
       "</g>\n",
       "<!-- Draw Score&#45;&gt;Check Game Loop Breaking Status -->\n",
       "<g id=\"edge26\" class=\"edge\">\n",
       "<title>Draw Score&#45;&gt;Check Game Loop Breaking Status</title>\n",
       "<path fill=\"none\" stroke=\"black\" d=\"M508,-532.89C508,-525.49 508,-516.54 508,-507.76\"/>\n",
       "<polygon fill=\"black\" stroke=\"black\" points=\"511.5,-507.97 508,-497.97 504.5,-507.97 511.5,-507.97\"/>\n",
       "</g>\n",
       "<!-- Check Losing Condition&#45;&gt;Draw Score -->\n",
       "<g id=\"edge21\" class=\"edge\">\n",
       "<title>Check Losing Condition&#45;&gt;Draw Score</title>\n",
       "<path fill=\"none\" stroke=\"black\" d=\"M402.45,-766.21C400.63,-749.77 396.93,-724.44 390,-703.42 387.2,-694.92 383.05,-694.12 381,-685.42 374.34,-657.21 366.11,-645.08 381,-620.22 397.05,-593.42 427.68,-576.58 454.83,-566.37\"/>\n",
       "<polygon fill=\"black\" stroke=\"black\" points=\"455.72,-569.76 463.99,-563.14 453.4,-563.16 455.72,-569.76\"/>\n",
       "<text text-anchor=\"middle\" x=\"423.5\" y=\"-649.12\" font-family=\"Times New Roman,serif\" font-size=\"14.00\">Player Size &gt; 0</text>\n",
       "</g>\n",
       "<!-- Lose -->\n",
       "<g id=\"node25\" class=\"node\">\n",
       "<title>Lose</title>\n",
       "<ellipse fill=\"none\" stroke=\"red\" cx=\"508\" cy=\"-652.82\" rx=\"28.68\" ry=\"28.68\"/>\n",
       "<ellipse fill=\"none\" stroke=\"red\" cx=\"508\" cy=\"-652.82\" rx=\"32.7\" ry=\"32.7\"/>\n",
       "<text text-anchor=\"middle\" x=\"508\" y=\"-649.12\" font-family=\"Times New Roman,serif\" font-size=\"14.00\">Lose</text>\n",
       "</g>\n",
       "<!-- Check Losing Condition&#45;&gt;Lose -->\n",
       "<g id=\"edge19\" class=\"edge\">\n",
       "<title>Check Losing Condition&#45;&gt;Lose</title>\n",
       "<path fill=\"none\" stroke=\"black\" d=\"M417.81,-766.21C433.85,-746.21 460.7,-712.76 480.95,-687.53\"/>\n",
       "<polygon fill=\"black\" stroke=\"black\" points=\"483.6,-689.82 487.12,-679.83 478.14,-685.44 483.6,-689.82\"/>\n",
       "<text text-anchor=\"middle\" x=\"511.5\" y=\"-722.22\" font-family=\"Times New Roman,serif\" font-size=\"14.00\">Player Size =&lt; 0</text>\n",
       "</g>\n",
       "<!-- Check Winning Condition&#45;&gt;Draw Score -->\n",
       "<g id=\"edge25\" class=\"edge\">\n",
       "<title>Check Winning Condition&#45;&gt;Draw Score</title>\n",
       "<path fill=\"none\" stroke=\"black\" d=\"M619.74,-766.43C606.75,-736.41 578.23,-672.26 550,-620.22 542.45,-606.31 533.29,-591.29 525.46,-578.92\"/>\n",
       "<polygon fill=\"black\" stroke=\"black\" points=\"528.41,-577.04 520.07,-570.51 522.51,-580.82 528.41,-577.04\"/>\n",
       "<text text-anchor=\"middle\" x=\"630\" y=\"-649.12\" font-family=\"Times New Roman,serif\" font-size=\"14.00\">Bird Counter &lt; 5</text>\n",
       "</g>\n",
       "<!-- Win -->\n",
       "<g id=\"node24\" class=\"node\">\n",
       "<title>Win</title>\n",
       "<ellipse fill=\"none\" stroke=\"green\" cx=\"721\" cy=\"-652.82\" rx=\"26\" ry=\"26\"/>\n",
       "<ellipse fill=\"none\" stroke=\"green\" cx=\"721\" cy=\"-652.82\" rx=\"30\" ry=\"30\"/>\n",
       "<text text-anchor=\"middle\" x=\"721\" y=\"-649.12\" font-family=\"Times New Roman,serif\" font-size=\"14.00\">Win</text>\n",
       "</g>\n",
       "<!-- Check Winning Condition&#45;&gt;Win -->\n",
       "<g id=\"edge23\" class=\"edge\">\n",
       "<title>Check Winning Condition&#45;&gt;Win</title>\n",
       "<path fill=\"none\" stroke=\"black\" d=\"M631.77,-765.95C637.01,-748.85 646.65,-722.65 661,-703.42 668.29,-693.65 677.89,-684.61 687.26,-676.99\"/>\n",
       "<polygon fill=\"black\" stroke=\"black\" points=\"689.14,-679.97 694.91,-671.08 684.86,-674.43 689.14,-679.97\"/>\n",
       "<text text-anchor=\"middle\" x=\"713\" y=\"-722.22\" font-family=\"Times New Roman,serif\" font-size=\"14.00\">Bird Counter &gt;= 5</text>\n",
       "</g>\n",
       "<!-- Draw all the game items -->\n",
       "<g id=\"node18\" class=\"node\">\n",
       "<title>Draw all the game items</title>\n",
       "<ellipse fill=\"none\" stroke=\"black\" cx=\"353\" cy=\"-373.48\" rx=\"96.68\" ry=\"18\"/>\n",
       "<text text-anchor=\"middle\" x=\"353\" y=\"-369.78\" font-family=\"Times New Roman,serif\" font-size=\"14.00\">Draw all the game items</text>\n",
       "</g>\n",
       "<!-- Check Game Loop Breaking Status&#45;&gt;Draw all the game items -->\n",
       "<g id=\"edge27\" class=\"edge\">\n",
       "<title>Check Game Loop Breaking Status&#45;&gt;Draw all the game items</title>\n",
       "<path fill=\"none\" stroke=\"black\" d=\"M469.29,-444.91C445.12,-430.27 414.18,-411.53 390.29,-397.06\"/>\n",
       "<polygon fill=\"black\" stroke=\"black\" points=\"392.18,-394.12 381.81,-391.93 388.55,-400.1 392.18,-394.12\"/>\n",
       "<text text-anchor=\"middle\" x=\"444\" y=\"-413.28\" font-family=\"Times New Roman,serif\" font-size=\"14.00\">No</text>\n",
       "</g>\n",
       "<!-- Exit Game Loop -->\n",
       "<g id=\"node21\" class=\"node\">\n",
       "<title>Exit Game Loop</title>\n",
       "<ellipse fill=\"none\" stroke=\"black\" cx=\"549\" cy=\"-373.48\" rx=\"71.49\" ry=\"18\"/>\n",
       "<text text-anchor=\"middle\" x=\"549\" y=\"-369.78\" font-family=\"Times New Roman,serif\" font-size=\"14.00\">Exit Game Loop</text>\n",
       "</g>\n",
       "<!-- Check Game Loop Breaking Status&#45;&gt;Exit Game Loop -->\n",
       "<g id=\"edge30\" class=\"edge\">\n",
       "<title>Check Game Loop Breaking Status&#45;&gt;Exit Game Loop</title>\n",
       "<path fill=\"none\" stroke=\"black\" d=\"M519.31,-442.45C524.78,-429.94 531.34,-414.92 536.9,-402.19\"/>\n",
       "<polygon fill=\"black\" stroke=\"black\" points=\"540.08,-403.65 540.87,-393.09 533.66,-400.85 540.08,-403.65\"/>\n",
       "<text text-anchor=\"middle\" x=\"603\" y=\"-413.28\" font-family=\"Times New Roman,serif\" font-size=\"14.00\">Yes: Player Won or Lost</text>\n",
       "</g>\n",
       "<!-- Display on Screen Every Drawn Object -->\n",
       "<g id=\"node19\" class=\"node\">\n",
       "<title>Display on Screen Every Drawn Object</title>\n",
       "<ellipse fill=\"none\" stroke=\"black\" cx=\"299\" cy=\"-277.61\" rx=\"153.27\" ry=\"18\"/>\n",
       "<text text-anchor=\"middle\" x=\"299\" y=\"-273.91\" font-family=\"Times New Roman,serif\" font-size=\"14.00\">Display on Screen Every Drawn Object</text>\n",
       "</g>\n",
       "<!-- Draw all the game items&#45;&gt;Display on Screen Every Drawn Object -->\n",
       "<g id=\"edge28\" class=\"edge\">\n",
       "<title>Draw all the game items&#45;&gt;Display on Screen Every Drawn Object</title>\n",
       "<path fill=\"none\" stroke=\"black\" d=\"M343.1,-355.26C335.15,-341.46 323.86,-321.82 314.69,-305.88\"/>\n",
       "<polygon fill=\"black\" stroke=\"black\" points=\"317.8,-304.27 309.78,-297.35 311.73,-307.76 317.8,-304.27\"/>\n",
       "</g>\n",
       "<!-- Display on Screen Every Drawn Object&#45;&gt;Check for Game Event -->\n",
       "<g id=\"edge29\" class=\"edge\">\n",
       "<title>Display on Screen Every Drawn Object&#45;&gt;Check for Game Event</title>\n",
       "<path fill=\"none\" stroke=\"black\" d=\"M272.85,-295.74C250.86,-312.42 223,-339.98 223,-372.48 223,-1357.59 223,-1357.59 223,-1357.59 223,-1389.45 232.66,-1424.41 241.53,-1449.78\"/>\n",
       "<polygon fill=\"black\" stroke=\"black\" points=\"238.15,-1450.75 244.86,-1458.95 244.73,-1448.36 238.15,-1450.75\"/>\n",
       "</g>\n",
       "<!-- Display on Screen \n",
       " Every Drawn Object -->\n",
       "<g id=\"node20\" class=\"node\">\n",
       "<title>Display on Screen \n",
       " Every Drawn Object</title>\n",
       "<ellipse fill=\"none\" stroke=\"black\" cx=\"299\" cy=\"-186.87\" rx=\"94.51\" ry=\"26.74\"/>\n",
       "<text text-anchor=\"middle\" x=\"299\" y=\"-190.67\" font-family=\"Times New Roman,serif\" font-size=\"14.00\">Display on Screen </text>\n",
       "<text text-anchor=\"middle\" x=\"299\" y=\"-175.67\" font-family=\"Times New Roman,serif\" font-size=\"14.00\"> Every Drawn Object</text>\n",
       "</g>\n",
       "<!-- Display on Screen Every Drawn Object&#45;&gt;Display on Screen \n",
       " Every Drawn Object -->\n",
       "<g id=\"edge1\" class=\"edge\">\n",
       "<title>Display on Screen Every Drawn Object&#45;&gt;Display on Screen \n",
       " Every Drawn Object</title>\n",
       "<path fill=\"none\" stroke=\"black\" d=\"M299,-259.5C299,-249.83 299,-237.34 299,-225.5\"/>\n",
       "<polygon fill=\"black\" stroke=\"black\" points=\"302.5,-225.53 299,-215.53 295.5,-225.53 302.5,-225.53\"/>\n",
       "</g>\n",
       "<!-- Draw Respective End Game Cinematic -->\n",
       "<g id=\"node22\" class=\"node\">\n",
       "<title>Draw Respective End Game Cinematic</title>\n",
       "<ellipse fill=\"none\" stroke=\"black\" cx=\"569\" cy=\"-277.61\" rx=\"98.08\" ry=\"26.74\"/>\n",
       "<text text-anchor=\"middle\" x=\"569\" y=\"-281.41\" font-family=\"Times New Roman,serif\" font-size=\"14.00\">Draw Respective </text>\n",
       "<text text-anchor=\"middle\" x=\"569\" y=\"-266.41\" font-family=\"Times New Roman,serif\" font-size=\"14.00\"> End Game Cinematic</text>\n",
       "</g>\n",
       "<!-- Exit Game Loop&#45;&gt;Draw Respective End Game Cinematic -->\n",
       "<g id=\"edge31\" class=\"edge\">\n",
       "<title>Exit Game Loop&#45;&gt;Draw Respective End Game Cinematic</title>\n",
       "<path fill=\"none\" stroke=\"black\" d=\"M552.67,-355.26C555.03,-344.18 558.19,-329.34 561.1,-315.68\"/>\n",
       "<polygon fill=\"black\" stroke=\"black\" points=\"564.49,-316.57 563.15,-306.06 557.64,-315.11 564.49,-316.57\"/>\n",
       "<text text-anchor=\"middle\" x=\"612\" y=\"-326.28\" font-family=\"Times New Roman,serif\" font-size=\"14.00\">Winning vs Losing</text>\n",
       "</g>\n",
       "<!-- Display on Screen Every Drawn Object2 -->\n",
       "<g id=\"node23\" class=\"node\">\n",
       "<title>Display on Screen Every Drawn Object2</title>\n",
       "<ellipse fill=\"none\" stroke=\"black\" cx=\"569\" cy=\"-186.87\" rx=\"94.51\" ry=\"26.74\"/>\n",
       "<text text-anchor=\"middle\" x=\"569\" y=\"-190.67\" font-family=\"Times New Roman,serif\" font-size=\"14.00\">Display on Screen </text>\n",
       "<text text-anchor=\"middle\" x=\"569\" y=\"-175.67\" font-family=\"Times New Roman,serif\" font-size=\"14.00\"> Every Drawn Object</text>\n",
       "</g>\n",
       "<!-- Draw Respective End Game Cinematic&#45;&gt;Display on Screen Every Drawn Object2 -->\n",
       "<g id=\"edge32\" class=\"edge\">\n",
       "<title>Draw Respective End Game Cinematic&#45;&gt;Display on Screen Every Drawn Object2</title>\n",
       "<path fill=\"none\" stroke=\"black\" d=\"M569,-250.47C569,-242.52 569,-233.63 569,-225.11\"/>\n",
       "<polygon fill=\"black\" stroke=\"black\" points=\"572.5,-225.34 569,-215.34 565.5,-225.34 572.5,-225.34\"/>\n",
       "</g>\n",
       "<!-- Play Again? -->\n",
       "<g id=\"node26\" class=\"node\">\n",
       "<title>Play Again?</title>\n",
       "<ellipse fill=\"none\" stroke=\"black\" cx=\"569\" cy=\"-105\" rx=\"53.89\" ry=\"18\"/>\n",
       "<text text-anchor=\"middle\" x=\"569\" y=\"-101.3\" font-family=\"Times New Roman,serif\" font-size=\"14.00\">Play Again?</text>\n",
       "</g>\n",
       "<!-- Display on Screen Every Drawn Object2&#45;&gt;Play Again? -->\n",
       "<g id=\"edge33\" class=\"edge\">\n",
       "<title>Display on Screen Every Drawn Object2&#45;&gt;Play Again?</title>\n",
       "<path fill=\"none\" stroke=\"black\" d=\"M569,-159.72C569,-151.65 569,-142.72 569,-134.5\"/>\n",
       "<polygon fill=\"black\" stroke=\"black\" points=\"572.5,-134.66 569,-124.66 565.5,-134.66 572.5,-134.66\"/>\n",
       "</g>\n",
       "<!-- Win&#45;&gt;Draw Score -->\n",
       "<g id=\"edge24\" class=\"edge\">\n",
       "<title>Win&#45;&gt;Draw Score</title>\n",
       "<path fill=\"none\" stroke=\"black\" d=\"M697.94,-633.68C691.38,-628.96 684.09,-624.12 677,-620.22 638.11,-598.84 591.08,-580.47 556.52,-568.23\"/>\n",
       "<polygon fill=\"black\" stroke=\"black\" points=\"557.79,-564.97 547.19,-564.98 555.48,-571.58 557.79,-564.97\"/>\n",
       "<text text-anchor=\"middle\" x=\"688\" y=\"-591.02\" font-family=\"Times New Roman,serif\" font-size=\"14.00\">Bird Counter &gt;= 5</text>\n",
       "</g>\n",
       "<!-- Lose&#45;&gt;Draw Score -->\n",
       "<g id=\"edge20\" class=\"edge\">\n",
       "<title>Lose&#45;&gt;Draw Score</title>\n",
       "<path fill=\"none\" stroke=\"black\" d=\"M508,-619.76C508,-607.3 508,-593.15 508,-581.02\"/>\n",
       "<polygon fill=\"black\" stroke=\"black\" points=\"511.5,-581.23 508,-571.23 504.5,-581.23 511.5,-581.23\"/>\n",
       "</g>\n",
       "<!-- Play Again?&#45;&gt;Check for launching Event -->\n",
       "<g id=\"edge34\" class=\"edge\">\n",
       "<title>Play Again?&#45;&gt;Check for launching Event</title>\n",
       "<path fill=\"none\" stroke=\"black\" d=\"M616.13,-114.16C678.04,-126.24 779,-151.25 779,-185.87 779,-1651.67 779,-1651.67 779,-1651.67 779,-1739.26 492.97,-1753.49 343.97,-1754.96\"/>\n",
       "<polygon fill=\"black\" stroke=\"black\" points=\"344.09,-1751.46 334.12,-1755.04 344.15,-1758.46 344.09,-1751.46\"/>\n",
       "<text text-anchor=\"middle\" x=\"790\" y=\"-941.22\" font-family=\"Times New Roman,serif\" font-size=\"14.00\">Yes</text>\n",
       "</g>\n",
       "<!-- Play Again?&#45;&gt;END -->\n",
       "<g id=\"edge35\" class=\"edge\">\n",
       "<title>Play Again?&#45;&gt;END</title>\n",
       "<path fill=\"none\" stroke=\"black\" d=\"M522.85,-95.3C433.75,-78.51 239.5,-41.9 156.67,-26.29\"/>\n",
       "<polygon fill=\"black\" stroke=\"black\" points=\"157.47,-22.88 147,-24.47 156.18,-29.76 157.47,-22.88\"/>\n",
       "<text text-anchor=\"middle\" x=\"379\" y=\"-57.8\" font-family=\"Times New Roman,serif\" font-size=\"14.00\">No</text>\n",
       "</g>\n",
       "</g>\n",
       "</svg>\n"
      ],
      "text/plain": [
       "<graphviz.graphs.Digraph at 0x1c76af23550>"
      ]
     },
     "execution_count": 62,
     "metadata": {},
     "output_type": "execute_result"
    }
   ],
   "source": [
    "dot"
   ]
  },
  {
   "cell_type": "markdown",
   "id": "3360c1bb-64db-4259-926b-5bbef43bbdd8",
   "metadata": {},
   "source": [
    "## 3. Program"
   ]
  },
  {
   "cell_type": "code",
   "execution_count": 66,
   "id": "46931ac3-9a77-4682-b354-f4d58121761c",
   "metadata": {
    "tags": []
   },
   "outputs": [
    {
     "ename": "SystemExit",
     "evalue": "",
     "output_type": "error",
     "traceback": [
      "An exception has occurred, use %tb to see the full traceback.\n",
      "\u001b[1;31mSystemExit\u001b[0m\n"
     ]
    }
   ],
   "source": [
    "# 1. Import pygame Module\n",
    "import pygame, sys, time, random\n",
    "from pygame.locals import *\n",
    "\n",
    "# 2. Set up constants\n",
    "# windowSurface\n",
    "WINDOWWIDTH = 800\n",
    "WINDOWHEIGHT = 800\n",
    "# menuSurface\n",
    "MENUWIDTH = 800\n",
    "MENUHEIGHT = 50\n",
    "# Good Food\n",
    "FOODHEIGHT = 20\n",
    "FOODWIDTH = 40\n",
    "# Toxic Food\n",
    "TOXICHEIGHT = 40\n",
    "TOXICWIDTH = 40\n",
    "# Birds\n",
    "BIRDHEIGHT = 40\n",
    "BIRDWIDTH = 40\n",
    "# Colors\n",
    "WHITE = (255, 255, 255)\n",
    "BLACK = (0, 0, 0)\n",
    "GREY = (128, 128, 128)\n",
    "RED = (255, 0, 0)\n",
    "GREEN = (0, 255, 0)\n",
    "BLUE = (0, 0, 255)\n",
    "PINK = (255,153,255)\n",
    "# Refresh rates\n",
    "NEWBIRD = 500\n",
    "NEWTOXIC = 30\n",
    "NEWFOOD = 30\n",
    "\n",
    "# 3. Functions\n",
    "# Draw text onto the window\n",
    "def drawText(text, font, color, surface, x, y):\n",
    "    textobj = font.render(text, 1, color)\n",
    "    textrect = textobj.get_rect()\n",
    "    textrect.topleft = (x, y)\n",
    "    surface.blit(textobj, textrect)\n",
    "# Terminate the program/game\n",
    "def terminate():\n",
    "    pygame.quit()\n",
    "    sys.exit()\n",
    "# Infinitely loop that only breaks when the players decides to quit\n",
    "def waitForPlayerToPressKey():\n",
    "    while True:\n",
    "        for event in pygame.event.get():\n",
    "            if event.type == QUIT:\n",
    "                terminate()\n",
    "            if event.type == KEYDOWN:\n",
    "                if event.key == K_ESCAPE: # Pressing ESC quits.\n",
    "                    terminate()\n",
    "                return\n",
    "# Assign items to a location onto the window\n",
    "def assignItem(itemImageList, itemList, xPosition, yPosition, itemWidth, itemHeight):\n",
    "    item_type = random.choice(itemImageList)\n",
    "    itemList.append((pygame.Rect(xPosition, yPosition, itemWidth, itemHeight), item_type))\n",
    "                 \n",
    "# 4. Initialise\n",
    "# Pygame\n",
    "pygame.init()\n",
    "mainClock = pygame.time.Clock()\n",
    "# windowSurface Size\n",
    "windowSurface = pygame.display.set_mode((WINDOWWIDTH, WINDOWHEIGHT), 0, 32)\n",
    "# windowSurface Caption\n",
    "pygame.display.set_caption('Hungry Kitty')\n",
    "# Mouse\n",
    "pygame.mouse.set_visible(True)\n",
    "# Fonts\n",
    "kitty_path1 = \"C:/Users/pauly/OneDrive/Documents/PythonGameFolder/attack-of-blood-font/AttackOfBlood-0wWX.ttf\"\n",
    "kitty_path2 = \"C:/Users/pauly/OneDrive/Documents/PythonGameFolder/kitty-paw-font/KittyPawDemo-rgq47.ttf\"\n",
    "font1 = pygame.font.Font(kitty_path1, 84)\n",
    "font2 = pygame.font.Font(kitty_path2, 90)\n",
    "font3 = pygame.font.Font(kitty_path1, 60)\n",
    "font4 = pygame.font.Font(kitty_path2, 28)\n",
    "font5 = pygame.font.SysFont(None, 40) # pygame.font.Font(kitty_path1, 40)\n",
    "font6 = pygame.font.Font(kitty_path2, 65)\n",
    "# Background Music\n",
    "pygame.mixer.music.load(\"C:/Users/pauly/OneDrive/Documents/PythonGameFolder/Catsong.wav\")\n",
    "# Sounds\n",
    "introSound = pygame.mixer.Sound(\"C:/Users/pauly/OneDrive/Documents/PythonGameFolder/adventuremusic.mp3\")\n",
    "pickUpSound = pygame.mixer.Sound(\"C:/Users/pauly/OneDrive/Documents/PythonGameFolder/happycat.ogg\")\n",
    "pickUpSound2 = pygame.mixer.Sound(\"C:/Users/pauly/OneDrive/Documents/PythonGameFolder/sadcat.wav\")\n",
    "pickUpSound3 = pygame.mixer.Sound(\"C:/Users/pauly/OneDrive/Documents/PythonGameFolder/welldone.ogg\")\n",
    "gameOverSound = pygame.mixer.Sound(\"C:/Users/pauly/OneDrive/Documents/PythonGameFolder/gameovercute.mp3\")\n",
    "youWinSound = pygame.mixer.Sound(\"C:/Users/pauly/OneDrive/Documents/PythonGameFolder/youwin.wav\")\n",
    "# Background Image\n",
    "backgroundImage = pygame.image.load(\"C:/Users/pauly/OneDrive/Documents/PythonGameFolder/floor.jpg\")\n",
    "backgroundStretchedImage = pygame.transform.scale(backgroundImage, (800, 800))\n",
    "# Speed variable\n",
    "MOVESPEED = 6\n",
    "# Player data structure\n",
    "player = pygame.Rect(300, 100, 40, 40)\n",
    "playerImage = pygame.image.load(\"C:/Users/pauly/OneDrive/Documents/PythonGameFolder/cat.png\")\n",
    "playerStretchedImage = pygame.transform.scale(playerImage, (40, 40))\n",
    "# Good food data structure\n",
    "foodImage = pygame.image.load(\"C:/Users/pauly/OneDrive/Documents/PythonGameFolder/fish.png\")\n",
    "food2Image = pygame.image.load(\"C:/Users/pauly/OneDrive/Documents/PythonGameFolder/chicken.png\")\n",
    "food3Image = pygame.image.load(\"C:/Users/pauly/OneDrive/Documents/PythonGameFolder/shrimp.png\")\n",
    "foodStretchedImage = pygame.transform.scale(foodImage, (FOODWIDTH, FOODHEIGHT))\n",
    "food2StretchedImage = pygame.transform.scale(food2Image, (FOODWIDTH, FOODHEIGHT))\n",
    "food3StretchedImage = pygame.transform.scale(food3Image, (FOODWIDTH, FOODHEIGHT))\n",
    "foodImgs = [foodStretchedImage, food2StretchedImage, food3StretchedImage]\n",
    "# Toxic food data structure\n",
    "toxicImage = pygame.image.load(\"C:/Users/pauly/OneDrive/Documents/PythonGameFolder/brocoli.png\")\n",
    "toxic2Image = pygame.image.load(\"C:/Users/pauly/OneDrive/Documents/PythonGameFolder/chocolate.png\")\n",
    "toxic3Image = pygame.image.load(\"C:/Users/pauly/OneDrive/Documents/PythonGameFolder/onion.png\")\n",
    "toxicStretchedImage = pygame.transform.scale(toxicImage, (TOXICWIDTH, TOXICHEIGHT))\n",
    "toxic2StretchedImage = pygame.transform.scale(toxic2Image, (TOXICWIDTH, TOXICHEIGHT))\n",
    "toxic3StretchedImage = pygame.transform.scale(toxic3Image, (TOXICWIDTH, TOXICHEIGHT))\n",
    "toxicImgs = [toxicStretchedImage, toxic2StretchedImage, toxic3StretchedImage]\n",
    "# Bird data structure\n",
    "birdImage = pygame.image.load(\"C:/Users/pauly/OneDrive/Documents/PythonGameFolder/bird.png\")\n",
    "birdStretchedImage = pygame.transform.scale(birdImage, (BIRDWIDTH, BIRDHEIGHT))\n",
    "\n",
    "# 5.START screen\n",
    "windowSurface.fill(BLACK)\n",
    "windowSurface.blit(playerImage,(30,30))\n",
    "introSound.play()\n",
    "drawText('HUNGRY', font1, PINK, windowSurface, WINDOWWIDTH / 4 - 70, WINDOWHEIGHT / 2 - 110)\n",
    "drawText('KITTY', font2, PINK, windowSurface, WINDOWWIDTH / 5 - 60, WINDOWHEIGHT / 2 - 35)\n",
    "drawText('Press a key to start', font3, WHITE, windowSurface, WINDOWWIDTH / 4 + 30, WINDOWHEIGHT / 5 * 4 -50 )\n",
    "drawText('Press ESC to quit', font3, GREY, windowSurface, WINDOWWIDTH / 4 + 40, WINDOWHEIGHT / 5 * 4 + 10)\n",
    "pygame.display.update()\n",
    "waitForPlayerToPressKey()\n",
    "introSound.stop()\n",
    "#### Game Loop 1\n",
    "while True:\n",
    "    # 6. Initialise game post START screen\n",
    "    # Good food variable\n",
    "    foodCounter = 0\n",
    "    foods = []\n",
    "    for i in range(20):\n",
    "        assignItem(foodImgs, foods, random.randint(0, WINDOWWIDTH - FOODWIDTH), random.randint(0, WINDOWHEIGHT - MENUHEIGHT - FOODHEIGHT), FOODWIDTH, FOODHEIGHT)\n",
    "    # Toxic food variable\n",
    "    toxicCounter = 0\n",
    "    toxics = []\n",
    "    for i in range(5):\n",
    "        assignItem(toxicImgs, toxics, random.randint(0, WINDOWWIDTH - TOXICWIDTH), random.randint(0, WINDOWHEIGHT - MENUHEIGHT - TOXICHEIGHT), TOXICWIDTH, TOXICHEIGHT)\n",
    "    # Bird variable\n",
    "    birdCounter = 0\n",
    "    birds = []\n",
    "    for i in range(1):\n",
    "        birds.append(pygame.Rect(random.randint(0, WINDOWWIDTH - BIRDWIDTH), random.randint(0, WINDOWHEIGHT - MENUHEIGHT - BIRDHEIGHT), BIRDWIDTH, BIRDHEIGHT))\n",
    "    # Movement variables\n",
    "    moveLeft = moveRight = moveUp = moveDown = False\n",
    "    # Play background Music\n",
    "    pygame.mixer.music.play(-1, 0.0)\n",
    "    # Score variable\n",
    "    score = 0\n",
    "    # Win-Loss condition variable\n",
    "    flag = 0\n",
    "\n",
    "    # Game loop 2: runs while the game part is playing\n",
    "    while True:\n",
    "        # 7. Check for events:\n",
    "        for event in pygame.event.get():\n",
    "            # A. Quit the game\n",
    "            if event.type == QUIT:\n",
    "                terminate()\n",
    "            # B. Retieve the player's square moves by changing the keyboard variables\n",
    "            if event.type == KEYDOWN:\n",
    "                if event.key == K_LEFT or event.key == K_a:\n",
    "                    moveRight = False\n",
    "                    moveLeft = True\n",
    "                if event.key == K_RIGHT or event.key == K_d:\n",
    "                    moveLeft = False\n",
    "                    moveRight = True\n",
    "                if event.key == K_UP or event.key == K_w:\n",
    "                    moveDown = False\n",
    "                    moveUp = True\n",
    "                if event.key == K_DOWN or event.key == K_s:\n",
    "                    moveUp = False\n",
    "                    moveDown = True\n",
    "            if event.type == KEYUP:\n",
    "                # C. Quit the game bis\n",
    "                if event.key == K_ESCAPE:\n",
    "                    terminate()\n",
    "                # D. STOP retieveing the player's square moves\n",
    "                if event.key == K_LEFT or event.key == K_a:\n",
    "                    moveLeft = False\n",
    "                if event.key == K_RIGHT or event.key == K_d:\n",
    "                    moveRight = False\n",
    "                if event.key == K_UP or event.key == K_w:\n",
    "                    moveUp = False\n",
    "                if event.key == K_DOWN or event.key == K_s:\n",
    "                    moveDown = False\n",
    "                # E. Teleporting the player\n",
    "                if event.key == K_x:\n",
    "                    player.top = random.randint(0, WINDOWHEIGHT - MENUHEIGHT - player.height)\n",
    "                    player.left = random.randint(0, WINDOWWIDTH - player.width)\n",
    "\n",
    "            # Manually adding either new food or toxic food squares\n",
    "            if event.type == MOUSEBUTTONUP:\n",
    "                if event.pos[1] < WINDOWHEIGHT - MENUHEIGHT:   \n",
    "                    foodchoice = random.randint(0,1)\n",
    "                    if foodchoice == 1:\n",
    "                        assignItem(foodImgs, foods, event.pos[0] - FOODWIDTH, event.pos[1] - FOODHEIGHT, FOODWIDTH, FOODHEIGHT)\n",
    "                    else:\n",
    "                        assignItem(toxicImgs, toxics, event.pos[0] - TOXICWIDTH, event.pos[1] - TOXICHEIGHT, TOXICWIDTH, TOXICHEIGHT)\n",
    "\n",
    "        # 8. Automatically adding new items\n",
    "        # Food\n",
    "        foodCounter += 1\n",
    "        if foodCounter >= NEWFOOD:\n",
    "            foodCounter = 0\n",
    "            assignItem(foodImgs, foods, random.randint(0, WINDOWWIDTH - FOODWIDTH), random.randint(0, WINDOWHEIGHT - MENUHEIGHT - FOODHEIGHT), FOODWIDTH, FOODHEIGHT)   \n",
    "        # Toxic food\n",
    "        toxicCounter += 1\n",
    "        if toxicCounter >= NEWTOXIC:\n",
    "            toxicCounter = 0\n",
    "            assignItem(toxicImgs, toxics, random.randint(0, WINDOWWIDTH - TOXICWIDTH), random.randint(0, WINDOWHEIGHT - MENUHEIGHT - TOXICHEIGHT), TOXICWIDTH, TOXICHEIGHT)\n",
    "        # Birds\n",
    "        birdCounter += 1\n",
    "        if birdCounter >= NEWBIRD:\n",
    "            birdCounter = 0\n",
    "            birds.append(pygame.Rect(random.randint(0, WINDOWWIDTH - BIRDWIDTH), random.randint(0, WINDOWHEIGHT - MENUHEIGHT - BIRDHEIGHT), BIRDWIDTH, BIRDHEIGHT))\n",
    "\n",
    "        # 9. Draw the game background onto the windowSurface\n",
    "        windowSurface.blit(backgroundStretchedImage, (0, 0))\n",
    "        # Menu\n",
    "        pygame.draw.rect(windowSurface, GREY, (0, WINDOWHEIGHT - MENUHEIGHT, MENUWIDTH, MENUHEIGHT))\n",
    "\n",
    "        # 10. Move the player\n",
    "        if moveDown and player.bottom < (WINDOWHEIGHT - MENUHEIGHT):\n",
    "            player.top += MOVESPEED\n",
    "        if moveUp and player.top > 0:\n",
    "            player.top -= MOVESPEED\n",
    "        if moveLeft and player.left > 0:\n",
    "            player.left -= MOVESPEED\n",
    "        if moveRight and player.right < WINDOWWIDTH:\n",
    "            player.right += MOVESPEED\n",
    "\n",
    "        # 11. Draw the player onto the surface\n",
    "        windowSurface.blit(playerStretchedImage, player) # ALTERNATIVE: pygame.draw.rect(windowSurface, BLACK, player)\n",
    "\n",
    "        # 12. Check if the player has intersected with any items\n",
    "        # Food\n",
    "        for food, food_img in foods[:]:\n",
    "            if player.colliderect(food):\n",
    "                foods.remove((food, food_img))\n",
    "                pickUpSound.play()\n",
    "                player = pygame.Rect(player.left, player.top, player.width + 10, player.height + 10)\n",
    "                playerStretchedImage = pygame.transform.scale(playerImage, (player.width, player.height))\n",
    "                \n",
    "        # Toxic food\n",
    "        for toxic, toxic_img in toxics[:]:\n",
    "            if player.colliderect(toxic):\n",
    "                toxics.remove((toxic, toxic_img))\n",
    "                pickUpSound2.play()\n",
    "                if player.width - 20 > 0 and player.height - 20 > 0:\n",
    "                    player = pygame.Rect(player.left, player.top, player.width - 20, player.height - 20)\n",
    "                    playerStretchedImage = pygame.transform.scale(playerImage, (player.width, player.height))\n",
    "                else:\n",
    "                    flag = 1\n",
    "                \n",
    "        # Birds\n",
    "        for bird in birds[:]:\n",
    "            if player.colliderect(bird):\n",
    "                birds.remove(bird)\n",
    "                pickUpSound3.play()\n",
    "                if not flag == 1:\n",
    "                    score += 1\n",
    "        \n",
    "        # 13. Draw the score\n",
    "        drawText('Score', font4, WHITE, windowSurface, (MENUWIDTH / 8 - 50), (WINDOWHEIGHT - MENUHEIGHT + 5))\n",
    "        drawText(': %s / 5 birds' % (score), font5, WHITE, windowSurface, (MENUWIDTH / 4 + 50), (WINDOWHEIGHT - MENUHEIGHT + 20))\n",
    "        \n",
    "        # 14. Break the loop if necessary\n",
    "        if flag == 1 or score >= 5:\n",
    "            break\n",
    "             \n",
    "        # 15. Draw the items\n",
    "        # Food\n",
    "        for food, food_img in foods:\n",
    "            windowSurface.blit(food_img, food) # ALTENATIVE: pygame.draw.rect(windowSurface, GREEN, foods[i])\n",
    "        # Toxic food\n",
    "        for toxic, toxic_img in toxics:\n",
    "            windowSurface.blit(toxic_img, toxic)\n",
    "        # Birds\n",
    "        for bird in birds:\n",
    "            windowSurface.blit(birdStretchedImage, bird)\n",
    "        \n",
    "        # 16. Draw the window onto the screen every turn\n",
    "        pygame.display.update()\n",
    "        mainClock.tick(40)\n",
    "\n",
    "    # 17. Stop the game and show the win/loss message\n",
    "    if flag == 1:\n",
    "        drawText('Game Over', font6, WHITE, windowSurface, MENUWIDTH / 8 - 78, (WINDOWHEIGHT - MENUHEIGHT) / 2)\n",
    "        pygame.mixer.music.stop()\n",
    "        gameOverSound.play()\n",
    "    elif score >= 5:\n",
    "        drawText('You Win', font6, WHITE, windowSurface, MENUWIDTH / 8 + 5, (WINDOWHEIGHT - MENUHEIGHT) / 2)\n",
    "        pygame.mixer.music.stop()\n",
    "        youWinSound.play()\n",
    "        \n",
    "    drawText('Press a key to play again', font1, WHITE, windowSurface, (WINDOWWIDTH / 4) - 60, (WINDOWHEIGHT / 3 * 2) + 40)\n",
    "    drawText('Press ESC to quit', font3, WHITE, windowSurface, WINDOWWIDTH / 4 + 40, WINDOWHEIGHT / 5 * 4 + 10)\n",
    "\n",
    "    # 18. Draw the window onto the screen\n",
    "    pygame.display.update()\n",
    "    waitForPlayerToPressKey()\n",
    "    \n",
    "    if flag == 1:\n",
    "        gameOverSound.stop()\n",
    "    elif score >= 5:\n",
    "        youWinSound.stop()"
   ]
  },
  {
   "cell_type": "code",
   "execution_count": 65,
   "id": "ee73cbac-435d-4aa4-8363-aee4ab842980",
   "metadata": {},
   "outputs": [
    {
     "data": {
      "image/png": "[encoded data removed]",
      "text/plain": [
       "<IPython.core.display.Image object>"
      ]
     },
     "execution_count": 65,
     "metadata": {},
     "output_type": "execute_result"
    }
   ],
   "source": [
    "# Output\n",
    "from IPython.display import Image\n",
    "Image(filename=\"C:/Users/pauly/OneDrive/Documents/PythonGameFolder/Pygamesoundimage.png\")"
   ]
  },
  {
   "cell_type": "markdown",
   "id": "9a72e05b-c5c4-43fd-91cf-99f24635e490",
   "metadata": {},
   "source": [
    "## 4. Graphic Design Methodology"
   ]
  },
  {
   "cell_type": "markdown",
   "id": "034cb570-f11a-4450-96d1-3daa559a0de9",
   "metadata": {},
   "source": [
    "### 4.1. Import pygame Module"
   ]
  },
  {
   "cell_type": "code",
   "execution_count": null,
   "id": "db94c08c-13fe-41d0-87cd-2869987b09b2",
   "metadata": {
    "tags": []
   },
   "outputs": [],
   "source": [
    "## 1. Import pygame Module\n",
    "# import pygame, sys\n",
    "# from pygame.locals import *"
   ]
  },
  {
   "cell_type": "markdown",
   "id": "4ba87ec6-0e94-49d5-b6c2-bfac4ed7a68e",
   "metadata": {},
   "source": [
    "### 4.2. Initialise pygame"
   ]
  },
  {
   "cell_type": "code",
   "execution_count": null,
   "id": "20824a80-a5e6-4040-bf3d-949b279ce51d",
   "metadata": {
    "tags": []
   },
   "outputs": [],
   "source": [
    "## 2. Initialise pygame\n",
    "# pygame.init()"
   ]
  },
  {
   "cell_type": "markdown",
   "id": "ab4725ab-c806-46c2-8763-893aee32e90d",
   "metadata": {
    "tags": []
   },
   "source": [
    "### 4.3. Set up windowSurface\n",
    "\n",
    "The window is a Graphical User Interface (GUI) window.\n",
    "- pygame.surface object = window\n",
    "- object = stores data + has methods.\n",
    "- method = function associated to an object"
   ]
  },
  {
   "cell_type": "markdown",
   "id": "a963539c-e646-40d0-bc51-3be5b463b03f",
   "metadata": {
    "tags": []
   },
   "source": [
    "#### set_mode() function\n",
    "\n",
    "Function that returns a pygame.surface object.\n",
    "\n",
    "set_mode(parameter 1, parameter 2, parameter 3)\n",
    "- parameter 1: We can create a 500 pixels wide and 400 pixels tall window by using a tuple. FYI, tuples are immutable lists.\n",
    "- parameter 2: Advanced option\n",
    "- parameter 3: Advanced option"
   ]
  },
  {
   "cell_type": "code",
   "execution_count": null,
   "id": "0f5997a1-ff0b-4157-a00c-2d9a6fcc4535",
   "metadata": {},
   "outputs": [],
   "source": [
    "## 3. Set up windowSurface\n",
    "## Size\n",
    "# windowSurface = pygame.display.set_mode((500, 400), 0, 32) "
   ]
  },
  {
   "cell_type": "markdown",
   "id": "7b4f868c-e0b9-4111-80cc-2c4fa01f0f1d",
   "metadata": {},
   "source": [
    "#### set_caption() method\n",
    "\n",
    "Method that sets the window's caption to read 'Hello World!'"
   ]
  },
  {
   "cell_type": "code",
   "execution_count": null,
   "id": "9a144c10-56cf-4a71-b44f-865a4be02997",
   "metadata": {},
   "outputs": [],
   "source": [
    "## Caption\n",
    "# pygame.display.set_caption('Hello world!')"
   ]
  },
  {
   "cell_type": "markdown",
   "id": "3068eb9c-7d41-4403-bc4b-724712677d96",
   "metadata": {
    "tags": []
   },
   "source": [
    "### 4.4. Appoint color variables \n",
    "\n",
    "Color variables are in RGB"
   ]
  },
  {
   "cell_type": "code",
   "execution_count": null,
   "id": "0e1c2d0d-50f4-44dc-9b39-26d5159dad9e",
   "metadata": {
    "tags": []
   },
   "outputs": [],
   "source": [
    "## 4. Appoint color variables\n",
    "# BLACK = (0, 0, 0)\n",
    "# WHITE = (255, 255, 255)\n",
    "# RED = (255, 0, 0)\n",
    "# GREEN = (0, 255, 0)\n",
    "# BLUE = (0, 0, 255)"
   ]
  },
  {
   "cell_type": "markdown",
   "id": "f470a7b9-1126-42f6-afde-8fb96ea91d8d",
   "metadata": {
    "tags": []
   },
   "source": [
    "### 4.5. Set the text to be written onto the windowSurface\n",
    "\n",
    "#### font() function\n",
    "\n",
    "Function that creates a pygame.font.Font object.\n",
    "\n",
    "font(parameter 1, parameter 2)\n",
    "- parameter 1: name of the font\n",
    "- parameter 2:size of the font"
   ]
  },
  {
   "cell_type": "code",
   "execution_count": null,
   "id": "ea96e048-922b-4c86-b605-90b6eae3bc71",
   "metadata": {
    "tags": []
   },
   "outputs": [],
   "source": [
    "## 5. Set the text to be written onto the windowSurface\n",
    "## Font Object Style\n",
    "# basicFont = pygame.font.SysFont(None, 48)"
   ]
  },
  {
   "cell_type": "markdown",
   "id": "7829317b-9058-497a-aa5b-a695976889b9",
   "metadata": {},
   "source": [
    "#### render() method\n",
    "\n",
    "Method that returns a Surface object with the text drawn on it.\n",
    "\n",
    "render(parameter 1, parameter 2, parameter 3, parameter 4)\n",
    "- parameter 1 = string of the text to draw\n",
    "- parameter 2 = boolean for whether or not to anti-alias (blur the edges) of the font\n",
    "- parameter 3 = color of the text to render\n",
    "- parameter 4 = background color of the text to render"
   ]
  },
  {
   "cell_type": "code",
   "execution_count": null,
   "id": "0b382cef-d8fc-41f6-a876-31118946599a",
   "metadata": {},
   "outputs": [],
   "source": [
    "## Font Object Rendering\n",
    "# text = basicFont.render('Hello world!', True, WHITE, BLUE)"
   ]
  },
  {
   "cell_type": "markdown",
   "id": "0c49475f-caff-43f4-96cb-c45ef3bdeb64",
   "metadata": {
    "tags": []
   },
   "source": [
    "#### rect() function\n",
    "\n",
    "Function that creates a new Rect object with its respective x- and y-coordinates representing rectangular areas of a certain size on a window.\n",
    "It is a Constructor Function = Function that has the same name as its data type and create objects or values of its data.\n",
    "\n",
    "pygame.Rect(parameter 1 = left, parameter 2 = top, parameter 3 = width, parameter 4 = height) \n",
    "\n",
    "#### get_rect() function\n",
    "\n",
    "Function that helps you retrieve the Rect object if it has already been created.\n",
    "\n",
    "- We have already created the Font object + windowSurface object => Rect objects were already created.\n",
    "- Hence, we just need to retrieve them with get_rect()."
   ]
  },
  {
   "cell_type": "code",
   "execution_count": null,
   "id": "b9adea9c-8525-404b-b3b1-100b072237d3",
   "metadata": {
    "tags": []
   },
   "outputs": [],
   "source": [
    "## Font Object Rect retrieval\n",
    "# textRect = text.get_rect() "
   ]
  },
  {
   "cell_type": "markdown",
   "id": "6739ace0-9f02-4cde-82aa-ee7e4f75cfeb",
   "metadata": {},
   "source": [
    "To center your Font object in the center of the windowSurface object, you just need to retrieve the center coordinated of the windowSurface."
   ]
  },
  {
   "cell_type": "code",
   "execution_count": null,
   "id": "4b29fa0d-5d46-41ef-bf15-585e06ca2f78",
   "metadata": {
    "tags": []
   },
   "outputs": [],
   "source": [
    "## Font Object localisation\n",
    "# textRect.centerx = windowSurface.get_rect().centerx\n",
    "# textRect.centery = windowSurface.get_rect().centery"
   ]
  },
  {
   "cell_type": "markdown",
   "id": "83352c7b-67aa-4994-8fa2-c51e1552df16",
   "metadata": {
    "tags": []
   },
   "source": [
    "### 4.6. Draw onto the windowSurface\n",
    "\n",
    "#### fill() method\n",
    "\n",
    "Method that completely covers the surface with the color set as the parameter.\n",
    "\n",
    "fill(color)"
   ]
  },
  {
   "cell_type": "code",
   "execution_count": null,
   "id": "3dfc1d09-e1a4-468f-be00-2c4036c7bd5e",
   "metadata": {
    "tags": []
   },
   "outputs": [],
   "source": [
    "## 6. Draw onto the windowSurface\n",
    "## Surface Object Color Filling\n",
    "# windowSurface.fill(WHITE)"
   ]
  },
  {
   "cell_type": "markdown",
   "id": "2a16b3e2-a3f3-40ab-8133-900a0f276ea3",
   "metadata": {
    "tags": []
   },
   "source": [
    "#### draw.polygon() function\n",
    "\n",
    "draw.polygon(parameter 1, parameter 2, parameter 3, parameter 4)\n",
    "- parameter 1 = surface object to draw the polygon on\n",
    "- parameter 2 = color of the polygon\n",
    "- parameter 3 = tuple of tuples representing the x- andy-coordinates of the points to draw in order. The last tuple will automatically connect to the first tuple to complete the shape\n",
    "- parameter 4 = optionally, an integer for the width of the polygon lines. Without this, the polygon will be filled in."
   ]
  },
  {
   "cell_type": "code",
   "execution_count": null,
   "id": "a7869449-ec9c-4eca-b663-cee1ad23fb71",
   "metadata": {},
   "outputs": [],
   "source": [
    "## Draw a green polygon\n",
    "# pygame.draw.polygon(windowSurface, GREEN, ((146, 0), (291, 106), (236, 277), (56, 277), (0, 106)))"
   ]
  },
  {
   "cell_type": "markdown",
   "id": "46838752-c5a3-4cd7-b3e9-33c876e1926f",
   "metadata": {
    "tags": []
   },
   "source": [
    "#### draw.line() function\n",
    "\n",
    "draw.line(parameter 1, parameter 2, parameter 3, parameter 4, parameter 5)\n",
    "- parameter 1 = surface object to draw the line on\n",
    "- parameter 2 = color of the line\n",
    "- parameter 3 = a tuple of 2 integers for the x-coordinates of one end of the line\n",
    "- parameter 4 = a tuple of 2 integers for the y-coordinates of the other end of the line\n",
    "- parameter 5 = optionally, an integer for the width of the line in pixels."
   ]
  },
  {
   "cell_type": "code",
   "execution_count": null,
   "id": "1221f111-fa47-4e91-b04f-4eefadd8fe2a",
   "metadata": {
    "tags": []
   },
   "outputs": [],
   "source": [
    "## Draw some blue lines\n",
    "# pygame.draw.line(windowSurface, BLUE, (60, 60), (120, 60), 4)\n",
    "# pygame.draw.line(windowSurface, BLUE, (120, 60), (60, 120))\n",
    "# pygame.draw.line(windowSurface, BLUE, (60, 120), (120, 120), 4)"
   ]
  },
  {
   "cell_type": "markdown",
   "id": "ac2b3a69-ddb9-43ff-a98c-b2d2c8127b0d",
   "metadata": {},
   "source": [
    "#### draw.circle() function\n",
    "\n",
    "draw.circle(parameter 1, parameter 2, parameter 3, parameter 4, parameter 5)\n",
    "- parameter 1 = surface object to draw the circle on\n",
    "- parameter 2 = color of the circle\n",
    "- parameter 3 = a tuple of 2 integers for the x- and y-coordinates of the center of the circle\n",
    "- parameter 4 = an integer for the radius of the circle\n",
    "- parameter 5 = optionally, an integer for the width of the line. A width of 0 means that the circle will be filled in."
   ]
  },
  {
   "cell_type": "code",
   "execution_count": null,
   "id": "2503bb65-e144-4c52-bece-5e08026ef10d",
   "metadata": {
    "tags": []
   },
   "outputs": [],
   "source": [
    "## Draw a blue circle\n",
    "# pygame.draw.circle(windowSurface, BLUE, (300, 50), 20, 0)"
   ]
  },
  {
   "cell_type": "markdown",
   "id": "d4e6ceeb-65bc-4cc8-a294-a436b0cefd4b",
   "metadata": {},
   "source": [
    "#### draw.ellipse() function\n",
    "\n",
    "draw.ellipse(parameter 1, parameter 2, parameter 3, parameter 4)\n",
    "- parameter 1 = surface object to draw the ellipse on\n",
    "- parameter 2 = color of the ellipse\n",
    "- parameter 3 = a tuple of 4 integers for the left and top corner of the ellipse's Rect object and the width and height of the ellipse\n",
    "- parameter 4 = optionally, an integer for the width of the line. A width of 0 means that the ellipse will be filled in."
   ]
  },
  {
   "cell_type": "code",
   "execution_count": null,
   "id": "19353e28-7e4c-45db-ba99-c9ea7ddd5d42",
   "metadata": {
    "tags": []
   },
   "outputs": [],
   "source": [
    "## Draw a red ellipse\n",
    "# pygame.draw.ellipse(windowSurface, RED, (300, 250, 40, 80), 1)"
   ]
  },
  {
   "cell_type": "markdown",
   "id": "f2dc794a-a452-43a9-856e-59b36d9a4341",
   "metadata": {
    "tags": []
   },
   "source": [
    "#### draw.rect() function\n",
    "\n",
    "draw.rect(parameter 1, parameter 2, parameter 3)\n",
    "- parameter 1 = surface object to draw the rectangle on\n",
    "- parameter 2 = color of the rectangle\n",
    "- parameter 3 = a tuple of 4 integers for the top-left corner and the width and height of the rectangle. Instead of a tuple of 4 integers for the third parameter, we can also pass a Rect object."
   ]
  },
  {
   "cell_type": "code",
   "execution_count": null,
   "id": "90ff9bbd-bf76-44a6-b75f-6132bc00805d",
   "metadata": {
    "tags": []
   },
   "outputs": [],
   "source": [
    "## Draw the text's background rectangle\n",
    "# pygame.draw.rect(windowSurface, RED, (textRect.left - 20, textRect.top - 20, textRect.width + 40, textRect.height + 40))"
   ]
  },
  {
   "cell_type": "markdown",
   "id": "485a7597-d7c5-450e-99a4-0929888a81b7",
   "metadata": {},
   "source": [
    "#### PixelArray() object\n",
    "\n",
    "If we want to draw a very detailed or customized image to the screen _ instead of just large shape _ we need a high per-pixel level of control.\n",
    "The PixelArray() object gives us this level of control by taking the Surface object (e.j. windowSurface) and cutting it into a list of lists of color tuples.\n",
    "\n",
    "pixArray[x-coordinate][y-coordinate] = Color"
   ]
  },
  {
   "cell_type": "code",
   "execution_count": null,
   "id": "4652cb33-eab7-4146-8e11-c35bf0380f2d",
   "metadata": {},
   "outputs": [],
   "source": [
    "## Coloring Pixels\n",
    "# pixArray = pygame.PixelArray(windowSurface)\n",
    "# pixArray[480][380] = BLACK"
   ]
  },
  {
   "cell_type": "markdown",
   "id": "f2bc21a8-410e-4807-9974-496186d3fc88",
   "metadata": {},
   "source": [
    "#### del operator\n",
    "\n",
    "Every time we create a PixelArray object from a Surface object, that Surface object is locked.\n",
    "That means no blit() method calls can be made on that Surface object.\n",
    "To unlock the Surface object, you must delete the Pixel Array object with the del operator."
   ]
  },
  {
   "cell_type": "code",
   "execution_count": null,
   "id": "7a9e7567-a16c-4956-8d92-0e00239f87c6",
   "metadata": {
    "tags": []
   },
   "outputs": [],
   "source": [
    "# del pixArray"
   ]
  },
  {
   "cell_type": "markdown",
   "id": "27c05195-b5cc-40d8-8b22-8d45c9860085",
   "metadata": {
    "tags": []
   },
   "source": [
    "#### blit() method\n",
    "\n",
    "Method that draws the contents of one Surface object onto another Surface object. \n",
    "\n",
    "blit(parameter 1, parameter 2)\n",
    "- parameter 1: what you want to draw (text variable for instance).\n",
    "- parameter 2: where on Surfaceobject the parameter 1 surface should be drawn."
   ]
  },
  {
   "cell_type": "code",
   "execution_count": null,
   "id": "cd92c073-2b41-4cde-a77b-9570ea191029",
   "metadata": {
    "tags": []
   },
   "outputs": [],
   "source": [
    "## Draw the text\n",
    "# windowSurface.blit(text, textRect)"
   ]
  },
  {
   "cell_type": "code",
   "execution_count": null,
   "id": "e3cef1f4-7d3b-4250-a78f-6caafd50b3e4",
   "metadata": {},
   "outputs": [],
   "source": [
    "## Draw the block onto the surface\n",
    "# windowSurface.blit(playerStretchedImage, player)"
   ]
  },
  {
   "cell_type": "code",
   "execution_count": null,
   "id": "070244e8-c9b8-438c-ae25-541a1a1f4e33",
   "metadata": {},
   "outputs": [],
   "source": [
    "## Draw the food\n",
    "# for food in foods:\n",
    "#     windowSurface.blit(foodImage, food)\n",
    "# windowSurface.blit(foodImage, food)"
   ]
  },
  {
   "cell_type": "markdown",
   "id": "ffcce414-d7f6-4100-a5cb-e6033f16f8b2",
   "metadata": {},
   "source": [
    "### 4.7. Draw the windowSurface onto the screen\n",
    "\n",
    "In pygame, the window on the screen won't change when we call fill() and draw().\n",
    "Rather, these will change the Surface objects, and we have to render the new Surface object to the screen with the pygame.display.update() function."
   ]
  },
  {
   "cell_type": "code",
   "execution_count": null,
   "id": "aa144f30-60f7-4545-8ae9-eae6139cb314",
   "metadata": {
    "tags": []
   },
   "outputs": [],
   "source": [
    "## 7. Draw the windowSurface onto the screen\n",
    "# pygame.display.update()"
   ]
  },
  {
   "cell_type": "markdown",
   "id": "775c44c7-cb80-4af7-ba34-27212153659c",
   "metadata": {},
   "source": [
    "### 4.8. Run the game loop\n",
    "\n",
    "- Pygame programs are constantly running through a game loop, which executes every line of code in the loop about 100 times a second.\n",
    "- The game loop constantly checks for new events, updates the state of the window, and draws the window on the screen.\n",
    "- Events are generated by pygame whenever the user presses a key, clicks or moves the mouse, or performs some other action recognized by the program that should make something happen in the game."
   ]
  },
  {
   "cell_type": "markdown",
   "id": "77c02763-a074-4328-aed2-5a315a8819b9",
   "metadata": {},
   "source": [
    "#### event.get() function\n",
    "\n",
    "The function checks for any new pygame.event.Event objects that have been generated since the last call to pygame.event.get().\n",
    "- The events are returned as a list of Event objects, which the program will then execute to perform some action in response to the event.\n",
    "- Each event as a attribute called type that tell us the type of the event."
   ]
  },
  {
   "cell_type": "code",
   "execution_count": null,
   "id": "32453808-1461-429e-b068-f58cef326f47",
   "metadata": {
    "tags": []
   },
   "outputs": [],
   "source": [
    "## 8. Run the game loop\n",
    "# while True:\n",
    "#     for event in pygame.event.get():\n",
    "#         if event.type == QUIT:\n",
    "#             pygame.quit()\n",
    "#            sys.exit()"
   ]
  },
  {
   "cell_type": "markdown",
   "id": "35b9cb74-88cf-4350-ab2a-e677d77fc788",
   "metadata": {
    "tags": []
   },
   "source": [
    "## 5. Movement Methodology & Example\n",
    "\n",
    "### 5.1. Create the boxes\n",
    "\n",
    "Create an easily callable and modifiable dictionnary of variables"
   ]
  },
  {
   "cell_type": "code",
   "execution_count": null,
   "id": "d6587819-dc08-4675-8375-10d9f645e5ce",
   "metadata": {},
   "outputs": [],
   "source": [
    "## 5. Set up the box data structure\n",
    "# b1 = {'rect':pygame.Rect(300, 80, 50, 100), 'color':RED, 'dir':UPRIGHT}\n",
    "# b2 = {'rect':pygame.Rect(200, 200, 20, 20), 'color':GREEN, 'dir':UPLEFT}\n",
    "# b3 = {'rect':pygame.Rect(100, 150, 60, 60), 'color':BLUE, 'dir':DOWNLEFT}\n",
    "# boxes = [b1, b2, b3]"
   ]
  },
  {
   "cell_type": "markdown",
   "id": "58adaa77-55f6-422a-926f-104f4880889e",
   "metadata": {},
   "source": [
    "### 5.2. Move the boxes\n",
    "\n",
    "#### Movespeed\n",
    "\n",
    "We create a constant variable MOVESPEED to determine how fast the boxes should move, i.e. how many pixels each box should move on each interaction through the game loop.\n",
    "\n",
    "#### Moving the full data structure"
   ]
  },
  {
   "cell_type": "code",
   "execution_count": null,
   "id": "bce86e21-1f3d-42f1-87fc-30eeb219f854",
   "metadata": {},
   "outputs": [],
   "source": [
    "# if b['dir'] == DOWNLEFT:\n",
    "#     b['rect'].left -= MOVESPEED\n",
    "#     b['rect'].top += MOVESPEED\n",
    "# if b['dir'] == UPRIGHT:\n",
    "#     b['rect'].left += MOVESPEED\n",
    "#     b['rect'].top -= MOVESPEED"
   ]
  },
  {
   "cell_type": "markdown",
   "id": "800563b7-76ec-43cb-95a5-07a28ae7f44a",
   "metadata": {},
   "source": [
    "### 5.3. Bounce the boxes\n",
    "\n",
    "#### Checking whether the box has moved out of the window\n",
    "\n",
    "The box has moved past the top:"
   ]
  },
  {
   "cell_type": "code",
   "execution_count": null,
   "id": "184d9308-6ea6-4672-83f1-dd1ea080f361",
   "metadata": {},
   "outputs": [],
   "source": [
    "# if b['rect'].top < 0:\n",
    "#     if b['dir'] == UPLEFT:\n",
    "#         b['dir'] = DOWNLEFT\n",
    "#     if b['dir'] == UPRIGHT:\n",
    "#         b['dir'] = DOWNRIGHT"
   ]
  },
  {
   "cell_type": "markdown",
   "id": "3ab81c1c-a125-49a1-84ec-94f3085e0bf7",
   "metadata": {},
   "source": [
    "The box has moved past the bottom:"
   ]
  },
  {
   "cell_type": "code",
   "execution_count": null,
   "id": "baffc030-d786-4dfb-98ce-bbb8dd5ed804",
   "metadata": {},
   "outputs": [],
   "source": [
    "# if b['rect'].bottom > WINDOWHEIGHT:\n",
    "#     if b['dir'] == DOWNLEFT:\n",
    "#         b['dir'] = UPLEFT\n",
    "#     if b['dir'] == DOWNRIGHT:\n",
    "#        b['dir'] = UPRIGHT"
   ]
  },
  {
   "cell_type": "markdown",
   "id": "ce74bbc3-0059-49d4-b8bd-d791f0d0c707",
   "metadata": {},
   "source": [
    "The box has moved past the left side:"
   ]
  },
  {
   "cell_type": "code",
   "execution_count": null,
   "id": "ccfd949a-22b8-4a9b-a59f-143363b96495",
   "metadata": {},
   "outputs": [],
   "source": [
    "# if b['rect'].left < 0: \n",
    "#     if b['dir'] == DOWNLEFT:\n",
    "#         b['dir'] = DOWNRIGHT\n",
    "#     if b['dir'] == UPLEFT:\n",
    "#         b['dir'] = UPRIGHT"
   ]
  },
  {
   "cell_type": "markdown",
   "id": "70bbf0d0-d1d1-4b04-b8c1-9aad62f54257",
   "metadata": {
    "tags": []
   },
   "source": [
    "The box has moved past the right side:"
   ]
  },
  {
   "cell_type": "code",
   "execution_count": null,
   "id": "78031882-de2d-452c-bea6-6cb9c02e6049",
   "metadata": {},
   "outputs": [],
   "source": [
    "# if b['rect'].right > WINDOWWIDTH:\n",
    "#     if b['dir'] == DOWNRIGHT:\n",
    "#         b['dir'] = DOWNLEFT\n",
    "#     if b['dir'] == UPRIGHT:\n",
    "#         b['dir'] = UPLEFT"
   ]
  },
  {
   "cell_type": "markdown",
   "id": "91b4307e-b654-4586-9a0f-b5c352fd7297",
   "metadata": {},
   "source": [
    "### 5.4. Draw the boxes\n",
    "#### Draw the box onto the surface."
   ]
  },
  {
   "cell_type": "code",
   "execution_count": null,
   "id": "0e906319-1b3e-42d4-a6dd-e624aa674bfa",
   "metadata": {},
   "outputs": [],
   "source": [
    "# pygame.draw.rect(windowSurface, b['color'], b['rect'])"
   ]
  },
  {
   "cell_type": "markdown",
   "id": "cd26a16a-b478-410b-a19c-012af95d7776",
   "metadata": {},
   "source": [
    "#### Draw the window onto the screen"
   ]
  },
  {
   "cell_type": "code",
   "execution_count": null,
   "id": "f1f7b54b-de74-454c-8c89-2ebac70e7ffc",
   "metadata": {},
   "outputs": [],
   "source": [
    "# pygame.display.update()"
   ]
  },
  {
   "cell_type": "markdown",
   "id": "e1a11008-3ba7-4ae4-9526-0e64ee89319a",
   "metadata": {},
   "source": [
    "#### sleep() method\n",
    "\n",
    "We need the program to run slowly enough that we can see what it boxes look like."
   ]
  },
  {
   "cell_type": "code",
   "execution_count": null,
   "id": "afe62179-7def-4a1d-8f7d-0f18e23ebc43",
   "metadata": {},
   "outputs": [],
   "source": [
    "# time.sleep(0.02)"
   ]
  },
  {
   "cell_type": "markdown",
   "id": "54e7ebc9-5b38-4e2d-875d-a18da29c2d7e",
   "metadata": {},
   "source": [
    "### 5.5. Application"
   ]
  },
  {
   "cell_type": "code",
   "execution_count": 4,
   "id": "8f62b47e-75e7-476d-969b-9151982bba2f",
   "metadata": {},
   "outputs": [
    {
     "ename": "SystemExit",
     "evalue": "",
     "output_type": "error",
     "traceback": [
      "An exception has occurred, use %tb to see the full traceback.\n",
      "\u001b[1;31mSystemExit\u001b[0m\n"
     ]
    }
   ],
   "source": [
    "# 1. Import pygame Module\n",
    "import pygame, sys, time\n",
    "from pygame.locals import *\n",
    "\n",
    "# 2. Initialise pygame\n",
    "pygame.init()\n",
    "\n",
    "# 3. Set up windowSurface\n",
    "# Size\n",
    "WINDOWWIDTH = 400\n",
    "WINDOWHEIGHT = 400\n",
    "windowSurface = pygame.display.set_mode((WINDOWWIDTH, WINDOWHEIGHT), 0, 32)\n",
    "# Caption\n",
    "pygame.display.set_caption('Animation')\n",
    "\n",
    "# 4. Appoint the variables\n",
    "# Direction\n",
    "DOWNLEFT = 'downleft'\n",
    "DOWNRIGHT = 'downright'\n",
    "UPLEFT = 'upleft'\n",
    "UPRIGHT = 'upright'\n",
    "# Speed\n",
    "MOVESPEED = 4\n",
    "# Color\n",
    "WHITE = (255, 255, 255)\n",
    "RED = (255, 0, 0)\n",
    "GREEN = (0, 255, 0)\n",
    "BLUE = (0, 0, 255)\n",
    "\n",
    "# 5. Set up the box data structure\n",
    "b1 = {'rect':pygame.Rect(300, 80, 50, 100), 'color':RED, 'dir':UPRIGHT}\n",
    "b2 = {'rect':pygame.Rect(200, 200, 20, 20), 'color':GREEN, 'dir':UPLEFT}\n",
    "b3 = {'rect':pygame.Rect(100, 150, 60, 60), 'color':BLUE, 'dir':DOWNLEFT}\n",
    "boxes = [b1, b2, b3]\n",
    "\n",
    "# 6. Run the game loop\n",
    "while True:\n",
    "    # Check for quit event\n",
    "    for event in pygame.event.get():\n",
    "        if event.type == QUIT:\n",
    "            pygame.quit()\n",
    "            sys.exit()\n",
    "\n",
    "    # Draw the white background onto the surface\n",
    "    windowSurface.fill(WHITE)\n",
    "\n",
    "    for b in boxes:\n",
    "        # Move the boxes\n",
    "        if b['dir'] == DOWNLEFT:\n",
    "            b['rect'].left -= MOVESPEED\n",
    "            b['rect'].top += MOVESPEED\n",
    "        if b['dir'] == DOWNRIGHT:\n",
    "            b['rect'].left += MOVESPEED\n",
    "            b['rect'].top += MOVESPEED\n",
    "        if b['dir'] == UPLEFT:\n",
    "            b['rect'].left -= MOVESPEED\n",
    "            b['rect'].top -= MOVESPEED\n",
    "        if b['dir'] == UPRIGHT:\n",
    "            b['rect'].left += MOVESPEED\n",
    "            b['rect'].top -= MOVESPEED\n",
    "\n",
    "        # Bounce the boxes by checking whether the box has moved out of the window.\n",
    "        if b['rect'].top < 0:\n",
    "            # The box has moved past the top.\n",
    "            if b['dir'] == UPLEFT:\n",
    "                b['dir'] = DOWNLEFT\n",
    "            if b['dir'] == UPRIGHT:\n",
    "                b['dir'] = DOWNRIGHT\n",
    "        if b['rect'].bottom > WINDOWHEIGHT:\n",
    "            # The box has moved past the bottom.\n",
    "            if b['dir'] == DOWNLEFT:\n",
    "                b['dir'] = UPLEFT\n",
    "            if b['dir'] == DOWNRIGHT:\n",
    "                b['dir'] = UPRIGHT\n",
    "        if b['rect'].left < 0:\n",
    "            # The box has moved past the left side.\n",
    "            if b['dir'] == DOWNLEFT:\n",
    "                b['dir'] = DOWNRIGHT\n",
    "            if b['dir'] == UPLEFT:\n",
    "                b['dir'] = UPRIGHT\n",
    "        if b['rect'].right > WINDOWWIDTH:\n",
    "            # The box has moved past the right side.\n",
    "            if b['dir'] == DOWNRIGHT:\n",
    "                b['dir'] = DOWNLEFT\n",
    "            if b['dir'] == UPRIGHT:\n",
    "                b['dir'] = UPLEFT\n",
    "\n",
    "        # Draw the box onto the surface.\n",
    "        pygame.draw.rect(windowSurface, b['color'], b['rect'])\n",
    "\n",
    "    # Draw the window onto the screen\n",
    "    pygame.display.update()\n",
    "    time.sleep(0.02)"
   ]
  },
  {
   "cell_type": "markdown",
   "id": "3ba3e41b-6fbe-4f3a-b876-c3af8821733d",
   "metadata": {},
   "source": [
    "## 6. Collision Detection Methodology & Example\n",
    "\n",
    "Collision detection can help determine whether:\n",
    "- an enemy has touched the player's character and makes it lose health\n",
    "- the player's character has touched a coin and it gras it\n",
    "- the player's character is standing on solid ground or there's nothing but empty air beneath them\n",
    "\n",
    "### 6.1. Clock Pacing\n",
    "\n",
    "#### time.Clock() function\n",
    "\n",
    "Function that pauses longer on fast computers and shorter on slow computers in order to get our program to run at the smae speed on any computer.\n",
    "The pygame.time.Clock object can pause an appropriate amount of time on any computer."
   ]
  },
  {
   "cell_type": "code",
   "execution_count": null,
   "id": "1a0f0f25-9605-4e9c-899a-e2a3ce16166b",
   "metadata": {},
   "outputs": [],
   "source": [
    "# mainClock = pygame.time.Clock()"
   ]
  },
  {
   "cell_type": "markdown",
   "id": "c5d2999e-94cc-437f-9eef-d0b858d7ff5a",
   "metadata": {},
   "source": [
    "#### tick() method\n",
    "\n",
    "Method that waits enough time so that it runs at about 40 iteractions a second, no matter what the computer's speed is.\n",
    "The program will never run faster than expected."
   ]
  },
  {
   "cell_type": "code",
   "execution_count": null,
   "id": "a26d0b0d-bde3-4d67-882e-6112acc76046",
   "metadata": {},
   "outputs": [],
   "source": [
    "# mainClock.tick(40)"
   ]
  },
  {
   "cell_type": "markdown",
   "id": "e2df17d3-2380-4370-abdc-c8c8b92736cd",
   "metadata": {
    "tags": []
   },
   "source": [
    "### 6.2. Checking for events"
   ]
  },
  {
   "cell_type": "markdown",
   "id": "32c1d52b-e820-433d-8ed5-f0784b684ed3",
   "metadata": {},
   "source": [
    "#### QUIT\n",
    "\n",
    "Generated when the player closes the window."
   ]
  },
  {
   "cell_type": "code",
   "execution_count": null,
   "id": "746d0444-4888-4c2b-b41c-139ba21bf4bb",
   "metadata": {},
   "outputs": [],
   "source": [
    "# event.type == QUIT"
   ]
  },
  {
   "cell_type": "markdown",
   "id": "605929cd-1047-4489-98ad-f998120513cf",
   "metadata": {},
   "source": [
    "#### KEYDOWN\n",
    "\n",
    "Generated when the player presses a key.\n",
    "- Key attribute: tells which key was pressed.\n",
    "    - Left direction: K_LEFT or K_a\n",
    "    - Right direction: K_RIGHT or K_d\n",
    "    - Up direction: K_UP or K_w\n",
    "    - Down direction: K_DOWN or K_s\n",
    "    - '''\n",
    "- Mode attribute: tells whether the SHIFT, CTRL, ALT, or other keys were held down when this key was pressed."
   ]
  },
  {
   "cell_type": "code",
   "execution_count": null,
   "id": "7c10c51a-ab2f-452a-a971-e11f6f1847fe",
   "metadata": {},
   "outputs": [],
   "source": [
    "# event.type == KEYDOWN"
   ]
  },
  {
   "cell_type": "markdown",
   "id": "96184c5c-18c6-48b7-aff2-799471875782",
   "metadata": {
    "tags": []
   },
   "source": [
    "#### KEYUP\n",
    "\n",
    "Generated when the player releases a key.\n",
    "- Same attributes as KEYDOWN"
   ]
  },
  {
   "cell_type": "code",
   "execution_count": null,
   "id": "6bbf87ed-41de-4823-a99f-00a74ee7e03d",
   "metadata": {},
   "outputs": [],
   "source": [
    "# event.type == KEYUP"
   ]
  },
  {
   "cell_type": "markdown",
   "id": "66f8c947-6a4a-46d3-907c-9febb9fbe791",
   "metadata": {},
   "source": [
    "#### MOUSEMOTION\n",
    "\n",
    "Generared whenever the mouve moves over the window.\n",
    "- pos attribute: returns a (x,y) tuple for the coordinates of where the mouse is in the window.\n",
    "- rel attribute: returns a (x,y) tuple for the relative coordinates since the last MOUSEMOTION event.\n"
   ]
  },
  {
   "cell_type": "code",
   "execution_count": null,
   "id": "189e9d13-6fdd-4bc9-bca3-b8f5a28c0464",
   "metadata": {},
   "outputs": [],
   "source": [
    "# event.type == MOUSEMOTION"
   ]
  },
  {
   "cell_type": "markdown",
   "id": "36f2b773-9a7f-4a5f-b45b-e7336f64c03c",
   "metadata": {},
   "source": [
    "#### MOUSEBUTTONDOWN\n",
    "\n",
    "Generated when a mouse button is pressed in the window.\n",
    "- pos attribute: returns a (x,y) tuple for the coordinates of where the mouse was positioned in the window when the button was pressed\n",
    "- button attribute: integer 1 to 5\n",
    "    - 1 = Left button\n",
    "    - 2 = Middle button\n",
    "    - 3 = Right button\n",
    "    - 4 = Scroll wheel moved up\n",
    "    - 5 = Scroll wheel moved down"
   ]
  },
  {
   "cell_type": "code",
   "execution_count": null,
   "id": "809ea4ee-8e7e-46c8-8eab-c7c8ce9b5d65",
   "metadata": {},
   "outputs": [],
   "source": [
    "# event.type == MOUSEBUTTONDOWN"
   ]
  },
  {
   "cell_type": "markdown",
   "id": "24f09ffd-ff2c-47c5-b68e-b53e67799b7c",
   "metadata": {},
   "source": [
    "#### MOUSEBUTTONUP\n",
    "\n",
    "Generated when the mouse button is released.\n",
    "- Sakes attributes as MOUSEBUTTONUP."
   ]
  },
  {
   "cell_type": "code",
   "execution_count": null,
   "id": "a8ec120e-a22a-45a1-a688-f387c6b1c9aa",
   "metadata": {},
   "outputs": [],
   "source": [
    "# event.type == MOUSEBUTTONUP"
   ]
  },
  {
   "cell_type": "markdown",
   "id": "fe233fe5-de48-4b06-ad22-516a9f1e1d95",
   "metadata": {
    "tags": []
   },
   "source": [
    "### 6.3. Collision course\n",
    "\n",
    "#### Do not change a list while iterating over it\n",
    "\n",
    "foods[:] gives us a copy of the list with the items from the start to the end.\n",
    "\n",
    "This is faster that creating a getFoodlistCopy function."
   ]
  },
  {
   "cell_type": "code",
   "execution_count": null,
   "id": "12a0709d-e7f7-46d9-874b-7e5bdede6d74",
   "metadata": {},
   "outputs": [],
   "source": [
    "# for food in foods[:]:\n",
    "#     if player.colliderect(food):\n",
    "#        foods.remove(food)"
   ]
  },
  {
   "cell_type": "markdown",
   "id": "4e7819be-363d-4223-b584-ded5109aa82c",
   "metadata": {},
   "source": [
    "#### colliderect() method\n",
    "\n",
    "Method attached to the Rect object that returns True if the two rectangles collide and False if they don't."
   ]
  },
  {
   "cell_type": "code",
   "execution_count": null,
   "id": "3459e769-615a-4138-ba26-df5f12efac00",
   "metadata": {},
   "outputs": [],
   "source": [
    "# player.colliderect(food)"
   ]
  },
  {
   "cell_type": "markdown",
   "id": "030358c0-a631-4840-aaf7-c57dcf2e1289",
   "metadata": {
    "tags": []
   },
   "source": [
    "## 7. Using sound and images"
   ]
  },
  {
   "cell_type": "markdown",
   "id": "b484f4f8-02ee-4221-9a23-2d12a71f1b09",
   "metadata": {},
   "source": [
    "### 7.1. Music & Sound\n",
    "\n",
    "#### mixer.Sound() function\n",
    "\n",
    "This constructor function creates a pygame.mixer.Sound object to highlight an event."
   ]
  },
  {
   "cell_type": "code",
   "execution_count": null,
   "id": "113b3784-08b6-4281-b80b-515f99d8285a",
   "metadata": {},
   "outputs": [],
   "source": [
    "# pickUpSound = pygame.mixer.Sound('pickup.wav')"
   ]
  },
  {
   "cell_type": "markdown",
   "id": "1b01f260-052c-4965-9577-0602e7df6e70",
   "metadata": {
    "tags": []
   },
   "source": [
    "#### mixer.Sound.play() method\n",
    "\n",
    "This method plays the event sound effect when called."
   ]
  },
  {
   "cell_type": "code",
   "execution_count": null,
   "id": "65f669cb-831e-4c31-91fe-e9834d9c1a03",
   "metadata": {},
   "outputs": [],
   "source": [
    "# pickUpSound.play()"
   ]
  },
  {
   "cell_type": "markdown",
   "id": "9194df72-da04-4a78-8546-98cff225faf5",
   "metadata": {},
   "source": [
    "#### mixer.music.load() method\n",
    "\n",
    "This method loads the background music."
   ]
  },
  {
   "cell_type": "code",
   "execution_count": null,
   "id": "55816845-a4f3-4cb7-ba33-c49e9b803bad",
   "metadata": {},
   "outputs": [],
   "source": [
    "# pygame.mixer.music.load('background.mid')"
   ]
  },
  {
   "cell_type": "markdown",
   "id": "38c147c0-954d-4f72-9835-0dc8916dea21",
   "metadata": {},
   "source": [
    "#### mixer.music.play() method\n",
    "\n",
    "This method starts playing the backgorund music.\n",
    "\n",
    "mixer.music.play(parameter 1, parameter 2)\n",
    "- parameter 1: how many times to play the backgrounf music after the first time we play it.\n",
    "    - (5): the background music will be played 6 times\n",
    "    - (-1): the background music will be repeat forever.\n",
    "- parameter 2: point in the sound file top start playing in seconds.\n",
    "    - (0.0): shall start at the beginning"
   ]
  },
  {
   "cell_type": "code",
   "execution_count": null,
   "id": "7561407e-d30c-48b1-87f7-e28c3d91645c",
   "metadata": {},
   "outputs": [],
   "source": [
    "# pygame.mixer.music.play(-1, 0.0)"
   ]
  },
  {
   "cell_type": "markdown",
   "id": "78605b86-14bf-4d7c-87dd-5e063eff09be",
   "metadata": {},
   "source": [
    "#### mixer.music.stop()\n",
    "\n",
    "This method stop the music playing."
   ]
  },
  {
   "cell_type": "code",
   "execution_count": null,
   "id": "9c367b8d-8f1c-4f7b-a75f-96885436b598",
   "metadata": {},
   "outputs": [],
   "source": [
    "# if event.key == K_m:\n",
    "#     if musicPlaying:\n",
    "#         pygame.mixer.music.stop()\n",
    "#     else:\n",
    "#         pygame.mixer.music.play(-1, 0.0)\n",
    "#     musicPlaying = not musicPlaying    "
   ]
  },
  {
   "cell_type": "markdown",
   "id": "20062aa9-57d4-4f28-925d-3e792f1405f6",
   "metadata": {},
   "source": [
    "### 7.2. Sprite\n",
    "\n",
    "A Sprite in an image.\n",
    "\n",
    "#### image.load() function\n",
    "\n",
    "Function that loads an image into a surface object."
   ]
  },
  {
   "cell_type": "code",
   "execution_count": null,
   "id": "b83143ff-d068-46c9-babe-3f29417b297b",
   "metadata": {},
   "outputs": [],
   "source": [
    "# playerImage = pygame.image.load('player.png')\n",
    "# foodImage = pygame.image.load('cherry.png')"
   ]
  },
  {
   "cell_type": "markdown",
   "id": "dbceb0f0-a6b2-4f0f-83ef-cba786fb5195",
   "metadata": {},
   "source": [
    "#### transform.scale() method\n",
    "\n",
    "Method that shrinks or enlarges the sprite into the desired scale."
   ]
  },
  {
   "cell_type": "code",
   "execution_count": null,
   "id": "57d6b961-d2c6-4ff5-a15a-eb0849173eba",
   "metadata": {},
   "outputs": [],
   "source": [
    "# playerStretchedImage = pygame.transform.scale(playerImage, (40, 40))\n",
    "# playerStretchedImage = pygame.transform.scale(playerImage, (player.width, player.height))"
   ]
  }
 ],
 "metadata": {
  "kernelspec": {
   "display_name": "Python 3 (ipykernel)",
   "language": "python",
   "name": "python3"
  },
  "language_info": {
   "codemirror_mode": {
    "name": "ipython",
    "version": 3
   },
   "file_extension": ".py",
   "mimetype": "text/x-python",
   "name": "python",
   "nbconvert_exporter": "python",
   "pygments_lexer": "ipython3",
   "version": "3.11.2"
  }
 },
 "nbformat": 4,
 "nbformat_minor": 5
}
