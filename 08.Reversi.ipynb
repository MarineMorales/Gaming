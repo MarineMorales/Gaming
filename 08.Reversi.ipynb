{
 "cells": [
  {
   "cell_type": "markdown",
   "id": "bb9bd774-04e1-4d70-951d-b62dc655c4d0",
   "metadata": {},
   "source": [
    "# Game: Reversi"
   ]
  },
  {
   "cell_type": "markdown",
   "id": "3f762a07-5ce2-45c8-878d-48fc5219bf6b",
   "metadata": {
    "tags": []
   },
   "source": [
    "## 1. Rules"
   ]
  },
  {
   "cell_type": "markdown",
   "id": "ca618903-ff42-494d-8c2d-81f6fbb195bd",
   "metadata": {
    "tags": []
   },
   "source": [
    "This two-player board game is played on a grid, so we'll use a Cartesian coordinate system with x- and y-coordinates. We will incorporate an AI."
   ]
  },
  {
   "cell_type": "markdown",
   "id": "21aeb0cc-4612-421c-b8fd-722c944e1a6a",
   "metadata": {},
   "source": [
    "## 2. Flowchart"
   ]
  },
  {
   "cell_type": "markdown",
   "id": "43d40bac-5a77-4d03-ab0a-7d9dd04a4206",
   "metadata": {},
   "source": [
    "Below, we will only design the flow chart of the first mode of the game where the player is offered to play against the AI computer."
   ]
  },
  {
   "cell_type": "code",
   "execution_count": 1,
   "id": "7929ca97-900b-4c53-ae6f-0584fd46a464",
   "metadata": {},
   "outputs": [],
   "source": [
    "from graphviz import Digraph"
   ]
  },
  {
   "cell_type": "code",
   "execution_count": 2,
   "id": "cc69a6fd-a032-4082-b97f-dbdcf82f0d5b",
   "metadata": {},
   "outputs": [],
   "source": [
    "dot = Digraph(comment='Reversi Flowchart')\n",
    "\n",
    "dot.node('START', 'START', shape='oval', style='filled', fillcolor='grey')\n",
    "dot.node(\"Ask for Player's tile\", \"Ask for \\n Player's tile\")\n",
    "dot.node('Decide who Goes First', 'Decide who \\n Goes First')\n",
    "\n",
    "dot.node('Check if Stalemate', 'Check if \\n Stalemate', style='filled', fillcolor='white')\n",
    "dot.node('Check Score', 'Check \\n Score', style='filled', fillcolor='white')\n",
    "player_wins = Digraph('Player wins', node_attr={'shape': 'doublecircle', 'color': 'green', 'style': 'filled', 'fillcolor': 'white'})\n",
    "player_wins.node('Win','Win')\n",
    "dot.subgraph(player_wins)\n",
    "nobody_wins = Digraph('Nobody wins', node_attr={'shape': 'doublecircle', 'color': 'blue', 'style': 'filled', 'fillcolor': 'white'})\n",
    "nobody_wins.node('Tie','Tie')\n",
    "dot.subgraph(nobody_wins)\n",
    "computer_wins = Digraph('Computer wins', node_attr={'shape': 'doublecircle', 'color': 'red', 'style': 'filled', 'fillcolor': 'white'})\n",
    "computer_wins.node('Lose','Lose')\n",
    "dot.subgraph(computer_wins)\n",
    "\n",
    "dot.node('Who\\'s turn?', 'Who\\'s turn?', style='filled', fillcolor='white')\n",
    "dot.node('Check if Hint requested', 'Check if \\n Hint \\n requested', style='filled', fillcolor='white')\n",
    "dot.node('Display Board with Valid Moves', 'Display \\n board with \\n Valid Moves', style='filled', fillcolor='white')\n",
    "dot.node('Display Board_p', 'Display Board', style='filled', fillcolor='white')\n",
    "dot.node(\"Ask for Player's Move\", \"Ask for Player's Move\", style='filled', fillcolor='white')\n",
    "dot.node('Display Board_c', 'Display Board', style='filled', fillcolor='white')\n",
    "dot.node(\"Get Computer's Best Move\", \"Get Computer's \\n Best Move\", style='filled', fillcolor='white')\n",
    "\n",
    "dot.node('Play Again?', 'Play Again?', style='filled', fillcolor='white')\n",
    "dot.node('END', 'END', shape='oval', style='filled', fillcolor='grey')"
   ]
  },
  {
   "cell_type": "code",
   "execution_count": 3,
   "id": "eddfbbf0-5ed6-4b3f-93e1-be56a34d6094",
   "metadata": {},
   "outputs": [],
   "source": [
    "dot.edge('START', \"Ask for Player's tile\")\n",
    "dot.edge(\"Ask for Player's tile\", 'Decide who Goes First')\n",
    "dot.edge('Decide who Goes First', 'Check if Stalemate')\n",
    "\n",
    "with dot.subgraph(name=\"cluster_stalemate\") as s:\n",
    "    s.attr(style='filled', color='lightgrey')\n",
    "    s.edge('Check if Stalemate', 'Check Score', label='No more \\n valid moves left')\n",
    "    s.edge('Check Score', 'Win', label='Player \\n wins')\n",
    "    s.edge('Check Score', 'Tie', label='It\\'s a tie')\n",
    "    s.edge('Check Score', 'Lose', label='Computer \\n wins')\n",
    "    s.attr(label='Check Winning Condition')\n",
    "    \n",
    "dot.edge('Check if Stalemate', 'Who\\'s turn?', label='Valid moves \\n still remaining')\n",
    "\n",
    "dot.edge('Who\\'s turn?', 'Check if Hint requested')\n",
    "with dot.subgraph(name=\"cluster_player\") as p:\n",
    "    p.attr(style='filled', color='lightgrey')\n",
    "    p.edge('Check if Hint requested', 'Display Board with Valid Moves', label='Yes')\n",
    "    p.edge('Display Board with Valid Moves', \"Ask for Player's Move\")\n",
    "    p.edge('Check if Hint requested', 'Display Board_p', label='No')\n",
    "    p.edge('Display Board_p', \"Ask for Player's Move\")\n",
    "    \n",
    "    p.edge(\"Ask for Player's Move\", 'Display Board with Valid Moves', label='Move = hint')\n",
    "    p.edge(\"Ask for Player's Move\", 'Check if Stalemate', label='Move = xy')\n",
    "    p.attr(label=\"Player's Turn\")\n",
    "    \n",
    "dot.edge('Who\\'s turn?', 'Display Board_c')\n",
    "with dot.subgraph(name=\"cluster_computer\") as c:\n",
    "    c.attr(style='filled', color='lightgrey')\n",
    "    c.edge('Display Board_c', \"Get Computer's Best Move\")\n",
    "    c.edge(\"Get Computer's Best Move\", \"Check if Stalemate\")\n",
    "    c.attr(label=\"Computer's Turn\")\n",
    "\n",
    "dot.edge(\"Ask for Player's Move\", 'END', label='Move = quit')\n",
    "dot.edge('Win', 'Play Again?')\n",
    "dot.edge('Tie', 'Play Again?')\n",
    "dot.edge('Lose', 'Play Again?')\n",
    "dot.edge('Play Again?', 'Decide who Goes First', label='Yes')\n",
    "dot.edge('Play Again?', 'END', label='No')"
   ]
  },
  {
   "cell_type": "markdown",
   "id": "cd3a09ed-efc6-4c4e-87e6-fd8a81a4fee5",
   "metadata": {},
   "source": [
    "### MODE 1"
   ]
  },
  {
   "cell_type": "code",
   "execution_count": 4,
   "id": "006bdffc-c75e-4a0b-801e-3c98785bd73c",
   "metadata": {
    "tags": []
   },
   "outputs": [
    {
     "data": {
      "image/svg+xml": [
       "<?xml version=\"1.0\" encoding=\"UTF-8\" standalone=\"no\"?>\n",
       "<!DOCTYPE svg PUBLIC \"-//W3C//DTD SVG 1.1//EN\"\n",
       " \"http://www.w3.org/Graphics/SVG/1.1/DTD/svg11.dtd\">\n",
       "<!-- Generated by graphviz version 7.1.0 (20230121.1956)\n",
       " -->\n",
       "<!-- Pages: 1 -->\n",
       "<svg width=\"711pt\" height=\"890pt\"\n",
       " viewBox=\"0.00 0.00 710.69 890.06\" xmlns=\"http://www.w3.org/2000/svg\" xmlns:xlink=\"http://www.w3.org/1999/xlink\">\n",
       "<g id=\"graph0\" class=\"graph\" transform=\"scale(1 1) rotate(0) translate(4 886.06)\">\n",
       "<polygon fill=\"white\" stroke=\"none\" points=\"-4,4 -4,-886.06 706.69,-886.06 706.69,4 -4,4\"/>\n",
       "<g id=\"clust4\" class=\"cluster\">\n",
       "<title>cluster_stalemate</title>\n",
       "<polygon fill=\"lightgrey\" stroke=\"lightgrey\" points=\"165.69,-187.48 165.69,-531.16 396.69,-531.16 396.69,-187.48 165.69,-187.48\"/>\n",
       "<text text-anchor=\"middle\" x=\"281.19\" y=\"-515.96\" font-family=\"Times New Roman,serif\" font-size=\"14.00\">Check Winning Condition</text>\n",
       "</g>\n",
       "<g id=\"clust6\" class=\"cluster\">\n",
       "<title>cluster_computer</title>\n",
       "<polygon fill=\"lightgrey\" stroke=\"lightgrey\" points=\"118.69,-574.76 118.69,-799.59 290.69,-799.59 290.69,-574.76 118.69,-574.76\"/>\n",
       "<text text-anchor=\"middle\" x=\"204.69\" y=\"-784.39\" font-family=\"Times New Roman,serif\" font-size=\"14.00\">Computer&#39;s Turn</text>\n",
       "</g>\n",
       "<g id=\"clust5\" class=\"cluster\">\n",
       "<title>cluster_player</title>\n",
       "<polygon fill=\"lightgrey\" stroke=\"lightgrey\" points=\"404.69,-447.29 404.69,-819.06 694.69,-819.06 694.69,-447.29 404.69,-447.29\"/>\n",
       "<text text-anchor=\"middle\" x=\"549.69\" y=\"-803.86\" font-family=\"Times New Roman,serif\" font-size=\"14.00\">Player&#39;s Turn</text>\n",
       "</g>\n",
       "<!-- START -->\n",
       "<g id=\"node1\" class=\"node\">\n",
       "<title>START</title>\n",
       "<ellipse fill=\"grey\" stroke=\"black\" cx=\"58.69\" cy=\"-228.08\" rx=\"40.09\" ry=\"18\"/>\n",
       "<text text-anchor=\"middle\" x=\"58.69\" y=\"-224.38\" font-family=\"Times New Roman,serif\" font-size=\"14.00\">START</text>\n",
       "</g>\n",
       "<!-- Ask for Player&#39;s tile -->\n",
       "<g id=\"node2\" class=\"node\">\n",
       "<title>Ask for Player&#39;s tile</title>\n",
       "<ellipse fill=\"none\" stroke=\"black\" cx=\"58.69\" cy=\"-131.61\" rx=\"58.88\" ry=\"26.74\"/>\n",
       "<text text-anchor=\"middle\" x=\"58.69\" y=\"-135.41\" font-family=\"Times New Roman,serif\" font-size=\"14.00\">Ask for </text>\n",
       "<text text-anchor=\"middle\" x=\"58.69\" y=\"-120.41\" font-family=\"Times New Roman,serif\" font-size=\"14.00\"> Player&#39;s tile</text>\n",
       "</g>\n",
       "<!-- START&#45;&gt;Ask for Player&#39;s tile -->\n",
       "<g id=\"edge1\" class=\"edge\">\n",
       "<title>START&#45;&gt;Ask for Player&#39;s tile</title>\n",
       "<path fill=\"none\" stroke=\"black\" d=\"M58.69,-209.75C58.69,-198.6 58.69,-183.67 58.69,-169.91\"/>\n",
       "<polygon fill=\"black\" stroke=\"black\" points=\"62.19,-170.26 58.69,-160.26 55.19,-170.26 62.19,-170.26\"/>\n",
       "</g>\n",
       "<!-- Decide who Goes First -->\n",
       "<g id=\"node3\" class=\"node\">\n",
       "<title>Decide who Goes First</title>\n",
       "<ellipse fill=\"none\" stroke=\"black\" cx=\"145.69\" cy=\"-26.87\" rx=\"61.54\" ry=\"26.74\"/>\n",
       "<text text-anchor=\"middle\" x=\"145.69\" y=\"-30.67\" font-family=\"Times New Roman,serif\" font-size=\"14.00\">Decide who </text>\n",
       "<text text-anchor=\"middle\" x=\"145.69\" y=\"-15.67\" font-family=\"Times New Roman,serif\" font-size=\"14.00\"> Goes First</text>\n",
       "</g>\n",
       "<!-- Ask for Player&#39;s tile&#45;&gt;Decide who Goes First -->\n",
       "<g id=\"edge2\" class=\"edge\">\n",
       "<title>Ask for Player&#39;s tile&#45;&gt;Decide who Goes First</title>\n",
       "<path fill=\"none\" stroke=\"black\" d=\"M79.31,-106.26C90.82,-92.67 105.31,-75.55 117.82,-60.78\"/>\n",
       "<polygon fill=\"black\" stroke=\"black\" points=\"120.15,-63.45 123.94,-53.55 114.81,-58.92 120.15,-63.45\"/>\n",
       "</g>\n",
       "<!-- Check if Stalemate -->\n",
       "<g id=\"node4\" class=\"node\">\n",
       "<title>Check if Stalemate</title>\n",
       "<ellipse fill=\"white\" stroke=\"black\" cx=\"260.69\" cy=\"-473.29\" rx=\"52.15\" ry=\"26.74\"/>\n",
       "<text text-anchor=\"middle\" x=\"260.69\" y=\"-477.09\" font-family=\"Times New Roman,serif\" font-size=\"14.00\">Check if </text>\n",
       "<text text-anchor=\"middle\" x=\"260.69\" y=\"-462.09\" font-family=\"Times New Roman,serif\" font-size=\"14.00\"> Stalemate</text>\n",
       "</g>\n",
       "<!-- Decide who Goes First&#45;&gt;Check if Stalemate -->\n",
       "<g id=\"edge3\" class=\"edge\">\n",
       "<title>Decide who Goes First&#45;&gt;Check if Stalemate</title>\n",
       "<path fill=\"none\" stroke=\"black\" d=\"M145.69,-54.05C145.69,-74.81 145.69,-104.57 145.69,-130.61 145.69,-354.55 145.69,-354.55 145.69,-354.55 145.69,-395.72 182.12,-427.84 213.98,-448.06\"/>\n",
       "<polygon fill=\"black\" stroke=\"black\" points=\"212.01,-450.96 222.38,-453.17 215.65,-444.98 212.01,-450.96\"/>\n",
       "</g>\n",
       "<!-- Check Score -->\n",
       "<g id=\"node5\" class=\"node\">\n",
       "<title>Check Score</title>\n",
       "<ellipse fill=\"white\" stroke=\"black\" cx=\"260.69\" cy=\"-353.55\" rx=\"39.7\" ry=\"26.74\"/>\n",
       "<text text-anchor=\"middle\" x=\"260.69\" y=\"-357.35\" font-family=\"Times New Roman,serif\" font-size=\"14.00\">Check </text>\n",
       "<text text-anchor=\"middle\" x=\"260.69\" y=\"-342.35\" font-family=\"Times New Roman,serif\" font-size=\"14.00\"> Score</text>\n",
       "</g>\n",
       "<!-- Check if Stalemate&#45;&gt;Check Score -->\n",
       "<g id=\"edge4\" class=\"edge\">\n",
       "<title>Check if Stalemate&#45;&gt;Check Score</title>\n",
       "<path fill=\"none\" stroke=\"black\" d=\"M260.69,-446.15C260.69,-430.23 260.69,-409.61 260.69,-391.97\"/>\n",
       "<polygon fill=\"black\" stroke=\"black\" points=\"264.19,-392.12 260.69,-382.12 257.19,-392.12 264.19,-392.12\"/>\n",
       "<text text-anchor=\"middle\" x=\"306.69\" y=\"-417.22\" font-family=\"Times New Roman,serif\" font-size=\"14.00\">No more </text>\n",
       "<text text-anchor=\"middle\" x=\"306.69\" y=\"-402.22\" font-family=\"Times New Roman,serif\" font-size=\"14.00\"> valid moves left</text>\n",
       "</g>\n",
       "<!-- Who&#39;s turn? -->\n",
       "<g id=\"node9\" class=\"node\">\n",
       "<title>Who&#39;s turn?</title>\n",
       "<ellipse fill=\"white\" stroke=\"black\" cx=\"316.69\" cy=\"-864.06\" rx=\"55.49\" ry=\"18\"/>\n",
       "<text text-anchor=\"middle\" x=\"316.69\" y=\"-860.36\" font-family=\"Times New Roman,serif\" font-size=\"14.00\">Who&#39;s turn?</text>\n",
       "</g>\n",
       "<!-- Check if Stalemate&#45;&gt;Who&#39;s turn? -->\n",
       "<g id=\"edge8\" class=\"edge\">\n",
       "<title>Check if Stalemate&#45;&gt;Who&#39;s turn?</title>\n",
       "<path fill=\"none\" stroke=\"black\" d=\"M271.49,-499.53C279.32,-519 289.42,-546.8 294.69,-572.16 314.35,-666.73 316.92,-781.84 316.96,-834.4\"/>\n",
       "<polygon fill=\"black\" stroke=\"black\" points=\"313.46,-834.27 316.93,-844.28 320.46,-834.29 313.46,-834.27\"/>\n",
       "<text text-anchor=\"middle\" x=\"350.69\" y=\"-683.91\" font-family=\"Times New Roman,serif\" font-size=\"14.00\">Valid moves </text>\n",
       "<text text-anchor=\"middle\" x=\"350.69\" y=\"-668.91\" font-family=\"Times New Roman,serif\" font-size=\"14.00\"> still remaining</text>\n",
       "</g>\n",
       "<!-- Win -->\n",
       "<g id=\"node6\" class=\"node\">\n",
       "<title>Win</title>\n",
       "<ellipse fill=\"white\" stroke=\"green\" cx=\"203.69\" cy=\"-228.08\" rx=\"26\" ry=\"26\"/>\n",
       "<ellipse fill=\"none\" stroke=\"green\" cx=\"203.69\" cy=\"-228.08\" rx=\"30\" ry=\"30\"/>\n",
       "<text text-anchor=\"middle\" x=\"203.69\" y=\"-224.38\" font-family=\"Times New Roman,serif\" font-size=\"14.00\">Win</text>\n",
       "</g>\n",
       "<!-- Check Score&#45;&gt;Win -->\n",
       "<g id=\"edge5\" class=\"edge\">\n",
       "<title>Check Score&#45;&gt;Win</title>\n",
       "<path fill=\"none\" stroke=\"black\" d=\"M235.06,-333.04C227.68,-326.14 220.37,-317.8 215.69,-308.68 209.57,-296.75 206.36,-282.59 204.72,-269.54\"/>\n",
       "<polygon fill=\"black\" stroke=\"black\" points=\"208.24,-269.57 203.81,-259.95 201.27,-270.24 208.24,-269.57\"/>\n",
       "<text text-anchor=\"middle\" x=\"235.19\" y=\"-297.48\" font-family=\"Times New Roman,serif\" font-size=\"14.00\">Player </text>\n",
       "<text text-anchor=\"middle\" x=\"235.19\" y=\"-282.48\" font-family=\"Times New Roman,serif\" font-size=\"14.00\"> wins</text>\n",
       "</g>\n",
       "<!-- Tie -->\n",
       "<g id=\"node7\" class=\"node\">\n",
       "<title>Tie</title>\n",
       "<ellipse fill=\"white\" stroke=\"blue\" cx=\"278.69\" cy=\"-228.08\" rx=\"22.96\" ry=\"22.96\"/>\n",
       "<ellipse fill=\"none\" stroke=\"blue\" cx=\"278.69\" cy=\"-228.08\" rx=\"27\" ry=\"27\"/>\n",
       "<text text-anchor=\"middle\" x=\"278.69\" y=\"-224.38\" font-family=\"Times New Roman,serif\" font-size=\"14.00\">Tie</text>\n",
       "</g>\n",
       "<!-- Check Score&#45;&gt;Tie -->\n",
       "<g id=\"edge6\" class=\"edge\">\n",
       "<title>Check Score&#45;&gt;Tie</title>\n",
       "<path fill=\"none\" stroke=\"black\" d=\"M259.04,-326.38C258.65,-312.17 258.97,-294.34 261.69,-278.68 262.51,-273.93 263.72,-269.03 265.12,-264.25\"/>\n",
       "<polygon fill=\"black\" stroke=\"black\" points=\"268.42,-265.43 268.17,-254.84 261.76,-263.27 268.42,-265.43\"/>\n",
       "<text text-anchor=\"middle\" x=\"283.69\" y=\"-289.98\" font-family=\"Times New Roman,serif\" font-size=\"14.00\">It&#39;s a tie</text>\n",
       "</g>\n",
       "<!-- Lose -->\n",
       "<g id=\"node8\" class=\"node\">\n",
       "<title>Lose</title>\n",
       "<ellipse fill=\"white\" stroke=\"red\" cx=\"355.69\" cy=\"-228.08\" rx=\"28.68\" ry=\"28.68\"/>\n",
       "<ellipse fill=\"none\" stroke=\"red\" cx=\"355.69\" cy=\"-228.08\" rx=\"32.7\" ry=\"32.7\"/>\n",
       "<text text-anchor=\"middle\" x=\"355.69\" y=\"-224.38\" font-family=\"Times New Roman,serif\" font-size=\"14.00\">Lose</text>\n",
       "</g>\n",
       "<!-- Check Score&#45;&gt;Lose -->\n",
       "<g id=\"edge7\" class=\"edge\">\n",
       "<title>Check Score&#45;&gt;Lose</title>\n",
       "<path fill=\"none\" stroke=\"black\" d=\"M284.2,-331.66C291.47,-324.69 299.24,-316.65 305.69,-308.68 316.17,-295.7 326.25,-280.4 334.58,-266.7\"/>\n",
       "<polygon fill=\"black\" stroke=\"black\" points=\"337.44,-268.75 339.54,-258.36 331.42,-265.16 337.44,-268.75\"/>\n",
       "<text text-anchor=\"middle\" x=\"356.19\" y=\"-297.48\" font-family=\"Times New Roman,serif\" font-size=\"14.00\">Computer </text>\n",
       "<text text-anchor=\"middle\" x=\"356.19\" y=\"-282.48\" font-family=\"Times New Roman,serif\" font-size=\"14.00\"> wins</text>\n",
       "</g>\n",
       "<!-- Play Again? -->\n",
       "<g id=\"node16\" class=\"node\">\n",
       "<title>Play Again?</title>\n",
       "<ellipse fill=\"white\" stroke=\"black\" cx=\"278.69\" cy=\"-131.61\" rx=\"53.89\" ry=\"18\"/>\n",
       "<text text-anchor=\"middle\" x=\"278.69\" y=\"-127.91\" font-family=\"Times New Roman,serif\" font-size=\"14.00\">Play Again?</text>\n",
       "</g>\n",
       "<!-- Win&#45;&gt;Play Again? -->\n",
       "<g id=\"edge20\" class=\"edge\">\n",
       "<title>Win&#45;&gt;Play Again?</title>\n",
       "<path fill=\"none\" stroke=\"black\" d=\"M221.85,-204.21C232.87,-190.32 246.97,-172.57 258.36,-158.21\"/>\n",
       "<polygon fill=\"black\" stroke=\"black\" points=\"260.98,-160.54 264.46,-150.53 255.5,-156.19 260.98,-160.54\"/>\n",
       "</g>\n",
       "<!-- Tie&#45;&gt;Play Again? -->\n",
       "<g id=\"edge21\" class=\"edge\">\n",
       "<title>Tie&#45;&gt;Play Again?</title>\n",
       "<path fill=\"none\" stroke=\"black\" d=\"M278.69,-200.76C278.69,-188.43 278.69,-173.72 278.69,-161.13\"/>\n",
       "<polygon fill=\"black\" stroke=\"black\" points=\"282.19,-161.36 278.69,-151.36 275.19,-161.36 282.19,-161.36\"/>\n",
       "</g>\n",
       "<!-- Lose&#45;&gt;Play Again? -->\n",
       "<g id=\"edge22\" class=\"edge\">\n",
       "<title>Lose&#45;&gt;Play Again?</title>\n",
       "<path fill=\"none\" stroke=\"black\" d=\"M335.46,-202.26C324.38,-188.67 310.68,-171.85 299.51,-158.15\"/>\n",
       "<polygon fill=\"black\" stroke=\"black\" points=\"302.23,-155.95 293.2,-150.41 296.8,-160.37 302.23,-155.95\"/>\n",
       "</g>\n",
       "<!-- Check if Hint requested -->\n",
       "<g id=\"node10\" class=\"node\">\n",
       "<title>Check if Hint requested</title>\n",
       "<ellipse fill=\"white\" stroke=\"black\" cx=\"477.69\" cy=\"-750.59\" rx=\"52.15\" ry=\"37.45\"/>\n",
       "<text text-anchor=\"middle\" x=\"477.69\" y=\"-761.89\" font-family=\"Times New Roman,serif\" font-size=\"14.00\">Check if </text>\n",
       "<text text-anchor=\"middle\" x=\"477.69\" y=\"-746.89\" font-family=\"Times New Roman,serif\" font-size=\"14.00\"> Hint </text>\n",
       "<text text-anchor=\"middle\" x=\"477.69\" y=\"-731.89\" font-family=\"Times New Roman,serif\" font-size=\"14.00\"> requested</text>\n",
       "</g>\n",
       "<!-- Who&#39;s turn?&#45;&gt;Check if Hint requested -->\n",
       "<g id=\"edge9\" class=\"edge\">\n",
       "<title>Who&#39;s turn?&#45;&gt;Check if Hint requested</title>\n",
       "<path fill=\"none\" stroke=\"black\" d=\"M339.42,-847.33C363.22,-830.85 401.26,-804.5 431.42,-783.62\"/>\n",
       "<polygon fill=\"black\" stroke=\"black\" points=\"433.03,-786.76 439.26,-778.19 429.05,-781.01 433.03,-786.76\"/>\n",
       "</g>\n",
       "<!-- Display Board_c -->\n",
       "<g id=\"node14\" class=\"node\">\n",
       "<title>Display Board_c</title>\n",
       "<ellipse fill=\"white\" stroke=\"black\" cx=\"212.69\" cy=\"-750.59\" rx=\"63.09\" ry=\"18\"/>\n",
       "<text text-anchor=\"middle\" x=\"212.69\" y=\"-746.89\" font-family=\"Times New Roman,serif\" font-size=\"14.00\">Display Board</text>\n",
       "</g>\n",
       "<!-- Who&#39;s turn?&#45;&gt;Display Board_c -->\n",
       "<g id=\"edge16\" class=\"edge\">\n",
       "<title>Who&#39;s turn?&#45;&gt;Display Board_c</title>\n",
       "<path fill=\"none\" stroke=\"black\" d=\"M301.34,-846.61C284.16,-828.2 256.12,-798.13 236.17,-776.76\"/>\n",
       "<polygon fill=\"black\" stroke=\"black\" points=\"238.85,-774.5 229.47,-769.57 233.73,-779.27 238.85,-774.5\"/>\n",
       "</g>\n",
       "<!-- Display Board with Valid Moves -->\n",
       "<g id=\"node11\" class=\"node\">\n",
       "<title>Display Board with Valid Moves</title>\n",
       "<ellipse fill=\"white\" stroke=\"black\" cx=\"477.69\" cy=\"-609.63\" rx=\"65.11\" ry=\"37.45\"/>\n",
       "<text text-anchor=\"middle\" x=\"477.69\" y=\"-620.93\" font-family=\"Times New Roman,serif\" font-size=\"14.00\">Display </text>\n",
       "<text text-anchor=\"middle\" x=\"477.69\" y=\"-605.93\" font-family=\"Times New Roman,serif\" font-size=\"14.00\"> board with </text>\n",
       "<text text-anchor=\"middle\" x=\"477.69\" y=\"-590.93\" font-family=\"Times New Roman,serif\" font-size=\"14.00\"> Valid Moves</text>\n",
       "</g>\n",
       "<!-- Check if Hint requested&#45;&gt;Display Board with Valid Moves -->\n",
       "<g id=\"edge10\" class=\"edge\">\n",
       "<title>Check if Hint requested&#45;&gt;Display Board with Valid Moves</title>\n",
       "<path fill=\"none\" stroke=\"black\" d=\"M477.69,-712.71C477.69,-696.09 477.69,-676.25 477.69,-658.5\"/>\n",
       "<polygon fill=\"black\" stroke=\"black\" points=\"481.19,-658.71 477.69,-648.71 474.19,-658.71 481.19,-658.71\"/>\n",
       "<text text-anchor=\"middle\" x=\"488.69\" y=\"-676.41\" font-family=\"Times New Roman,serif\" font-size=\"14.00\">Yes</text>\n",
       "</g>\n",
       "<!-- Display Board_p -->\n",
       "<g id=\"node12\" class=\"node\">\n",
       "<title>Display Board_p</title>\n",
       "<ellipse fill=\"white\" stroke=\"black\" cx=\"623.69\" cy=\"-609.63\" rx=\"63.09\" ry=\"18\"/>\n",
       "<text text-anchor=\"middle\" x=\"623.69\" y=\"-605.93\" font-family=\"Times New Roman,serif\" font-size=\"14.00\">Display Board</text>\n",
       "</g>\n",
       "<!-- Check if Hint requested&#45;&gt;Display Board_p -->\n",
       "<g id=\"edge12\" class=\"edge\">\n",
       "<title>Check if Hint requested&#45;&gt;Display Board_p</title>\n",
       "<path fill=\"none\" stroke=\"black\" d=\"M508.65,-720.12C535.31,-694.75 573.31,-658.58 598.23,-634.86\"/>\n",
       "<polygon fill=\"black\" stroke=\"black\" points=\"600.53,-637.5 605.36,-628.08 595.71,-632.43 600.53,-637.5\"/>\n",
       "<text text-anchor=\"middle\" x=\"572.69\" y=\"-676.41\" font-family=\"Times New Roman,serif\" font-size=\"14.00\">No</text>\n",
       "</g>\n",
       "<!-- Ask for Player&#39;s Move -->\n",
       "<g id=\"node13\" class=\"node\">\n",
       "<title>Ask for Player&#39;s Move</title>\n",
       "<ellipse fill=\"white\" stroke=\"black\" cx=\"505.69\" cy=\"-473.29\" rx=\"92.88\" ry=\"18\"/>\n",
       "<text text-anchor=\"middle\" x=\"505.69\" y=\"-469.59\" font-family=\"Times New Roman,serif\" font-size=\"14.00\">Ask for Player&#39;s Move</text>\n",
       "</g>\n",
       "<!-- Display Board with Valid Moves&#45;&gt;Ask for Player&#39;s Move -->\n",
       "<g id=\"edge11\" class=\"edge\">\n",
       "<title>Display Board with Valid Moves&#45;&gt;Ask for Player&#39;s Move</title>\n",
       "<path fill=\"none\" stroke=\"black\" d=\"M479.2,-571.97C480.08,-561.31 481.48,-549.7 483.69,-539.16 486.29,-526.76 490.53,-513.45 494.6,-502.13\"/>\n",
       "<polygon fill=\"black\" stroke=\"black\" points=\"497.79,-503.6 498.02,-493.01 491.23,-501.14 497.79,-503.6\"/>\n",
       "</g>\n",
       "<!-- Display Board_p&#45;&gt;Ask for Player&#39;s Move -->\n",
       "<g id=\"edge13\" class=\"edge\">\n",
       "<title>Display Board_p&#45;&gt;Ask for Player&#39;s Move</title>\n",
       "<path fill=\"none\" stroke=\"black\" d=\"M609.54,-591.65C597.69,-577.5 580.26,-556.87 564.69,-539.16 553.13,-526 540.04,-511.56 529.13,-499.66\"/>\n",
       "<polygon fill=\"black\" stroke=\"black\" points=\"531.99,-497.6 522.65,-492.6 526.84,-502.33 531.99,-497.6\"/>\n",
       "</g>\n",
       "<!-- Ask for Player&#39;s Move&#45;&gt;Check if Stalemate -->\n",
       "<g id=\"edge15\" class=\"edge\">\n",
       "<title>Ask for Player&#39;s Move&#45;&gt;Check if Stalemate</title>\n",
       "<path fill=\"none\" stroke=\"black\" d=\"M412.68,-473.29C383.23,-473.29 351.37,-473.29 324.46,-473.29\"/>\n",
       "<polygon fill=\"black\" stroke=\"black\" points=\"324.76,-469.79 314.76,-473.29 324.76,-476.79 324.76,-469.79\"/>\n",
       "<text text-anchor=\"middle\" x=\"362.88\" y=\"-480.09\" font-family=\"Times New Roman,serif\" font-size=\"14.00\">Move = xy</text>\n",
       "</g>\n",
       "<!-- Ask for Player&#39;s Move&#45;&gt;Display Board with Valid Moves -->\n",
       "<g id=\"edge14\" class=\"edge\">\n",
       "<title>Ask for Player&#39;s Move&#45;&gt;Display Board with Valid Moves</title>\n",
       "<path fill=\"none\" stroke=\"black\" d=\"M502.11,-491.44C498.47,-508.95 492.64,-536.9 487.59,-561.11\"/>\n",
       "<polygon fill=\"black\" stroke=\"black\" points=\"484.19,-560.29 485.58,-570.79 491.04,-561.72 484.19,-560.29\"/>\n",
       "<text text-anchor=\"middle\" x=\"526.19\" y=\"-542.96\" font-family=\"Times New Roman,serif\" font-size=\"14.00\">Move = hint</text>\n",
       "</g>\n",
       "<!-- END -->\n",
       "<g id=\"node17\" class=\"node\">\n",
       "<title>END</title>\n",
       "<ellipse fill=\"grey\" stroke=\"black\" cx=\"387.69\" cy=\"-26.87\" rx=\"28.7\" ry=\"18\"/>\n",
       "<text text-anchor=\"middle\" x=\"387.69\" y=\"-23.17\" font-family=\"Times New Roman,serif\" font-size=\"14.00\">END</text>\n",
       "</g>\n",
       "<!-- Ask for Player&#39;s Move&#45;&gt;END -->\n",
       "<g id=\"edge19\" class=\"edge\">\n",
       "<title>Ask for Player&#39;s Move&#45;&gt;END</title>\n",
       "<path fill=\"none\" stroke=\"black\" d=\"M495.56,-454.99C483.41,-432.6 464.69,-391.99 464.69,-354.55 464.69,-354.55 464.69,-354.55 464.69,-130.61 464.69,-96.52 437.21,-66.5 415.08,-47.84\"/>\n",
       "<polygon fill=\"black\" stroke=\"black\" points=\"417.49,-45.29 407.51,-41.75 413.11,-50.75 417.49,-45.29\"/>\n",
       "<text text-anchor=\"middle\" x=\"499.69\" y=\"-224.38\" font-family=\"Times New Roman,serif\" font-size=\"14.00\">Move = quit</text>\n",
       "</g>\n",
       "<!-- Get Computer&#39;s Best Move -->\n",
       "<g id=\"node15\" class=\"node\">\n",
       "<title>Get Computer&#39;s Best Move</title>\n",
       "<ellipse fill=\"white\" stroke=\"black\" cx=\"204.69\" cy=\"-609.63\" rx=\"77.56\" ry=\"26.74\"/>\n",
       "<text text-anchor=\"middle\" x=\"204.69\" y=\"-613.43\" font-family=\"Times New Roman,serif\" font-size=\"14.00\">Get Computer&#39;s </text>\n",
       "<text text-anchor=\"middle\" x=\"204.69\" y=\"-598.43\" font-family=\"Times New Roman,serif\" font-size=\"14.00\"> Best Move</text>\n",
       "</g>\n",
       "<!-- Display Board_c&#45;&gt;Get Computer&#39;s Best Move -->\n",
       "<g id=\"edge17\" class=\"edge\">\n",
       "<title>Display Board_c&#45;&gt;Get Computer&#39;s Best Move</title>\n",
       "<path fill=\"none\" stroke=\"black\" d=\"M211.69,-732.27C210.48,-711.26 208.41,-675.26 206.83,-647.86\"/>\n",
       "<polygon fill=\"black\" stroke=\"black\" points=\"210.35,-648.01 206.28,-638.22 203.36,-648.41 210.35,-648.01\"/>\n",
       "</g>\n",
       "<!-- Get Computer&#39;s Best Move&#45;&gt;Check if Stalemate -->\n",
       "<g id=\"edge18\" class=\"edge\">\n",
       "<title>Get Computer&#39;s Best Move&#45;&gt;Check if Stalemate</title>\n",
       "<path fill=\"none\" stroke=\"black\" d=\"M215.49,-582.73C224.1,-562.06 236.27,-532.88 245.81,-509.99\"/>\n",
       "<polygon fill=\"black\" stroke=\"black\" points=\"248.92,-511.63 249.53,-501.05 242.46,-508.93 248.92,-511.63\"/>\n",
       "</g>\n",
       "<!-- Play Again?&#45;&gt;Decide who Goes First -->\n",
       "<g id=\"edge23\" class=\"edge\">\n",
       "<title>Play Again?&#45;&gt;Decide who Goes First</title>\n",
       "<path fill=\"none\" stroke=\"black\" d=\"M257.91,-114.56C238.21,-99.34 208.15,-76.12 184.1,-57.54\"/>\n",
       "<polygon fill=\"black\" stroke=\"black\" points=\"186.46,-54.94 176.4,-51.6 182.18,-60.48 186.46,-54.94\"/>\n",
       "<text text-anchor=\"middle\" x=\"230.69\" y=\"-75.54\" font-family=\"Times New Roman,serif\" font-size=\"14.00\">Yes</text>\n",
       "</g>\n",
       "<!-- Play Again?&#45;&gt;END -->\n",
       "<g id=\"edge24\" class=\"edge\">\n",
       "<title>Play Again?&#45;&gt;END</title>\n",
       "<path fill=\"none\" stroke=\"black\" d=\"M296.2,-114.1C314.63,-96.73 343.75,-69.29 364.17,-50.04\"/>\n",
       "<polygon fill=\"black\" stroke=\"black\" points=\"366.36,-52.79 371.23,-43.38 361.56,-47.69 366.36,-52.79\"/>\n",
       "<text text-anchor=\"middle\" x=\"348.69\" y=\"-75.54\" font-family=\"Times New Roman,serif\" font-size=\"14.00\">No</text>\n",
       "</g>\n",
       "</g>\n",
       "</svg>\n"
      ],
      "text/plain": [
       "<graphviz.graphs.Digraph at 0x1c15455fe10>"
      ]
     },
     "execution_count": 4,
     "metadata": {},
     "output_type": "execute_result"
    }
   ],
   "source": [
    "dot"
   ]
  },
  {
   "cell_type": "markdown",
   "id": "7476071f-3276-4ab7-96c9-d603c4ba33a3",
   "metadata": {},
   "source": [
    "## 3. Program"
   ]
  },
  {
   "cell_type": "code",
   "execution_count": 5,
   "id": "39026eeb-ab4c-492d-86e9-48bfde36f4b2",
   "metadata": {
    "tags": []
   },
   "outputs": [],
   "source": [
    "# Importing modules and setting up constants\n",
    "import random\n",
    "import sys\n",
    "WIDTH = 8  # Board is 8 spaces wide\n",
    "HEIGHT = 8 # Board is 8 spaces tall\n",
    "\n",
    "# Setting constants to play the AI several times\n",
    "NUM_GAMES = 250\n",
    "xWins = oWins = ties = 0"
   ]
  },
  {
   "cell_type": "code",
   "execution_count": 6,
   "id": "39ef76f9-3ee4-43fa-903e-c7cf32dc1288",
   "metadata": {},
   "outputs": [],
   "source": [
    "# Function asks for the mode the player wants to play\n",
    "def selectMode():\n",
    "    gamemode=''\n",
    "    while not (gamemode == '1' or gamemode == '2'):\n",
    "        print('''Select the mode you want to play:\n",
    "        mode 1: you play against the computer\n",
    "        mode 2: you make the computer AIs compete against each other''')\n",
    "        gamemode = input()\n",
    "        \n",
    "    if gamemode == '1':\n",
    "        competitor='P'\n",
    "        while competitor not in ('PB','PW','PR'):\n",
    "            print('''Who do you want to compete against?\n",
    "            B: AI selects the best moves\n",
    "            W: AI selects the worst moves \n",
    "            R: AI selects random moves''')\n",
    "            competitor += input().upper()\n",
    "            \n",
    "    if gamemode == '2':\n",
    "        competitor=''\n",
    "        while competitor not in ('BB','BW','BR','WB','WW','WR','RB','RW','RR'):\n",
    "            print('''Which computer AIs do you want to see compete against?\n",
    "            B: AI selects the best moves\n",
    "            W: AI selects the worst moves \n",
    "            R: AI selects random moves\n",
    "            Select a pair. For instance \"BR\"''')\n",
    "            competitor = input().upper()\n",
    "\n",
    "    return competitor"
   ]
  },
  {
   "cell_type": "code",
   "execution_count": 7,
   "id": "03fd489c-211d-4d52-98c4-4e48774a493e",
   "metadata": {},
   "outputs": [],
   "source": [
    "# Function lets the player type which tile he wants to be.\n",
    "# Returns a list with the player's tile as the first item and the computer's tile as the second.\n",
    "def enterPlayerTile():\n",
    "    tile = ''\n",
    "    while not (tile == 'X' or tile == 'O'):\n",
    "        print('Do you want to be X or O?')\n",
    "        tile = input().upper()\n",
    "\n",
    "    # The first element in the list is the player's tile, and the second is the computer's tile.\n",
    "    if tile == 'X':\n",
    "        return ['X', 'O']\n",
    "    else:\n",
    "        return ['O', 'X']"
   ]
  },
  {
   "cell_type": "code",
   "execution_count": 8,
   "id": "9c855a81-d924-408e-87bb-80b47f72bf7d",
   "metadata": {},
   "outputs": [],
   "source": [
    "# Function randomly chooses who goes first.\n",
    "def whoGoesFirst():\n",
    "    if random.randint(0, 1) == 0:\n",
    "        return 'computer'\n",
    "    else:\n",
    "        return 'player'"
   ]
  },
  {
   "cell_type": "code",
   "execution_count": 9,
   "id": "b5cf61cb-6be7-407b-9ad5-6fc7ab6851b7",
   "metadata": {},
   "outputs": [],
   "source": [
    "# Function creates a brand-new, blank board data structure.\n",
    "def getNewBoard():\n",
    "    board = []\n",
    "    for i in range(WIDTH):\n",
    "        board.append([' ', ' ', ' ', ' ', ' ', ' ', ' ', ' '])\n",
    "    return board"
   ]
  },
  {
   "cell_type": "code",
   "execution_count": 10,
   "id": "4b571a00-b7d6-4203-8303-d7598c14f85a",
   "metadata": {},
   "outputs": [],
   "source": [
    "# Function returns True if the coordinates are located on the board.\n",
    "def isOnBoard(x, y):\n",
    "    return x >= 0 and x <= WIDTH - 1 and y >= 0 and y <= HEIGHT - 1"
   ]
  },
  {
   "cell_type": "code",
   "execution_count": 11,
   "id": "96cf9ef5-7db2-4324-87d5-39955786c0e3",
   "metadata": {
    "tags": []
   },
   "outputs": [],
   "source": [
    "# Function checks whether a move is valid.\n",
    "\n",
    "# The call to the isValidMove() function either returns the Boolean value False or a nonempty list:\n",
    "## If the player's move is not valid: returns False.\n",
    "## If the player's move is valid: returns a list of spaces that would be flipped.\n",
    "\n",
    "def isValidMove(board, tile, xstart, ystart):\n",
    "    # For a move to be valid, space must be empty + move must be on the board\n",
    "    if board[xstart][ystart] != ' ' or not isOnBoard(xstart, ystart):\n",
    "        return False\n",
    "\n",
    "    if tile == 'X':\n",
    "        otherTile = 'O'\n",
    "    else:\n",
    "        otherTile = 'X'\n",
    "    \n",
    "    # Store all the tiles coordinates\n",
    "    tilesToFlip = []\n",
    "    # Check each of the 8 directions\n",
    "    for xdirection, ydirection in [[0, 1], [1, 1], [1, 0], [1, -1], [0, -1], [-1, -1], [-1, 0], [-1, 1]]:\n",
    "        x, y = xstart, ystart\n",
    "        x += xdirection # First step in the x direction\n",
    "        y += ydirection # First step in the y direction\n",
    "        while isOnBoard(x, y) and board[x][y] == otherTile:\n",
    "            # Keep moving in this x & y direction.\n",
    "            x += xdirection\n",
    "            y += ydirection\n",
    "            # If there are pieces to flip over.\n",
    "            if isOnBoard(x, y) and board[x][y] == tile:\n",
    "                # Go in the reverse direction until we reach the original space, noting all the tiles along the way.\n",
    "                while True:\n",
    "                    x -= xdirection\n",
    "                    y -= ydirection\n",
    "                    if x == xstart and y == ystart:\n",
    "                        break\n",
    "                    tilesToFlip.append([x, y])\n",
    "\n",
    "    # For a move to be valid, at least one tile must be flipped.                \n",
    "    if len(tilesToFlip) == 0:\n",
    "        return False\n",
    "    return tilesToFlip"
   ]
  },
  {
   "cell_type": "code",
   "execution_count": 12,
   "id": "bae17809-d988-45e6-aada-91d027daadc0",
   "metadata": {},
   "outputs": [],
   "source": [
    "# Function makes a duplicate of the board list and return it.\n",
    "def getBoardCopy(board):\n",
    "    boardCopy = getNewBoard()\n",
    "\n",
    "    for x in range(WIDTH):\n",
    "        for y in range(HEIGHT):\n",
    "            boardCopy[x][y] = board[x][y]\n",
    "\n",
    "    return boardCopy"
   ]
  },
  {
   "cell_type": "code",
   "execution_count": 13,
   "id": "0dffd3db-cc6f-48fe-b939-29309db13bb4",
   "metadata": {},
   "outputs": [],
   "source": [
    "# Function returns a list of [x,y] lists of valid moves for the given player on the given board.\n",
    "def getValidMoves(board, tile):\n",
    "    validMoves = []\n",
    "    for x in range(WIDTH):\n",
    "        for y in range(HEIGHT):\n",
    "            if isValidMove(board, tile, x, y) != False:\n",
    "                validMoves.append([x, y])\n",
    "    return validMoves"
   ]
  },
  {
   "cell_type": "code",
   "execution_count": 14,
   "id": "dec32793-82ef-4f57-9cdd-2c5869073bee",
   "metadata": {},
   "outputs": [],
   "source": [
    "# Function returns a new board with periods marking the valid moves the player can make.\n",
    "def getBoardWithValidMoves(board, tile):\n",
    "    boardCopy = getBoardCopy(board)\n",
    "\n",
    "    for x, y in getValidMoves(boardCopy, tile):\n",
    "        boardCopy[x][y] = '.'\n",
    "    return boardCopy"
   ]
  },
  {
   "cell_type": "code",
   "execution_count": 15,
   "id": "0c5d4427-6e16-42f7-bada-079f56db49fb",
   "metadata": {},
   "outputs": [],
   "source": [
    "# Function draws the board data strcuture on the screen\n",
    "def drawBoard(board):\n",
    "    print('  12345678')\n",
    "    print(' +--------+')\n",
    "    for y in range(HEIGHT):\n",
    "        print('%s|' % (y+1), end='')\n",
    "        for x in range(WIDTH):\n",
    "            print(board[x][y], end='')\n",
    "        print('|%s' % (y+1))\n",
    "    print(' +--------+')\n",
    "    print('  12345678')"
   ]
  },
  {
   "cell_type": "code",
   "execution_count": 16,
   "id": "e08835d9-3103-4e3b-9184-29a5198aac9f",
   "metadata": {},
   "outputs": [],
   "source": [
    "# Function determines the score by counting the tiles. \n",
    "# Returns a dictionary with keys 'X' and 'O'.\n",
    "def getScoreOfBoard(board):\n",
    "    xscore = 0\n",
    "    oscore = 0\n",
    "    for x in range(WIDTH):\n",
    "        for y in range(HEIGHT):\n",
    "            if board[x][y] == 'X':\n",
    "                xscore += 1\n",
    "            if board[x][y] == 'O':\n",
    "                oscore += 1\n",
    "    return {'X':xscore, 'O':oscore}"
   ]
  },
  {
   "cell_type": "code",
   "execution_count": 17,
   "id": "df575995-b883-40a9-8431-bae25f403c12",
   "metadata": {},
   "outputs": [],
   "source": [
    "# Function prints the score in the board\n",
    "def printScore(board, playerTile, computerTile):\n",
    "    scores = getScoreOfBoard(board)\n",
    "    print('You: %s points. Computer: %s points.' % (scores[playerTile], scores[computerTile]))"
   ]
  },
  {
   "cell_type": "code",
   "execution_count": 18,
   "id": "6c4f2859-2a87-4b19-a655-188410dca8fc",
   "metadata": {},
   "outputs": [],
   "source": [
    "# MODE 1 only\n",
    "# Function lets the player enter his move.\n",
    "# Returns the move as [x, y] (or returns the strings 'hints' or 'quit').\n",
    "def getPlayerMove(board, playerTile):\n",
    "    DIGITS1TO8 = '1 2 3 4 5 6 7 8'.split()\n",
    "    while True:\n",
    "        print('Enter your move, \"quit\" to end the game, or \"hints\" to toggle hints.')\n",
    "        move = input().lower()\n",
    "        if move == 'quit' or move == 'hints':\n",
    "            return move\n",
    "\n",
    "        if len(move) == 2 and move[0] in DIGITS1TO8 and move[1] in DIGITS1TO8:\n",
    "            x = int(move[0]) - 1\n",
    "            y = int(move[1]) - 1\n",
    "            if isValidMove(board, playerTile, x, y) == False:\n",
    "                continue\n",
    "            else:\n",
    "                break\n",
    "        else:\n",
    "            print('That is not a valid move. Enter the column (1-8) and then the row (1-8).')\n",
    "            print('For example, 81 will move on the top-right corner.')\n",
    "\n",
    "    return [x, y]"
   ]
  },
  {
   "cell_type": "code",
   "execution_count": 19,
   "id": "532c8046-eddf-4018-bea5-8d73021c5da4",
   "metadata": {},
   "outputs": [],
   "source": [
    "# MODE B only: Computer selects best move\n",
    "# Function returns True if the position is in one of the four corners.\n",
    "def isOnCorner(x, y):\n",
    "    return (x == 0 or x == WIDTH - 1) and (y == 0 or y == HEIGHT - 1)"
   ]
  },
  {
   "cell_type": "code",
   "execution_count": 20,
   "id": "52fb6b35-7cc5-4465-a8f6-af06f5defa06",
   "metadata": {},
   "outputs": [],
   "source": [
    "# MODE B only: Computer selects best move\n",
    "# Function determines where the computer should move.\n",
    "# Returns the move as a [x, y] list.\n",
    "def getBestComputerMove(board, tile):\n",
    "    possibleMoves = getValidMoves(board, tile)\n",
    "    random.shuffle(possibleMoves) # randomize the order of the moves\n",
    "\n",
    "    # Always go for a corner if available.\n",
    "    for x, y in possibleMoves:\n",
    "        if isOnCorner(x, y):\n",
    "            return [x, y]\n",
    "\n",
    "    # Find the highest-scoring move possible.\n",
    "    bestScore = -1\n",
    "    for x, y in possibleMoves:\n",
    "        boardCopy = getBoardCopy(board)\n",
    "        makeMove(boardCopy, computerTile, x, y)\n",
    "        score = getScoreOfBoard(boardCopy)[tile]\n",
    "        if score > bestScore:\n",
    "            bestMove = [x, y]\n",
    "            bestScore = score\n",
    "    return bestMove"
   ]
  },
  {
   "cell_type": "code",
   "execution_count": 21,
   "id": "aea8f413-f713-4d1b-9e52-8c52e33d5000",
   "metadata": {},
   "outputs": [],
   "source": [
    "# MODE W only: Computer selects worst move\n",
    "# Function determines where the computer should move.\n",
    "# Returns the move as a [x, y] list.\n",
    "def getWorstComputerMove(board, tile):\n",
    "    # Return the move that flips the least number of tiles.\n",
    "    possibleMoves = getValidMoves(board, tile)\n",
    "    random.shuffle(possibleMoves) # Randomize the order of the moves.\n",
    "\n",
    "    # Go through all the possible moves and remember the best scoring move.\n",
    "    worstScore = 64\n",
    "    for x, y in possibleMoves:\n",
    "        boardCopy = getBoardCopy(board)\n",
    "        makeMove(boardCopy, tile, x, y)\n",
    "        score = getScoreOfBoard(boardCopy)[tile]\n",
    "        if score < worstScore:\n",
    "            worstMove = [x, y]\n",
    "            worstScore = score\n",
    "    return worstMove"
   ]
  },
  {
   "cell_type": "code",
   "execution_count": 22,
   "id": "29a7a2ec-4825-4d2e-b379-44f061468535",
   "metadata": {},
   "outputs": [],
   "source": [
    "# MODE R only: Computer selects random move\n",
    "# Function determines where the computer should move.\n",
    "# Returns the move as a [x, y] list.\n",
    "def getRandomComputerMove(board, tile):\n",
    "    possibleMoves = getValidMoves(board, tile)\n",
    "    return random.choice(possibleMoves)"
   ]
  },
  {
   "cell_type": "code",
   "execution_count": 23,
   "id": "a40504a9-3cbd-48bd-a2a4-d9d619d11d24",
   "metadata": {},
   "outputs": [],
   "source": [
    "# Function places the tile on the board at xstart, ystart, and flip any of the opponent's pieces.\n",
    "# Returns False if this is an invalid move; True if it is valid.\n",
    "def makeMove(board, tile, xstart, ystart):\n",
    "    tilesToFlip = isValidMove(board, tile, xstart, ystart)\n",
    "\n",
    "    if tilesToFlip == False:\n",
    "        return False\n",
    "\n",
    "    board[xstart][ystart] = tile\n",
    "    for x, y in tilesToFlip:\n",
    "        board[x][y] = tile\n",
    "    return True"
   ]
  },
  {
   "cell_type": "code",
   "execution_count": 24,
   "id": "14b2416b-1e47-4b87-b1ef-5228a9770be2",
   "metadata": {},
   "outputs": [],
   "source": [
    "def playGame(playerTile, computerTile):\n",
    "    showHints = False\n",
    "    turn = whoGoesFirst()\n",
    "    \n",
    "    if competitor[0] == 'P':\n",
    "        print('The ' + turn + ' will go first.')\n",
    "\n",
    "    # Clear the board and place starting pieces.\n",
    "    board = getNewBoard()\n",
    "    board[3][3] = 'X'\n",
    "    board[3][4] = 'O'\n",
    "    board[4][3] = 'O'\n",
    "    board[4][4] = 'X'\n",
    "\n",
    "    while True:\n",
    "        playerValidMoves = getValidMoves(board, playerTile)\n",
    "        computerValidMoves = getValidMoves(board, computerTile)\n",
    "        \n",
    "        # Check for Stalemate\n",
    "        if playerValidMoves == [] and computerValidMoves == []:\n",
    "            # No one can move, so end the game.\n",
    "            return board \n",
    "        \n",
    "        # Player's turn\n",
    "        elif turn == 'player': \n",
    "            if playerValidMoves != []:\n",
    "                # Mode 1\n",
    "                if competitor[0] == 'P':\n",
    "                    if showHints:\n",
    "                        validMovesBoard = getBoardWithValidMoves(board, playerTile)\n",
    "                        drawBoard(validMovesBoard)\n",
    "                    else:\n",
    "                        drawBoard(board)\n",
    "                    printScore(board, playerTile, computerTile)\n",
    "\n",
    "                    move = getPlayerMove(board, playerTile)\n",
    "                    if move == 'quit':\n",
    "                        print('Thanks for playing!')\n",
    "                        sys.exit() # Terminate the program.\n",
    "                    elif move == 'hints':\n",
    "                        showHints = not showHints\n",
    "                        continue\n",
    "                    else:\n",
    "                        makeMove(board, playerTile, move[0], move[1])\n",
    "                # Mode 2\n",
    "                else:\n",
    "                    if competitor[0] == 'B':\n",
    "                        move = getBestComputerMove(board, playerTile)\n",
    "                    elif competitor[0] == 'W':\n",
    "                        move = getWorstComputerMove(board, playerTile)\n",
    "                    elif competitor[0] == 'R':\n",
    "                        move = getRandomComputerMove(board, playerTile)\n",
    "                    makeMove(board, playerTile, move[0], move[1])\n",
    "            turn = 'computer'\n",
    "        \n",
    "        # Computer's turn\n",
    "        elif turn == 'computer': \n",
    "            if computerValidMoves != []:\n",
    "                # Mode 1 computer turn introduction\n",
    "                if competitor[0] == 'P':\n",
    "                    drawBoard(board)\n",
    "                    printScore(board, playerTile, computerTile)\n",
    "                    input('Press Enter to see the computer\\'s move.')\n",
    "                # Mode 2: Bypass Mode 1 computer turn introduction\n",
    "                if competitor[1] == 'B':\n",
    "                    move = getBestComputerMove(board, computerTile)\n",
    "                elif competitor[1] == 'W':\n",
    "                    move = getWorstComputerMove(board, computerTile)\n",
    "                elif competitor[1] == 'R':\n",
    "                    move = getRandomComputerMove(board, computerTile)\n",
    "                makeMove(board, computerTile, move[0], move[1])\n",
    "            turn = 'player'"
   ]
  },
  {
   "cell_type": "code",
   "execution_count": 25,
   "id": "3f565394-15eb-40e0-8792-d6eba25c5740",
   "metadata": {},
   "outputs": [
    {
     "name": "stdout",
     "output_type": "stream",
     "text": [
      "Welcome to Reversi!\n",
      "Select the mode you want to play:\n",
      "        mode 1: you play against the computer\n",
      "        mode 2: you make the computer AIs compete against each other\n"
     ]
    },
    {
     "name": "stdin",
     "output_type": "stream",
     "text": [
      " 2\n"
     ]
    },
    {
     "name": "stdout",
     "output_type": "stream",
     "text": [
      "Which computer AIs do you want to see compete against?\n",
      "            B: AI selects the best moves\n",
      "            W: AI selects the worst moves \n",
      "            R: AI selects random moves\n",
      "            Select a pair. For instance \"BR\"\n"
     ]
    },
    {
     "name": "stdin",
     "output_type": "stream",
     "text": [
      " bw\n"
     ]
    },
    {
     "name": "stdout",
     "output_type": "stream",
     "text": [
      "B wins: 178 (71.2%)\n",
      "W wins: 60 (24.0%)\n",
      "Ties:   12 (4.8%)\n",
      "Do you want to play again? (yes or no)\n"
     ]
    },
    {
     "name": "stdin",
     "output_type": "stream",
     "text": [
      " yes\n"
     ]
    },
    {
     "name": "stdout",
     "output_type": "stream",
     "text": [
      "Select the mode you want to play:\n",
      "        mode 1: you play against the computer\n",
      "        mode 2: you make the computer AIs compete against each other\n"
     ]
    },
    {
     "name": "stdin",
     "output_type": "stream",
     "text": [
      " 2\n"
     ]
    },
    {
     "name": "stdout",
     "output_type": "stream",
     "text": [
      "Which computer AIs do you want to see compete against?\n",
      "            B: AI selects the best moves\n",
      "            W: AI selects the worst moves \n",
      "            R: AI selects random moves\n",
      "            Select a pair. For instance \"BR\"\n"
     ]
    },
    {
     "name": "stdin",
     "output_type": "stream",
     "text": [
      " wr\n"
     ]
    },
    {
     "name": "stdout",
     "output_type": "stream",
     "text": [
      "W wins: 265 (106.0%)\n",
      "R wins: 215 (86.0%)\n",
      "Ties:   20 (8.0%)\n",
      "Do you want to play again? (yes or no)\n"
     ]
    },
    {
     "name": "stdin",
     "output_type": "stream",
     "text": [
      " yes\n"
     ]
    },
    {
     "name": "stdout",
     "output_type": "stream",
     "text": [
      "Select the mode you want to play:\n",
      "        mode 1: you play against the computer\n",
      "        mode 2: you make the computer AIs compete against each other\n"
     ]
    },
    {
     "name": "stdin",
     "output_type": "stream",
     "text": [
      " 1\n"
     ]
    },
    {
     "name": "stdout",
     "output_type": "stream",
     "text": [
      "Who do you want to compete against?\n",
      "            B: AI selects the best moves\n",
      "            W: AI selects the worst moves \n",
      "            R: AI selects random moves\n"
     ]
    },
    {
     "name": "stdin",
     "output_type": "stream",
     "text": [
      " b\n"
     ]
    },
    {
     "name": "stdout",
     "output_type": "stream",
     "text": [
      "Do you want to be X or O?\n"
     ]
    },
    {
     "name": "stdin",
     "output_type": "stream",
     "text": [
      " X\n"
     ]
    },
    {
     "name": "stdout",
     "output_type": "stream",
     "text": [
      "The computer will go first.\n",
      "  12345678\n",
      " +--------+\n",
      "1|        |1\n",
      "2|        |2\n",
      "3|        |3\n",
      "4|   XO   |4\n",
      "5|   OX   |5\n",
      "6|        |6\n",
      "7|        |7\n",
      "8|        |8\n",
      " +--------+\n",
      "  12345678\n",
      "You: 2 points. Computer: 2 points.\n"
     ]
    },
    {
     "name": "stdin",
     "output_type": "stream",
     "text": [
      "Press Enter to see the computer's move. \n"
     ]
    },
    {
     "name": "stdout",
     "output_type": "stream",
     "text": [
      "  12345678\n",
      " +--------+\n",
      "1|        |1\n",
      "2|        |2\n",
      "3|   O    |3\n",
      "4|   OO   |4\n",
      "5|   OX   |5\n",
      "6|        |6\n",
      "7|        |7\n",
      "8|        |8\n",
      " +--------+\n",
      "  12345678\n",
      "You: 1 points. Computer: 4 points.\n",
      "Enter your move, \"quit\" to end the game, or \"hints\" to toggle hints.\n"
     ]
    },
    {
     "name": "stdin",
     "output_type": "stream",
     "text": [
      " hints\n"
     ]
    },
    {
     "name": "stdout",
     "output_type": "stream",
     "text": [
      "  12345678\n",
      " +--------+\n",
      "1|        |1\n",
      "2|        |2\n",
      "3|  .O.   |3\n",
      "4|   OO   |4\n",
      "5|  .OX   |5\n",
      "6|        |6\n",
      "7|        |7\n",
      "8|        |8\n",
      " +--------+\n",
      "  12345678\n",
      "You: 1 points. Computer: 4 points.\n",
      "Enter your move, \"quit\" to end the game, or \"hints\" to toggle hints.\n"
     ]
    },
    {
     "name": "stdin",
     "output_type": "stream",
     "text": [
      " 33\n"
     ]
    },
    {
     "name": "stdout",
     "output_type": "stream",
     "text": [
      "  12345678\n",
      " +--------+\n",
      "1|        |1\n",
      "2|        |2\n",
      "3|  XO    |3\n",
      "4|   XO   |4\n",
      "5|   OX   |5\n",
      "6|        |6\n",
      "7|        |7\n",
      "8|        |8\n",
      " +--------+\n",
      "  12345678\n",
      "You: 3 points. Computer: 3 points.\n"
     ]
    },
    {
     "name": "stdin",
     "output_type": "stream",
     "text": [
      "Press Enter to see the computer's move. \n"
     ]
    },
    {
     "name": "stdout",
     "output_type": "stream",
     "text": [
      "  12345678\n",
      " +--------+\n",
      "1|        |1\n",
      "2|        |2\n",
      "3|  XO.   |3\n",
      "4|  OOO   |4\n",
      "5|  .OX   |5\n",
      "6|        |6\n",
      "7|        |7\n",
      "8|        |8\n",
      " +--------+\n",
      "  12345678\n",
      "You: 2 points. Computer: 5 points.\n",
      "Enter your move, \"quit\" to end the game, or \"hints\" to toggle hints.\n"
     ]
    },
    {
     "name": "stdin",
     "output_type": "stream",
     "text": [
      " quit\n"
     ]
    },
    {
     "name": "stdout",
     "output_type": "stream",
     "text": [
      "Thanks for playing!\n"
     ]
    },
    {
     "ename": "SystemExit",
     "evalue": "",
     "output_type": "error",
     "traceback": [
      "An exception has occurred, use %tb to see the full traceback.\n",
      "\u001b[1;31mSystemExit\u001b[0m\n"
     ]
    },
    {
     "name": "stderr",
     "output_type": "stream",
     "text": [
      "C:\\Users\\pauly\\AppData\\Local\\Programs\\Python\\Python311\\Lib\\site-packages\\IPython\\core\\interactiveshell.py:3468: UserWarning: To exit: use 'exit', 'quit', or Ctrl-D.\n",
      "  warn(\"To exit: use 'exit', 'quit', or Ctrl-D.\", stacklevel=1)\n"
     ]
    }
   ],
   "source": [
    "print('Welcome to Reversi!')\n",
    "\n",
    "while True:\n",
    "    competitor = selectMode()\n",
    "\n",
    "    # Mode 1\n",
    "    if competitor[0] == 'P':\n",
    "\n",
    "        playerTile, computerTile = enterPlayerTile()\n",
    "\n",
    "        finalBoard = playGame(playerTile, computerTile)\n",
    "\n",
    "        # Display the final score.\n",
    "        drawBoard(finalBoard)\n",
    "        scores = getScoreOfBoard(finalBoard)\n",
    "        print('X scored %s points. O scored %s points.' % (scores['X'], scores['O']))\n",
    "        if scores[playerTile] > scores[computerTile]:\n",
    "            print('You beat the computer by %s points! Congratulations!' % (scores[playerTile] - scores[computerTile]))\n",
    "        elif scores[playerTile] < scores[computerTile]:\n",
    "            print('You lost. The computer beat you by %s points.' % (scores[computerTile] - scores[playerTile]))\n",
    "        else:\n",
    "            print('The game was a tie!')\n",
    "\n",
    "    # Mode 2\n",
    "    else:\n",
    "\n",
    "        playerTile, computerTile = ['X', 'O']\n",
    "        # print('The tile X represents %s and the tile O represents %s.' % (competitor[0],competitor[1]))\n",
    "\n",
    "        for i in range(NUM_GAMES):\n",
    "            finalBoard = playGame(playerTile, computerTile)\n",
    "\n",
    "            # Display the final score.\n",
    "            scores = getScoreOfBoard(finalBoard)\n",
    "            # print('#%s: X scored %s points. O scored %s points.' % (i + 1, scores['X'], scores['O']))\n",
    "            if scores[playerTile] > scores[computerTile]:\n",
    "                xWins += 1\n",
    "            elif scores[playerTile] < scores[computerTile]:\n",
    "                oWins += 1\n",
    "            else:\n",
    "                ties += 1\n",
    "\n",
    "        print('%s wins: %s (%s%%)' % (competitor[0], xWins, round(xWins / NUM_GAMES * 100, 1)))\n",
    "        print('%s wins: %s (%s%%)' % (competitor[1], oWins, round(oWins / NUM_GAMES * 100, 1)))\n",
    "        print('Ties:   %s (%s%%)' % (ties, round(ties / NUM_GAMES * 100, 1)))\n",
    "    \n",
    "    print('Do you want to play again? (yes or no)')\n",
    "    if not input().lower().startswith('y'):\n",
    "        break"
   ]
  },
  {
   "cell_type": "markdown",
   "id": "3fa9cea3-fe4c-4d6c-9409-6e589b88b673",
   "metadata": {},
   "source": [
    "## 4. Notes"
   ]
  },
  {
   "cell_type": "markdown",
   "id": "36cec1c5-a610-4419-985c-5181b77805c3",
   "metadata": {
    "tags": []
   },
   "source": [
    "### 4.1. The boolean function"
   ]
  },
  {
   "cell_type": "markdown",
   "id": "45b6104c-0885-4d58-9a0d-7866528123aa",
   "metadata": {},
   "source": [
    "Python bool() function is used to return or convert a value to a Boolean value i.e., True or False, using the standard truth testing procedure."
   ]
  },
  {
   "cell_type": "code",
   "execution_count": null,
   "id": "1f350f2a-95ad-416b-b29c-3c10f20baf9f",
   "metadata": {
    "tags": []
   },
   "outputs": [],
   "source": [
    "one = bool(0)\n",
    "two = bool (1)\n",
    "print(\"one: \",one,\" two: \",two)"
   ]
  },
  {
   "cell_type": "code",
   "execution_count": null,
   "id": "5b0f1811-610f-4709-8cda-80f7b3eb60cc",
   "metadata": {
    "tags": []
   },
   "outputs": [],
   "source": [
    "one = bool('')\n",
    "two = bool('Hello')\n",
    "print(\"one: \",one,\" two: \",two)"
   ]
  },
  {
   "cell_type": "code",
   "execution_count": null,
   "id": "a2c562d9-37a1-4bf0-b307-b0501fa6a335",
   "metadata": {
    "tags": []
   },
   "outputs": [],
   "source": [
    "one = bool([])\n",
    "two = bool([1,2,3,4,5])\n",
    "print(\"one: \",one,\" two: \",two)"
   ]
  },
  {
   "cell_type": "code",
   "execution_count": null,
   "id": "c3103958-9afa-4377-92d3-0d35b7f26f84",
   "metadata": {
    "tags": []
   },
   "outputs": [],
   "source": [
    "one = bool({})\n",
    "two = bool ({'spam':'cheese','fizz':'buzz'})\n",
    "print(\"one: \",one,\" two: \",two)"
   ]
  },
  {
   "cell_type": "markdown",
   "id": "330e454f-eba0-4db4-b872-e90fea157825",
   "metadata": {},
   "source": [
    "The call to the isValidMove() function either returns the Boolean value False or a nonempty list."
   ]
  }
 ],
 "metadata": {
  "kernelspec": {
   "display_name": "Python 3 (ipykernel)",
   "language": "python",
   "name": "python3"
  },
  "language_info": {
   "codemirror_mode": {
    "name": "ipython",
    "version": 3
   },
   "file_extension": ".py",
   "mimetype": "text/x-python",
   "name": "python",
   "nbconvert_exporter": "python",
   "pygments_lexer": "ipython3",
   "version": "3.11.2"
  }
 },
 "nbformat": 4,
 "nbformat_minor": 5
}
